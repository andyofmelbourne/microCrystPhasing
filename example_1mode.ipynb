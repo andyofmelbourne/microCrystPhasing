{
 "metadata": {
  "name": "",
  "signature": "sha256:8fa215ac2fdc01f4bc1251761f53ee3d5771c8eceddc8feba0c789c863452a11"
 },
 "nbformat": 3,
 "nbformat_minor": 0,
 "worksheets": [
  {
   "cells": [
    {
     "cell_type": "code",
     "collapsed": false,
     "input": [
      "import numpy as np\n",
      "import bagOfns as bg\n",
      "import partial_coherence as pc\n",
      "%pylab inline"
     ],
     "language": "python",
     "metadata": {},
     "outputs": [
      {
       "output_type": "stream",
       "stream": "stdout",
       "text": [
        "Populating the interactive namespace from numpy and matplotlib\n"
       ]
      }
     ],
     "prompt_number": 1
    },
    {
     "cell_type": "markdown",
     "metadata": {},
     "source": [
      "$\n",
      "\\begin{align}\n",
      "I(q) = \\sum_c w_c \\left| \\sum_p \\rho(R_p q) e^{i t^c_p \\cdot q} \\right|^2\n",
      "\\end{align}\n",
      "$\n",
      "\n",
      "We want to get $\\rho(r)$ from $I(q)$ \n",
      "\n",
      "Vectorising...\n",
      "$\n",
      "\\begin{align}\n",
      "   \\rho_n \\equiv \\rho(r_n)\n",
      "\\end{align}\n",
      "$\n",
      "\n",
      "$\n",
      "\\begin{align}\n",
      "I_n &= \\sum_c w_c \\left| \\sum_p T^c_p \\cdot R_p \\cdot \\rho_n \\right|^2  \\\\\n",
      "    &= \\sum_c \\left| \\mathcal{L}^c \\cdot \\rho_n \\right|^2 \n",
      "\\end{align}\n",
      "$"
     ]
    },
    {
     "cell_type": "heading",
     "level": 1,
     "metadata": {},
     "source": [
      "Make a sample "
     ]
    },
    {
     "cell_type": "code",
     "collapsed": false,
     "input": [
      "F = bg.binary_in('example/F_8bit', dt=np.int8, dimFnam=True).astype(np.float64)\n",
      "# trim F to save memory\n",
      "F = F[30:190, 90:190]\n",
      "# down sample\n",
      "F = F[0:-1:4, 0:-1:4]\n",
      "imshow(F, interpolation='nearest')"
     ],
     "language": "python",
     "metadata": {},
     "outputs": [
      {
       "metadata": {},
       "output_type": "pyout",
       "prompt_number": 19,
       "text": [
        "<matplotlib.image.AxesImage at 0x9daebec>"
       ]
      },
      {
       "metadata": {},
       "output_type": "display_data",
       "png": "[encoded data removed]",
       "text": [
        "<matplotlib.figure.Figure at 0xa5c7d8c>"
       ]
      }
     ],
     "prompt_number": 19
    },
    {
     "cell_type": "heading",
     "level": 2,
     "metadata": {},
     "source": [
      "Make the rotation and translation opperators"
     ]
    },
    {
     "cell_type": "code",
     "collapsed": false,
     "input": [
      "shape          = (128, 128)\n",
      "sample_support = np.ones_like(F, dtype=np.bool)\n",
      "sample_support = bg.zero_pad(sample_support, shape)\n",
      "F              = bg.zero_pad(F, shape)"
     ],
     "language": "python",
     "metadata": {},
     "outputs": [],
     "prompt_number": 3
    },
    {
     "cell_type": "heading",
     "level": 3,
     "metadata": {},
     "source": [
      "We should work with 1d vectors for compatability with linear routines..."
     ]
    },
    {
     "cell_type": "code",
     "collapsed": false,
     "input": [
      "# Let's invent some rotations and translations\n",
      "# Choosing only multiples of 90 deg to avoid aliasing issues\n",
      "R0 = lambda x: x\n",
      "R1 = lambda x: np.rot90(x, k=1)\n",
      "R2 = lambda x: np.rot90(x, k=2)\n",
      "R3 = lambda x: np.rot90(x, k=3)\n",
      "R4 = lambda x: np.fliplr(x)\n",
      "R5 = lambda x: np.flipud(x)\n",
      "\n",
      "T0 = lambda x: x\n",
      "T1 = lambda x: np.roll(x, 10, 0)\n",
      "T2 = lambda x: np.roll(x, 10, 1)\n",
      "T3 = lambda x: np.roll(x, -10, 1)\n",
      "\n",
      "# L is the linear mapping that represents (R0 . x + T0) + (R1 . x + T1) + ... \n",
      "L = lambda x: T0(R0(x)) + T0(R1(x)) + T0(R2(x)) + T0(R3(x)) + T0(R4(x)) + T0(R5(x)) \\\n",
      "             +T1(R0(x)) + T2(R1(x)) + T3(R2(x)) + T1(R3(x)) + T2(R4(x)) + T3(R5(x)) "
     ],
     "language": "python",
     "metadata": {},
     "outputs": [],
     "prompt_number": 4
    },
    {
     "cell_type": "heading",
     "level": 1,
     "metadata": {},
     "source": [
      "Phase retrieval with one coherent mode"
     ]
    },
    {
     "cell_type": "code",
     "collapsed": false,
     "input": [
      "L_inv = pc.make_inverse(sample_support, L)"
     ],
     "language": "python",
     "metadata": {},
     "outputs": [
      {
       "output_type": "stream",
       "stream": "stdout",
       "text": [
        "making the b_mask...\n",
        "\n",
        "Mapping the problem to 2-D and 1-D real vectors...\n",
        "100- :-"
       ]
      },
      {
       "output_type": "stream",
       "stream": "stdout",
       "text": [
        "-"
       ]
      },
      {
       "output_type": "stream",
       "stream": "stdout",
       "text": [
        "-"
       ]
      },
      {
       "output_type": "stream",
       "stream": "stdout",
       "text": [
        "-"
       ]
      },
      {
       "output_type": "stream",
       "stream": "stdout",
       "text": [
        "-"
       ]
      },
      {
       "output_type": "stream",
       "stream": "stdout",
       "text": [
        "-"
       ]
      },
      {
       "output_type": "stream",
       "stream": "stdout",
       "text": [
        "-"
       ]
      },
      {
       "output_type": "stream",
       "stream": "stdout",
       "text": [
        "-"
       ]
      },
      {
       "output_type": "stream",
       "stream": "stdout",
       "text": [
        "-"
       ]
      },
      {
       "output_type": "stream",
       "stream": "stdout",
       "text": [
        "-"
       ]
      },
      {
       "output_type": "stream",
       "stream": "stdout",
       "text": [
        "-"
       ]
      },
      {
       "output_type": "stream",
       "stream": "stdout",
       "text": [
        "-"
       ]
      },
      {
       "output_type": "stream",
       "stream": "stdout",
       "text": [
        "-"
       ]
      },
      {
       "output_type": "stream",
       "stream": "stdout",
       "text": [
        "-"
       ]
      },
      {
       "output_type": "stream",
       "stream": "stdout",
       "text": [
        "-"
       ]
      },
      {
       "output_type": "stream",
       "stream": "stdout",
       "text": [
        "-"
       ]
      },
      {
       "output_type": "stream",
       "stream": "stdout",
       "text": [
        "-"
       ]
      },
      {
       "output_type": "stream",
       "stream": "stdout",
       "text": [
        "-"
       ]
      },
      {
       "output_type": "stream",
       "stream": "stdout",
       "text": [
        "-"
       ]
      },
      {
       "output_type": "stream",
       "stream": "stdout",
       "text": [
        "-"
       ]
      },
      {
       "output_type": "stream",
       "stream": "stdout",
       "text": [
        "-"
       ]
      },
      {
       "output_type": "stream",
       "stream": "stdout",
       "text": [
        "-"
       ]
      },
      {
       "output_type": "stream",
       "stream": "stdout",
       "text": [
        "-"
       ]
      },
      {
       "output_type": "stream",
       "stream": "stdout",
       "text": [
        "-"
       ]
      },
      {
       "output_type": "stream",
       "stream": "stdout",
       "text": [
        "-"
       ]
      },
      {
       "output_type": "stream",
       "stream": "stdout",
       "text": [
        "-"
       ]
      },
      {
       "output_type": "stream",
       "stream": "stdout",
       "text": [
        "-"
       ]
      },
      {
       "output_type": "stream",
       "stream": "stdout",
       "text": [
        "-"
       ]
      },
      {
       "output_type": "stream",
       "stream": "stdout",
       "text": [
        "-"
       ]
      },
      {
       "output_type": "stream",
       "stream": "stdout",
       "text": [
        "-"
       ]
      },
      {
       "output_type": "stream",
       "stream": "stdout",
       "text": [
        "-"
       ]
      },
      {
       "output_type": "stream",
       "stream": "stdout",
       "text": [
        "-"
       ]
      },
      {
       "output_type": "stream",
       "stream": "stdout",
       "text": [
        "-"
       ]
      },
      {
       "output_type": "stream",
       "stream": "stdout",
       "text": [
        "-"
       ]
      },
      {
       "output_type": "stream",
       "stream": "stdout",
       "text": [
        "-"
       ]
      },
      {
       "output_type": "stream",
       "stream": "stdout",
       "text": [
        "-"
       ]
      },
      {
       "output_type": "stream",
       "stream": "stdout",
       "text": [
        "-"
       ]
      },
      {
       "output_type": "stream",
       "stream": "stdout",
       "text": [
        "-"
       ]
      },
      {
       "output_type": "stream",
       "stream": "stdout",
       "text": [
        "-"
       ]
      },
      {
       "output_type": "stream",
       "stream": "stdout",
       "text": [
        "-"
       ]
      },
      {
       "output_type": "stream",
       "stream": "stdout",
       "text": [
        "-"
       ]
      },
      {
       "output_type": "stream",
       "stream": "stdout",
       "text": [
        "-"
       ]
      },
      {
       "output_type": "stream",
       "stream": "stdout",
       "text": [
        "-"
       ]
      },
      {
       "output_type": "stream",
       "stream": "stdout",
       "text": [
        "-"
       ]
      },
      {
       "output_type": "stream",
       "stream": "stdout",
       "text": [
        "-"
       ]
      },
      {
       "output_type": "stream",
       "stream": "stdout",
       "text": [
        "-"
       ]
      },
      {
       "output_type": "stream",
       "stream": "stdout",
       "text": [
        "-"
       ]
      },
      {
       "output_type": "stream",
       "stream": "stdout",
       "text": [
        "-"
       ]
      },
      {
       "output_type": "stream",
       "stream": "stdout",
       "text": [
        "-"
       ]
      },
      {
       "output_type": "stream",
       "stream": "stdout",
       "text": [
        "-"
       ]
      },
      {
       "output_type": "stream",
       "stream": "stdout",
       "text": [
        "-"
       ]
      },
      {
       "output_type": "stream",
       "stream": "stdout",
       "text": [
        "-"
       ]
      },
      {
       "output_type": "stream",
       "stream": "stdout",
       "text": [
        "-"
       ]
      },
      {
       "output_type": "stream",
       "stream": "stdout",
       "text": [
        "-"
       ]
      },
      {
       "output_type": "stream",
       "stream": "stdout",
       "text": [
        "-"
       ]
      },
      {
       "output_type": "stream",
       "stream": "stdout",
       "text": [
        "-"
       ]
      },
      {
       "output_type": "stream",
       "stream": "stdout",
       "text": [
        "-"
       ]
      },
      {
       "output_type": "stream",
       "stream": "stdout",
       "text": [
        "-"
       ]
      },
      {
       "output_type": "stream",
       "stream": "stdout",
       "text": [
        "-"
       ]
      },
      {
       "output_type": "stream",
       "stream": "stdout",
       "text": [
        "-"
       ]
      },
      {
       "output_type": "stream",
       "stream": "stdout",
       "text": [
        "-"
       ]
      },
      {
       "output_type": "stream",
       "stream": "stdout",
       "text": [
        "-"
       ]
      },
      {
       "output_type": "stream",
       "stream": "stdout",
       "text": [
        "-"
       ]
      },
      {
       "output_type": "stream",
       "stream": "stdout",
       "text": [
        "-"
       ]
      },
      {
       "output_type": "stream",
       "stream": "stdout",
       "text": [
        "-"
       ]
      },
      {
       "output_type": "stream",
       "stream": "stdout",
       "text": [
        "-"
       ]
      },
      {
       "output_type": "stream",
       "stream": "stdout",
       "text": [
        "-"
       ]
      },
      {
       "output_type": "stream",
       "stream": "stdout",
       "text": [
        "-"
       ]
      },
      {
       "output_type": "stream",
       "stream": "stdout",
       "text": [
        "-"
       ]
      },
      {
       "output_type": "stream",
       "stream": "stdout",
       "text": [
        "-"
       ]
      },
      {
       "output_type": "stream",
       "stream": "stdout",
       "text": [
        "-"
       ]
      },
      {
       "output_type": "stream",
       "stream": "stdout",
       "text": [
        "-"
       ]
      },
      {
       "output_type": "stream",
       "stream": "stdout",
       "text": [
        "-"
       ]
      },
      {
       "output_type": "stream",
       "stream": "stdout",
       "text": [
        "-"
       ]
      },
      {
       "output_type": "stream",
       "stream": "stdout",
       "text": [
        "-"
       ]
      },
      {
       "output_type": "stream",
       "stream": "stdout",
       "text": [
        "-"
       ]
      },
      {
       "output_type": "stream",
       "stream": "stdout",
       "text": [
        "-"
       ]
      },
      {
       "output_type": "stream",
       "stream": "stdout",
       "text": [
        "-"
       ]
      },
      {
       "output_type": "stream",
       "stream": "stdout",
       "text": [
        "-"
       ]
      },
      {
       "output_type": "stream",
       "stream": "stdout",
       "text": [
        "-"
       ]
      },
      {
       "output_type": "stream",
       "stream": "stdout",
       "text": [
        "-"
       ]
      },
      {
       "output_type": "stream",
       "stream": "stdout",
       "text": [
        "-"
       ]
      },
      {
       "output_type": "stream",
       "stream": "stdout",
       "text": [
        "-"
       ]
      },
      {
       "output_type": "stream",
       "stream": "stdout",
       "text": [
        "-"
       ]
      },
      {
       "output_type": "stream",
       "stream": "stdout",
       "text": [
        "-"
       ]
      },
      {
       "output_type": "stream",
       "stream": "stdout",
       "text": [
        "-"
       ]
      },
      {
       "output_type": "stream",
       "stream": "stdout",
       "text": [
        "-"
       ]
      },
      {
       "output_type": "stream",
       "stream": "stdout",
       "text": [
        "-"
       ]
      },
      {
       "output_type": "stream",
       "stream": "stdout",
       "text": [
        "-"
       ]
      },
      {
       "output_type": "stream",
       "stream": "stdout",
       "text": [
        "-"
       ]
      },
      {
       "output_type": "stream",
       "stream": "stdout",
       "text": [
        "-"
       ]
      },
      {
       "output_type": "stream",
       "stream": "stdout",
       "text": [
        "-"
       ]
      },
      {
       "output_type": "stream",
       "stream": "stdout",
       "text": [
        "-"
       ]
      },
      {
       "output_type": "stream",
       "stream": "stdout",
       "text": [
        "-"
       ]
      },
      {
       "output_type": "stream",
       "stream": "stdout",
       "text": [
        "-"
       ]
      },
      {
       "output_type": "stream",
       "stream": "stdout",
       "text": [
        "\n",
        "\n",
        "Performing singular value decomposition...\n",
        "\n",
        "|| I - A_inv . A || = "
       ]
      },
      {
       "output_type": "stream",
       "stream": "stdout",
       "text": [
        " 5.09180386261e-15\n"
       ]
      }
     ],
     "prompt_number": 5
    },
    {
     "cell_type": "code",
     "collapsed": false,
     "input": [
      "print np.allclose(L_inv(L(F)), F)"
     ],
     "language": "python",
     "metadata": {},
     "outputs": [
      {
       "output_type": "stream",
       "stream": "stdout",
       "text": [
        "True\n"
       ]
      }
     ],
     "prompt_number": 6
    },
    {
     "cell_type": "code",
     "collapsed": false,
     "input": [
      "I = np.abs(bg.fft2(L(F) + 0.0J))**2"
     ],
     "language": "python",
     "metadata": {},
     "outputs": [],
     "prompt_number": 7
    },
    {
     "cell_type": "code",
     "collapsed": false,
     "input": [
      "sample = np.random.random(F.shape) * sample_support + 0.0\n",
      "exit   = L(sample)\n",
      "sample_0 = sample.copy()\n",
      "\n",
      "\n",
      "def _Pmod(exit, diffraction_pattern, alpha=1.0e-10):\n",
      "    # go to the detector\n",
      "    exit = bg.fft2(exit)\n",
      "    \n",
      "    # apply the modulus constraint\n",
      "    exit = exit * np.sqrt(diffraction_pattern) / (np.abs(exit) + alpha)\n",
      "    \n",
      "    # back to real-space\n",
      "    exit = bg.ifft2(exit)\n",
      "    \n",
      "    return exit\n",
      "\n",
      "\n",
      "def _Psup(ex, mapping, inv_mapping):\n",
      "    s        = inv_mapping(ex) \n",
      "    exit_out = mapping(s)       \n",
      "    return exit_out\n",
      "\n",
      "\n",
      "Pmod   = lambda x: _Pmod(x, I)\n",
      "Psup   = lambda x: _Psup(x, L, L_inv)\n",
      "ERA    = lambda x: Psup(Pmod(x))\n",
      "HIO    = lambda x: bg.HIO(x, Pmod, Psup, beta=1.)\n",
      "\n",
      "\n",
      "iters = 500\n",
      "e_mod = []\n",
      "e_sup = []\n",
      "e_fid = []\n",
      "for i in range(iters):\n",
      "    exit = HIO(exit)\n",
      "    \n",
      "    sample = L_inv(exit)\n",
      "    # calculate the fidelity and modulus error\n",
      "    e_mod.append(bg.l2norm(np.sqrt(I), np.abs(bg.fft2(exit))))\n",
      "    e_sup.append(bg.l2norm(exit, Psup(exit)))\n",
      "    e_fid.append(bg.l2norm(F + 0.0J, sample))\n",
      "    \n",
      "    bg.update_progress(i / max(1.0, float(iters-1)), 'ERA', i, e_mod[-1], e_fid[-1])\n"
     ],
     "language": "python",
     "metadata": {},
     "outputs": [
      {
       "output_type": "stream",
       "stream": "stdout",
       "text": [
        "\r",
        "ERA: [---------------] 0% 0 0.46317430187 1.10176603048       "
       ]
      },
      {
       "output_type": "stream",
       "stream": "stdout",
       "text": [
        "\r",
        "ERA: [---------------] 0% 1 0.440627585 1.19694399795       "
       ]
      },
      {
       "output_type": "stream",
       "stream": "stdout",
       "text": [
        "\r",
        "ERA: [---------------] 0% 2 0.429905879153 1.28007663852       "
       ]
      },
      {
       "output_type": "stream",
       "stream": "stdout",
       "text": [
        "\r",
        "ERA: [---------------] 0% 3 0.417066023978 1.24274615142       "
       ]
      },
      {
       "output_type": "stream",
       "stream": "stdout",
       "text": [
        "\r",
        "ERA: [---------------] 0% 4 0.401628112334 1.22680966493       "
       ]
      },
      {
       "output_type": "stream",
       "stream": "stdout",
       "text": [
        "\r",
        "ERA: [---------------] 1% 5 0.418998962355 1.25501630598       "
       ]
      },
      {
       "output_type": "stream",
       "stream": "stdout",
       "text": [
        "\r",
        "ERA: [---------------] 1% 6 0.403660093628 1.27573608947       "
       ]
      },
      {
       "output_type": "stream",
       "stream": "stdout",
       "text": [
        "\r",
        "ERA: [---------------] 1% 7 0.421133121239 1.25636023824       "
       ]
      },
      {
       "output_type": "stream",
       "stream": "stdout",
       "text": [
        "\r",
        "ERA: [---------------] 1% 8 0.435599189716 1.24612705467       "
       ]
      },
      {
       "output_type": "stream",
       "stream": "stdout",
       "text": [
        "\r",
        "ERA: [---------------] 1% 9 0.443663732145 1.24001899247       "
       ]
      },
      {
       "output_type": "stream",
       "stream": "stdout",
       "text": [
        "\r",
        "ERA: [---------------] 2% 10 0.450724059947 1.1707745341       "
       ]
      },
      {
       "output_type": "stream",
       "stream": "stdout",
       "text": [
        "\r",
        "ERA: [---------------] 2% 11 0.452745853437 1.12430485867       "
       ]
      },
      {
       "output_type": "stream",
       "stream": "stdout",
       "text": [
        "\r",
        "ERA: [---------------] 2% 12 0.438932151787 1.09132940607       "
       ]
      },
      {
       "output_type": "stream",
       "stream": "stdout",
       "text": [
        "\r",
        "ERA: [---------------] 2% 13 0.431802720254 1.09948397987       "
       ]
      },
      {
       "output_type": "stream",
       "stream": "stdout",
       "text": [
        "\r",
        "ERA: [---------------] 2% 14 0.422809625322 1.07414551866       "
       ]
      },
      {
       "output_type": "stream",
       "stream": "stdout",
       "text": [
        "\r",
        "ERA: [---------------] 3% 15 0.422330525652 1.04712594222       "
       ]
      },
      {
       "output_type": "stream",
       "stream": "stdout",
       "text": [
        "\r",
        "ERA: [---------------] 3% 16 0.418046276758 1.03929503269       "
       ]
      },
      {
       "output_type": "stream",
       "stream": "stdout",
       "text": [
        "\r",
        "ERA: [#--------------] 3% 17 0.416541596985 1.02029068612       "
       ]
      },
      {
       "output_type": "stream",
       "stream": "stdout",
       "text": [
        "\r",
        "ERA: [#--------------] 3% 18 0.414503367818 0.971933403571       "
       ]
      },
      {
       "output_type": "stream",
       "stream": "stdout",
       "text": [
        "\r",
        "ERA: [#--------------] 3% 19 0.406925815989 0.8794801263       "
       ]
      },
      {
       "output_type": "stream",
       "stream": "stdout",
       "text": [
        "\r",
        "ERA: [#--------------] 4% 20 0.402228636249 0.832915317098       "
       ]
      },
      {
       "output_type": "stream",
       "stream": "stdout",
       "text": [
        "\r",
        "ERA: [#--------------] 4% 21 0.393400125663 0.771553980003       "
       ]
      },
      {
       "output_type": "stream",
       "stream": "stdout",
       "text": [
        "\r",
        "ERA: [#--------------] 4% 22 0.381333148111 0.713538370999       "
       ]
      },
      {
       "output_type": "stream",
       "stream": "stdout",
       "text": [
        "\r",
        "ERA: [#--------------] 4% 23 0.373019103446 0.689349124266       "
       ]
      },
      {
       "output_type": "stream",
       "stream": "stdout",
       "text": [
        "\r",
        "ERA: [#--------------] 4% 24 0.364774604569 0.678720911482       "
       ]
      },
      {
       "output_type": "stream",
       "stream": "stdout",
       "text": [
        "\r",
        "ERA: [#--------------] 5% 25 0.356513626813 0.654968881474       "
       ]
      },
      {
       "output_type": "stream",
       "stream": "stdout",
       "text": [
        "\r",
        "ERA: [#--------------] 5% 26 0.350038197445 0.625790653952       "
       ]
      },
      {
       "output_type": "stream",
       "stream": "stdout",
       "text": [
        "\r",
        "ERA: [#--------------] 5% 27 0.345157917835 0.609789251364       "
       ]
      },
      {
       "output_type": "stream",
       "stream": "stdout",
       "text": [
        "\r",
        "ERA: [#--------------] 5% 28 0.341761615564 0.593574982725       "
       ]
      },
      {
       "output_type": "stream",
       "stream": "stdout",
       "text": [
        "\r",
        "ERA: [#--------------] 5% 29 0.338014382272 0.582506269131       "
       ]
      },
      {
       "output_type": "stream",
       "stream": "stdout",
       "text": [
        "\r",
        "ERA: [#--------------] 6% 30 0.335006595209 0.572779451126       "
       ]
      },
      {
       "output_type": "stream",
       "stream": "stdout",
       "text": [
        "\r",
        "ERA: [#--------------] 6% 31 0.332267689777 0.567418159118       "
       ]
      },
      {
       "output_type": "stream",
       "stream": "stdout",
       "text": [
        "\r",
        "ERA: [#--------------] 6% 32 0.331095958648 0.56720678691       "
       ]
      },
      {
       "output_type": "stream",
       "stream": "stdout",
       "text": [
        "\r",
        "ERA: [#--------------] 6% 33 0.329971519971 0.566823195415       "
       ]
      },
      {
       "output_type": "stream",
       "stream": "stdout",
       "text": [
        "\r",
        "ERA: [#--------------] 6% 34 0.32986421221 0.559338913715       "
       ]
      },
      {
       "output_type": "stream",
       "stream": "stdout",
       "text": [
        "\r",
        "ERA: [#--------------] 7% 35 0.329644763951 0.550594913063       "
       ]
      },
      {
       "output_type": "stream",
       "stream": "stdout",
       "text": [
        "\r",
        "ERA: [#--------------] 7% 36 0.329536707215 0.541036566251       "
       ]
      },
      {
       "output_type": "stream",
       "stream": "stdout",
       "text": [
        "\r",
        "ERA: [#--------------] 7% 37 0.329599254257 0.530209014365       "
       ]
      },
      {
       "output_type": "stream",
       "stream": "stdout",
       "text": [
        "\r",
        "ERA: [#--------------] 7% 38 0.329744751598 0.521423419491       "
       ]
      },
      {
       "output_type": "stream",
       "stream": "stdout",
       "text": [
        "\r",
        "ERA: [#--------------] 7% 39 0.329656603273 0.517403438285       "
       ]
      },
      {
       "output_type": "stream",
       "stream": "stdout",
       "text": [
        "\r",
        "ERA: [#--------------] 8% 40 0.330290377223 0.516533990794       "
       ]
      },
      {
       "output_type": "stream",
       "stream": "stdout",
       "text": [
        "\r",
        "ERA: [#--------------] 8% 41 0.331016998031 0.519466890699       "
       ]
      },
      {
       "output_type": "stream",
       "stream": "stdout",
       "text": [
        "\r",
        "ERA: [#--------------] 8% 42 0.331728091717 0.516556936477       "
       ]
      },
      {
       "output_type": "stream",
       "stream": "stdout",
       "text": [
        "\r",
        "ERA: [#--------------] 8% 43 0.331802505204 0.50935840489       "
       ]
      },
      {
       "output_type": "stream",
       "stream": "stdout",
       "text": [
        "\r",
        "ERA: [#--------------] 8% 44 0.331940889482 0.503779677068       "
       ]
      },
      {
       "output_type": "stream",
       "stream": "stdout",
       "text": [
        "\r",
        "ERA: [#--------------] 9% 45 0.331586785434 0.493156057727       "
       ]
      },
      {
       "output_type": "stream",
       "stream": "stdout",
       "text": [
        "\r",
        "ERA: [#--------------] 9% 46 0.331263960073 0.480527166519       "
       ]
      },
      {
       "output_type": "stream",
       "stream": "stdout",
       "text": [
        "\r",
        "ERA: [#--------------] 9% 47 0.331025205536 0.468042334956       "
       ]
      },
      {
       "output_type": "stream",
       "stream": "stdout",
       "text": [
        "\r",
        "ERA: [#--------------] 9% 48 0.330896173996 0.462494444826       "
       ]
      },
      {
       "output_type": "stream",
       "stream": "stdout",
       "text": [
        "\r",
        "ERA: [#--------------] 9% 49 0.331354453215 0.455772039391       "
       ]
      },
      {
       "output_type": "stream",
       "stream": "stdout",
       "text": [
        "\r",
        "ERA: [##-------------] 10% 50 0.331630174373 0.450586401338       "
       ]
      },
      {
       "output_type": "stream",
       "stream": "stdout",
       "text": [
        "\r",
        "ERA: [##-------------] 10% 51 0.331836343115 0.444753114457       "
       ]
      },
      {
       "output_type": "stream",
       "stream": "stdout",
       "text": [
        "\r",
        "ERA: [##-------------] 10% 52 0.332548153316 0.439239077103       "
       ]
      },
      {
       "output_type": "stream",
       "stream": "stdout",
       "text": [
        "\r",
        "ERA: [##-------------] 10% 53 0.333172740297 0.434473524579       "
       ]
      },
      {
       "output_type": "stream",
       "stream": "stdout",
       "text": [
        "\r",
        "ERA: [##-------------] 10% 54 0.334066480126 0.428638364532       "
       ]
      },
      {
       "output_type": "stream",
       "stream": "stdout",
       "text": [
        "\r",
        "ERA: [##-------------] 11% 55 0.334103824177 0.419028132094       "
       ]
      },
      {
       "output_type": "stream",
       "stream": "stdout",
       "text": [
        "\r",
        "ERA: [##-------------] 11% 56 0.334095051499 0.404342988592       "
       ]
      },
      {
       "output_type": "stream",
       "stream": "stdout",
       "text": [
        "\r",
        "ERA: [##-------------] 11% 57 0.333963967002 0.39530907741       "
       ]
      },
      {
       "output_type": "stream",
       "stream": "stdout",
       "text": [
        "\r",
        "ERA: [##-------------] 11% 58 0.333545420804 0.386587001595       "
       ]
      },
      {
       "output_type": "stream",
       "stream": "stdout",
       "text": [
        "\r",
        "ERA: [##-------------] 11% 59 0.333540924448 0.380046791891       "
       ]
      },
      {
       "output_type": "stream",
       "stream": "stdout",
       "text": [
        "\r",
        "ERA: [##-------------] 12% 60 0.333935365063 0.374918524394       "
       ]
      },
      {
       "output_type": "stream",
       "stream": "stdout",
       "text": [
        "\r",
        "ERA: [##-------------] 12% 61 0.334792479864 0.371400483768       "
       ]
      },
      {
       "output_type": "stream",
       "stream": "stdout",
       "text": [
        "\r",
        "ERA: [##-------------] 12% 62 0.335977698462 0.368839579932       "
       ]
      },
      {
       "output_type": "stream",
       "stream": "stdout",
       "text": [
        "\r",
        "ERA: [##-------------] 12% 63 0.336616829429 0.362359342654       "
       ]
      },
      {
       "output_type": "stream",
       "stream": "stdout",
       "text": [
        "\r",
        "ERA: [##-------------] 12% 64 0.336733448766 0.34864353234       "
       ]
      },
      {
       "output_type": "stream",
       "stream": "stdout",
       "text": [
        "\r",
        "ERA: [##-------------] 13% 65 0.336958698067 0.340603449871       "
       ]
      },
      {
       "output_type": "stream",
       "stream": "stdout",
       "text": [
        "\r",
        "ERA: [##-------------] 13% 66 0.336784393607 0.331075406024       "
       ]
      },
      {
       "output_type": "stream",
       "stream": "stdout",
       "text": [
        "\r",
        "ERA: [##-------------] 13% 67 0.335927626211 0.317079163255       "
       ]
      },
      {
       "output_type": "stream",
       "stream": "stdout",
       "text": [
        "\r",
        "ERA: [##-------------] 13% 68 0.334595463116 0.301707976981       "
       ]
      },
      {
       "output_type": "stream",
       "stream": "stdout",
       "text": [
        "\r",
        "ERA: [##-------------] 13% 69 0.332403708217 0.284933741929       "
       ]
      },
      {
       "output_type": "stream",
       "stream": "stdout",
       "text": [
        "\r",
        "ERA: [##-------------] 14% 70 0.330174739669 0.270980575989       "
       ]
      },
      {
       "output_type": "stream",
       "stream": "stdout",
       "text": [
        "\r",
        "ERA: [##-------------] 14% 71 0.328180782164 0.257957316978       "
       ]
      },
      {
       "output_type": "stream",
       "stream": "stdout",
       "text": [
        "\r",
        "ERA: [##-------------] 14% 72 0.326678017786 0.245494562011       "
       ]
      },
      {
       "output_type": "stream",
       "stream": "stdout",
       "text": [
        "\r",
        "ERA: [##-------------] 14% 73 0.325466173623 0.234516888513       "
       ]
      },
      {
       "output_type": "stream",
       "stream": "stdout",
       "text": [
        "\r",
        "ERA: [##-------------] 14% 74 0.324426530734 0.222273958915       "
       ]
      },
      {
       "output_type": "stream",
       "stream": "stdout",
       "text": [
        "\r",
        "ERA: [##-------------] 15% 75 0.3233161276 0.210540956462       "
       ]
      },
      {
       "output_type": "stream",
       "stream": "stdout",
       "text": [
        "\r",
        "ERA: [##-------------] 15% 76 0.322285545528 0.198203330162       "
       ]
      },
      {
       "output_type": "stream",
       "stream": "stdout",
       "text": [
        "\r",
        "ERA: [##-------------] 15% 77 0.321338125076 0.18944059462       "
       ]
      },
      {
       "output_type": "stream",
       "stream": "stdout",
       "text": [
        "\r",
        "ERA: [##-------------] 15% 78 0.320515652769 0.180342359688       "
       ]
      },
      {
       "output_type": "stream",
       "stream": "stdout",
       "text": [
        "\r",
        "ERA: [##-------------] 15% 79 0.319755860965 0.173760855162       "
       ]
      },
      {
       "output_type": "stream",
       "stream": "stdout",
       "text": [
        "\r",
        "ERA: [##-------------] 16% 80 0.319067222684 0.167699668156       "
       ]
      },
      {
       "output_type": "stream",
       "stream": "stdout",
       "text": [
        "\r",
        "ERA: [##-------------] 16% 81 0.318459795992 0.162303550206       "
       ]
      },
      {
       "output_type": "stream",
       "stream": "stdout",
       "text": [
        "\r",
        "ERA: [##-------------] 16% 82 0.317898647644 0.156858360872       "
       ]
      },
      {
       "output_type": "stream",
       "stream": "stdout",
       "text": [
        "\r",
        "ERA: [##-------------] 16% 83 0.317431688315 0.149999123585       "
       ]
      },
      {
       "output_type": "stream",
       "stream": "stdout",
       "text": [
        "\r",
        "ERA: [###------------] 16% 84 0.317079185977 0.145690803998       "
       ]
      },
      {
       "output_type": "stream",
       "stream": "stdout",
       "text": [
        "\r",
        "ERA: [###------------] 17% 85 0.316764249109 0.140372214279       "
       ]
      },
      {
       "output_type": "stream",
       "stream": "stdout",
       "text": [
        "\r",
        "ERA: [###------------] 17% 86 0.316503572099 0.135802151397       "
       ]
      },
      {
       "output_type": "stream",
       "stream": "stdout",
       "text": [
        "\r",
        "ERA: [###------------] 17% 87 0.316294294832 0.130787787669       "
       ]
      },
      {
       "output_type": "stream",
       "stream": "stdout",
       "text": [
        "\r",
        "ERA: [###------------] 17% 88 0.316088267977 0.124879719537       "
       ]
      },
      {
       "output_type": "stream",
       "stream": "stdout",
       "text": [
        "\r",
        "ERA: [###------------] 17% 89 0.315880852292 0.119806952065       "
       ]
      },
      {
       "output_type": "stream",
       "stream": "stdout",
       "text": [
        "\r",
        "ERA: [###------------] 18% 90 0.315692626301 0.114780350119       "
       ]
      },
      {
       "output_type": "stream",
       "stream": "stdout",
       "text": [
        "\r",
        "ERA: [###------------] 18% 91 0.315486609932 0.110005398146       "
       ]
      },
      {
       "output_type": "stream",
       "stream": "stdout",
       "text": [
        "\r",
        "ERA: [###------------] 18% 92 0.315276298485 0.105814813218       "
       ]
      },
      {
       "output_type": "stream",
       "stream": "stdout",
       "text": [
        "\r",
        "ERA: [###------------] 18% 93 0.315070907471 0.103452480576       "
       ]
      },
      {
       "output_type": "stream",
       "stream": "stdout",
       "text": [
        "\r",
        "ERA: [###------------] 18% 94 0.314891450681 0.101496072265       "
       ]
      },
      {
       "output_type": "stream",
       "stream": "stdout",
       "text": [
        "\r",
        "ERA: [###------------] 19% 95 0.314735727962 0.0990102936624       "
       ]
      },
      {
       "output_type": "stream",
       "stream": "stdout",
       "text": [
        "\r",
        "ERA: [###------------] 19% 96 0.314597489622 0.0966517781084       "
       ]
      },
      {
       "output_type": "stream",
       "stream": "stdout",
       "text": [
        "\r",
        "ERA: [###------------] 19% 97 0.314468840733 0.0933408519161       "
       ]
      },
      {
       "output_type": "stream",
       "stream": "stdout",
       "text": [
        "\r",
        "ERA: [###------------] 19% 98 0.31435611368 0.0906710358562       "
       ]
      },
      {
       "output_type": "stream",
       "stream": "stdout",
       "text": [
        "\r",
        "ERA: [###------------] 19% 99 0.314249227915 0.0872179457738       "
       ]
      },
      {
       "output_type": "stream",
       "stream": "stdout",
       "text": [
        "\r",
        "ERA: [###------------] 20% 100 0.31414746637 0.0837847746146       "
       ]
      },
      {
       "output_type": "stream",
       "stream": "stdout",
       "text": [
        "\r",
        "ERA: [###------------] 20% 101 0.314036888653 0.080404061203       "
       ]
      },
      {
       "output_type": "stream",
       "stream": "stdout",
       "text": [
        "\r",
        "ERA: [###------------] 20% 102 0.313930486797 0.0775379141334       "
       ]
      },
      {
       "output_type": "stream",
       "stream": "stdout",
       "text": [
        "\r",
        "ERA: [###------------] 20% 103 0.313831585795 0.0752761190369       "
       ]
      },
      {
       "output_type": "stream",
       "stream": "stdout",
       "text": [
        "\r",
        "ERA: [###------------] 20% 104 0.313746087167 0.0730322454781       "
       ]
      },
      {
       "output_type": "stream",
       "stream": "stdout",
       "text": [
        "\r",
        "ERA: [###------------] 21% 105 0.313666767532 0.0707725813815       "
       ]
      },
      {
       "output_type": "stream",
       "stream": "stdout",
       "text": [
        "\r",
        "ERA: [###------------] 21% 106 0.313596271507 0.0682754450311       "
       ]
      },
      {
       "output_type": "stream",
       "stream": "stdout",
       "text": [
        "\r",
        "ERA: [###------------] 21% 107 0.313523928392 0.0657672221472       "
       ]
      },
      {
       "output_type": "stream",
       "stream": "stdout",
       "text": [
        "\r",
        "ERA: [###------------] 21% 108 0.313457260365 0.0634539763012       "
       ]
      },
      {
       "output_type": "stream",
       "stream": "stdout",
       "text": [
        "\r",
        "ERA: [###------------] 21% 109 0.313391537093 0.0614234919612       "
       ]
      },
      {
       "output_type": "stream",
       "stream": "stdout",
       "text": [
        "\r",
        "ERA: [###------------] 22% 110 0.31333264598 0.0595608176236       "
       ]
      },
      {
       "output_type": "stream",
       "stream": "stdout",
       "text": [
        "\r",
        "ERA: [###------------] 22% 111 0.313275078267 0.0578063459676       "
       ]
      },
      {
       "output_type": "stream",
       "stream": "stdout",
       "text": [
        "\r",
        "ERA: [###------------] 22% 112 0.313219053324 0.0560905624491       "
       ]
      },
      {
       "output_type": "stream",
       "stream": "stdout",
       "text": [
        "\r",
        "ERA: [###------------] 22% 113 0.313162628004 0.0546341526844       "
       ]
      },
      {
       "output_type": "stream",
       "stream": "stdout",
       "text": [
        "\r",
        "ERA: [###------------] 22% 114 0.313106881644 0.0531502894153       "
       ]
      },
      {
       "output_type": "stream",
       "stream": "stdout",
       "text": [
        "\r",
        "ERA: [###------------] 23% 115 0.31304592317 0.0517860003924       "
       ]
      },
      {
       "output_type": "stream",
       "stream": "stdout",
       "text": [
        "\r",
        "ERA: [###------------] 23% 116 0.312979638124 0.0508100993755       "
       ]
      },
      {
       "output_type": "stream",
       "stream": "stdout",
       "text": [
        "\r",
        "ERA: [####-----------] 23% 117 0.312909199806 0.0498803826323       "
       ]
      },
      {
       "output_type": "stream",
       "stream": "stdout",
       "text": [
        "\r",
        "ERA: [####-----------] 23% 118 0.312838237273 0.0490020441025       "
       ]
      },
      {
       "output_type": "stream",
       "stream": "stdout",
       "text": [
        "\r",
        "ERA: [####-----------] 23% 119 0.312770043846 0.0485582303226       "
       ]
      },
      {
       "output_type": "stream",
       "stream": "stdout",
       "text": [
        "\r",
        "ERA: [####-----------] 24% 120 0.312708858702 0.0481490697705       "
       ]
      },
      {
       "output_type": "stream",
       "stream": "stdout",
       "text": [
        "\r",
        "ERA: [####-----------] 24% 121 0.312657184543 0.0478657551161       "
       ]
      },
      {
       "output_type": "stream",
       "stream": "stdout",
       "text": [
        "\r",
        "ERA: [####-----------] 24% 122 0.312616404869 0.0475779762338       "
       ]
      },
      {
       "output_type": "stream",
       "stream": "stdout",
       "text": [
        "\r",
        "ERA: [####-----------] 24% 123 0.312586602463 0.0472180463543       "
       ]
      },
      {
       "output_type": "stream",
       "stream": "stdout",
       "text": [
        "\r",
        "ERA: [####-----------] 24% 124 0.31256634988 0.0468939966268       "
       ]
      },
      {
       "output_type": "stream",
       "stream": "stdout",
       "text": [
        "\r",
        "ERA: [####-----------] 25% 125 0.312553831676 0.0463181437401       "
       ]
      },
      {
       "output_type": "stream",
       "stream": "stdout",
       "text": [
        "\r",
        "ERA: [####-----------] 25% 126 0.31254684431 0.0457432336028       "
       ]
      },
      {
       "output_type": "stream",
       "stream": "stdout",
       "text": [
        "\r",
        "ERA: [####-----------] 25% 127 0.312543964051 0.0449250447296       "
       ]
      },
      {
       "output_type": "stream",
       "stream": "stdout",
       "text": [
        "\r",
        "ERA: [####-----------] 25% 128 0.312541979995 0.0441667747522       "
       ]
      },
      {
       "output_type": "stream",
       "stream": "stdout",
       "text": [
        "\r",
        "ERA: [####-----------] 25% 129 0.312539692661 0.0433119845621       "
       ]
      },
      {
       "output_type": "stream",
       "stream": "stdout",
       "text": [
        "\r",
        "ERA: [####-----------] 26% 130 0.312537144286 0.042475840621       "
       ]
      },
      {
       "output_type": "stream",
       "stream": "stdout",
       "text": [
        "\r",
        "ERA: [####-----------] 26% 131 0.312534244461 0.0416950392747       "
       ]
      },
      {
       "output_type": "stream",
       "stream": "stdout",
       "text": [
        "\r",
        "ERA: [####-----------] 26% 132 0.312534742893 0.0409938478423       "
       ]
      },
      {
       "output_type": "stream",
       "stream": "stdout",
       "text": [
        "\r",
        "ERA: [####-----------] 26% 133 0.312535295717 0.0405832840821       "
       ]
      },
      {
       "output_type": "stream",
       "stream": "stdout",
       "text": [
        "\r",
        "ERA: [####-----------] 26% 134 0.312536114256 0.0402819931671       "
       ]
      },
      {
       "output_type": "stream",
       "stream": "stdout",
       "text": [
        "\r",
        "ERA: [####-----------] 27% 135 0.312537268492 0.0400456062829       "
       ]
      },
      {
       "output_type": "stream",
       "stream": "stdout",
       "text": [
        "\r",
        "ERA: [####-----------] 27% 136 0.312536953804 0.0399017279413       "
       ]
      },
      {
       "output_type": "stream",
       "stream": "stdout",
       "text": [
        "\r",
        "ERA: [####-----------] 27% 137 0.312532993621 0.039731642427       "
       ]
      },
      {
       "output_type": "stream",
       "stream": "stdout",
       "text": [
        "\r",
        "ERA: [####-----------] 27% 138 0.312524601551 0.0396987314667       "
       ]
      },
      {
       "output_type": "stream",
       "stream": "stdout",
       "text": [
        "\r",
        "ERA: [####-----------] 27% 139 0.31251237063 0.0396225752445       "
       ]
      },
      {
       "output_type": "stream",
       "stream": "stdout",
       "text": [
        "\r",
        "ERA: [####-----------] 28% 140 0.312497589188 0.0396723201742       "
       ]
      },
      {
       "output_type": "stream",
       "stream": "stdout",
       "text": [
        "\r",
        "ERA: [####-----------] 28% 141 0.312481729423 0.0398169356292       "
       ]
      },
      {
       "output_type": "stream",
       "stream": "stdout",
       "text": [
        "\r",
        "ERA: [####-----------] 28% 142 0.312466916557 0.0399355233295       "
       ]
      },
      {
       "output_type": "stream",
       "stream": "stdout",
       "text": [
        "\r",
        "ERA: [####-----------] 28% 143 0.31245496087 0.0400773956546       "
       ]
      },
      {
       "output_type": "stream",
       "stream": "stdout",
       "text": [
        "\r",
        "ERA: [####-----------] 28% 144 0.312446710206 0.0400915643641       "
       ]
      },
      {
       "output_type": "stream",
       "stream": "stdout",
       "text": [
        "\r",
        "ERA: [####-----------] 29% 145 0.31244225978 0.0401660584224       "
       ]
      },
      {
       "output_type": "stream",
       "stream": "stdout",
       "text": [
        "\r",
        "ERA: [####-----------] 29% 146 0.312441442749 0.0400667227137       "
       ]
      },
      {
       "output_type": "stream",
       "stream": "stdout",
       "text": [
        "\r",
        "ERA: [####-----------] 29% 147 0.312443929469 0.0399861737546       "
       ]
      },
      {
       "output_type": "stream",
       "stream": "stdout",
       "text": [
        "\r",
        "ERA: [####-----------] 29% 148 0.312448532435 0.039802681301       "
       ]
      },
      {
       "output_type": "stream",
       "stream": "stdout",
       "text": [
        "\r",
        "ERA: [####-----------] 29% 149 0.312453774006 0.0395681247929       "
       ]
      },
      {
       "output_type": "stream",
       "stream": "stdout",
       "text": [
        "\r",
        "ERA: [#####----------] 30% 150 0.312458219347 0.0393143795535       "
       ]
      },
      {
       "output_type": "stream",
       "stream": "stdout",
       "text": [
        "\r",
        "ERA: [#####----------] 30% 151 0.312460170397 0.0390330453132       "
       ]
      },
      {
       "output_type": "stream",
       "stream": "stdout",
       "text": [
        "\r",
        "ERA: [#####----------] 30% 152 0.312459518779 0.0387924808662       "
       ]
      },
      {
       "output_type": "stream",
       "stream": "stdout",
       "text": [
        "\r",
        "ERA: [#####----------] 30% 153 0.312456186068 0.038581245344       "
       ]
      },
      {
       "output_type": "stream",
       "stream": "stdout",
       "text": [
        "\r",
        "ERA: [#####----------] 30% 154 0.312449848332 0.0383935358162       "
       ]
      },
      {
       "output_type": "stream",
       "stream": "stdout",
       "text": [
        "\r",
        "ERA: [#####----------] 31% 155 0.312440722821 0.0382956977033       "
       ]
      },
      {
       "output_type": "stream",
       "stream": "stdout",
       "text": [
        "\r",
        "ERA: [#####----------] 31% 156 0.312429187022 0.0382790877725       "
       ]
      },
      {
       "output_type": "stream",
       "stream": "stdout",
       "text": [
        "\r",
        "ERA: [#####----------] 31% 157 0.31241615154 0.0383562585388       "
       ]
      },
      {
       "output_type": "stream",
       "stream": "stdout",
       "text": [
        "\r",
        "ERA: [#####----------] 31% 158 0.312401939895 0.0385300158309       "
       ]
      },
      {
       "output_type": "stream",
       "stream": "stdout",
       "text": [
        "\r",
        "ERA: [#####----------] 31% 159 0.312387155681 0.0387620791455       "
       ]
      },
      {
       "output_type": "stream",
       "stream": "stdout",
       "text": [
        "\r",
        "ERA: [#####----------] 32% 160 0.312372353001 0.0390581469974       "
       ]
      },
      {
       "output_type": "stream",
       "stream": "stdout",
       "text": [
        "\r",
        "ERA: [#####----------] 32% 161 0.312358116202 0.0393682460876       "
       ]
      },
      {
       "output_type": "stream",
       "stream": "stdout",
       "text": [
        "\r",
        "ERA: [#####----------] 32% 162 0.312344513688 0.0397040981294       "
       ]
      },
      {
       "output_type": "stream",
       "stream": "stdout",
       "text": [
        "\r",
        "ERA: [#####----------] 32% 163 0.312331967314 0.0400015873465       "
       ]
      },
      {
       "output_type": "stream",
       "stream": "stdout",
       "text": [
        "\r",
        "ERA: [#####----------] 32% 164 0.312320439124 0.0402709838597       "
       ]
      },
      {
       "output_type": "stream",
       "stream": "stdout",
       "text": [
        "\r",
        "ERA: [#####----------] 33% 165 0.312310079684 0.0404751152552       "
       ]
      },
      {
       "output_type": "stream",
       "stream": "stdout",
       "text": [
        "\r",
        "ERA: [#####----------] 33% 166 0.312301094115 0.04061367376       "
       ]
      },
      {
       "output_type": "stream",
       "stream": "stdout",
       "text": [
        "\r",
        "ERA: [#####----------] 33% 167 0.312293868051 0.0406730073972       "
       ]
      },
      {
       "output_type": "stream",
       "stream": "stdout",
       "text": [
        "\r",
        "ERA: [#####----------] 33% 168 0.312288647907 0.0406314504716       "
       ]
      },
      {
       "output_type": "stream",
       "stream": "stdout",
       "text": [
        "\r",
        "ERA: [#####----------] 33% 169 0.312285530414 0.0405220907459       "
       ]
      },
      {
       "output_type": "stream",
       "stream": "stdout",
       "text": [
        "\r",
        "ERA: [#####----------] 34% 170 0.312284164696 0.0402841940331       "
       ]
      },
      {
       "output_type": "stream",
       "stream": "stdout",
       "text": [
        "\r",
        "ERA: [#####----------] 34% 171 0.312284137457 0.0399936357221       "
       ]
      },
      {
       "output_type": "stream",
       "stream": "stdout",
       "text": [
        "\r",
        "ERA: [#####----------] 34% 172 0.312285176828 0.0396016926089       "
       ]
      },
      {
       "output_type": "stream",
       "stream": "stdout",
       "text": [
        "\r",
        "ERA: [#####----------] 34% 173 0.312286514244 0.0391311119158       "
       ]
      },
      {
       "output_type": "stream",
       "stream": "stdout",
       "text": [
        "\r",
        "ERA: [#####----------] 34% 174 0.31228733211 0.0386146075568       "
       ]
      },
      {
       "output_type": "stream",
       "stream": "stdout",
       "text": [
        "\r",
        "ERA: [#####----------] 35% 175 0.312286857104 0.0380517273984       "
       ]
      },
      {
       "output_type": "stream",
       "stream": "stdout",
       "text": [
        "\r",
        "ERA: [#####----------] 35% 176 0.312284623754 0.0374883429419       "
       ]
      },
      {
       "output_type": "stream",
       "stream": "stdout",
       "text": [
        "\r",
        "ERA: [#####----------] 35% 177 0.312280558773 0.0369193387467       "
       ]
      },
      {
       "output_type": "stream",
       "stream": "stdout",
       "text": [
        "\r",
        "ERA: [#####----------] 35% 178 0.31227484586 0.0363995406823       "
       ]
      },
      {
       "output_type": "stream",
       "stream": "stdout",
       "text": [
        "\r",
        "ERA: [#####----------] 35% 179 0.312267852961 0.0359169267686       "
       ]
      },
      {
       "output_type": "stream",
       "stream": "stdout",
       "text": [
        "\r",
        "ERA: [#####----------] 36% 180 0.312260232941 0.0355098961971       "
       ]
      },
      {
       "output_type": "stream",
       "stream": "stdout",
       "text": [
        "\r",
        "ERA: [#####----------] 36% 181 0.312252795586 0.0351336367002       "
       ]
      },
      {
       "output_type": "stream",
       "stream": "stdout",
       "text": [
        "\r",
        "ERA: [#####----------] 36% 182 0.312246390096 0.0348090754605       "
       ]
      },
      {
       "output_type": "stream",
       "stream": "stdout",
       "text": [
        "\r",
        "ERA: [######---------] 36% 183 0.31224153488 0.0344923446888       "
       ]
      },
      {
       "output_type": "stream",
       "stream": "stdout",
       "text": [
        "\r",
        "ERA: [######---------] 36% 184 0.312238602821 0.0341695836867       "
       ]
      },
      {
       "output_type": "stream",
       "stream": "stdout",
       "text": [
        "\r",
        "ERA: [######---------] 37% 185 0.312237698139 0.0338110697179       "
       ]
      },
      {
       "output_type": "stream",
       "stream": "stdout",
       "text": [
        "\r",
        "ERA: [######---------] 37% 186 0.312238630352 0.0333802791539       "
       ]
      },
      {
       "output_type": "stream",
       "stream": "stdout",
       "text": [
        "\r",
        "ERA: [######---------] 37% 187 0.312241131119 0.0328838855461       "
       ]
      },
      {
       "output_type": "stream",
       "stream": "stdout",
       "text": [
        "\r",
        "ERA: [######---------] 37% 188 0.312244778129 0.0323072323089       "
       ]
      },
      {
       "output_type": "stream",
       "stream": "stdout",
       "text": [
        "\r",
        "ERA: [######---------] 37% 189 0.312249079597 0.0316763647759       "
       ]
      },
      {
       "output_type": "stream",
       "stream": "stdout",
       "text": [
        "\r",
        "ERA: [######---------] 38% 190 0.312253475184 0.03097170651       "
       ]
      },
      {
       "output_type": "stream",
       "stream": "stdout",
       "text": [
        "\r",
        "ERA: [######---------] 38% 191 0.312257691929 0.0302721474734       "
       ]
      },
      {
       "output_type": "stream",
       "stream": "stdout",
       "text": [
        "\r",
        "ERA: [######---------] 38% 192 0.312261544563 0.0295587268663       "
       ]
      },
      {
       "output_type": "stream",
       "stream": "stdout",
       "text": [
        "\r",
        "ERA: [######---------] 38% 193 0.312264865199 0.0288831704894       "
       ]
      },
      {
       "output_type": "stream",
       "stream": "stdout",
       "text": [
        "\r",
        "ERA: [######---------] 38% 194 0.312267493524 0.0282560928303       "
       ]
      },
      {
       "output_type": "stream",
       "stream": "stdout",
       "text": [
        "\r",
        "ERA: [######---------] 39% 195 0.312269379929 0.0276660661428       "
       ]
      },
      {
       "output_type": "stream",
       "stream": "stdout",
       "text": [
        "\r",
        "ERA: [######---------] 39% 196 0.312270627512 0.0271272538971       "
       ]
      },
      {
       "output_type": "stream",
       "stream": "stdout",
       "text": [
        "\r",
        "ERA: [######---------] 39% 197 0.312271368782 0.0266200117579       "
       ]
      },
      {
       "output_type": "stream",
       "stream": "stdout",
       "text": [
        "\r",
        "ERA: [######---------] 39% 198 0.312271631457 0.0261331371255       "
       ]
      },
      {
       "output_type": "stream",
       "stream": "stdout",
       "text": [
        "\r",
        "ERA: [######---------] 39% 199 0.312271360771 0.02565952394       "
       ]
      },
      {
       "output_type": "stream",
       "stream": "stdout",
       "text": [
        "\r",
        "ERA: [######---------] 40% 200 0.312270515973 0.0252086652287       "
       ]
      },
      {
       "output_type": "stream",
       "stream": "stdout",
       "text": [
        "\r",
        "ERA: [######---------] 40% 201 0.312269027633 0.0247703205039       "
       ]
      },
      {
       "output_type": "stream",
       "stream": "stdout",
       "text": [
        "\r",
        "ERA: [######---------] 40% 202 0.312266916222 0.0243852859711       "
       ]
      },
      {
       "output_type": "stream",
       "stream": "stdout",
       "text": [
        "\r",
        "ERA: [######---------] 40% 203 0.312264231984 0.0240468397151       "
       ]
      },
      {
       "output_type": "stream",
       "stream": "stdout",
       "text": [
        "\r",
        "ERA: [######---------] 40% 204 0.312261157555 0.0237967341136       "
       ]
      },
      {
       "output_type": "stream",
       "stream": "stdout",
       "text": [
        "\r",
        "ERA: [######---------] 41% 205 0.31225795446 0.0236198529007       "
       ]
      },
      {
       "output_type": "stream",
       "stream": "stdout",
       "text": [
        "\r",
        "ERA: [######---------] 41% 206 0.312254989255 0.0235391802152       "
       ]
      },
      {
       "output_type": "stream",
       "stream": "stdout",
       "text": [
        "\r",
        "ERA: [######---------] 41% 207 0.312252627621 0.0235100699046       "
       ]
      },
      {
       "output_type": "stream",
       "stream": "stdout",
       "text": [
        "\r",
        "ERA: [######---------] 41% 208 0.312251187287 0.0235323121982       "
       ]
      },
      {
       "output_type": "stream",
       "stream": "stdout",
       "text": [
        "\r",
        "ERA: [######---------] 41% 209 0.312250841334 0.023546363606       "
       ]
      },
      {
       "output_type": "stream",
       "stream": "stdout",
       "text": [
        "\r",
        "ERA: [######---------] 42% 210 0.312251584861 0.0235431571469       "
       ]
      },
      {
       "output_type": "stream",
       "stream": "stdout",
       "text": [
        "\r",
        "ERA: [######---------] 42% 211 0.312253208924 0.023474719534       "
       ]
      },
      {
       "output_type": "stream",
       "stream": "stdout",
       "text": [
        "\r",
        "ERA: [######---------] 42% 212 0.312255320694 0.0233508321862       "
       ]
      },
      {
       "output_type": "stream",
       "stream": "stdout",
       "text": [
        "\r",
        "ERA: [######---------] 42% 213 0.312257371254 0.0231410729189       "
       ]
      },
      {
       "output_type": "stream",
       "stream": "stdout",
       "text": [
        "\r",
        "ERA: [######---------] 42% 214 0.312258833839 0.022893786897       "
       ]
      },
      {
       "output_type": "stream",
       "stream": "stdout",
       "text": [
        "\r",
        "ERA: [######---------] 43% 215 0.312259466714 0.02258719584       "
       ]
      },
      {
       "output_type": "stream",
       "stream": "stdout",
       "text": [
        "\r",
        "ERA: [######---------] 43% 216 0.312258976404 0.0222754763682       "
       ]
      },
      {
       "output_type": "stream",
       "stream": "stdout",
       "text": [
        "\r",
        "ERA: [#######--------] 43% 217 0.31225727984 0.0219667288521       "
       ]
      },
      {
       "output_type": "stream",
       "stream": "stdout",
       "text": [
        "\r",
        "ERA: [#######--------] 43% 218 0.312254521728 0.0216880208386       "
       ]
      },
      {
       "output_type": "stream",
       "stream": "stdout",
       "text": [
        "\r",
        "ERA: [#######--------] 43% 219 0.31225104126 0.0214365278039       "
       ]
      },
      {
       "output_type": "stream",
       "stream": "stdout",
       "text": [
        "\r",
        "ERA: [#######--------] 44% 220 0.312247276594 0.0212304700269       "
       ]
      },
      {
       "output_type": "stream",
       "stream": "stdout",
       "text": [
        "\r",
        "ERA: [#######--------] 44% 221 0.312243677118 0.0210430732624       "
       ]
      },
      {
       "output_type": "stream",
       "stream": "stdout",
       "text": [
        "\r",
        "ERA: [#######--------] 44% 222 0.312240601234 0.0208780482797       "
       ]
      },
      {
       "output_type": "stream",
       "stream": "stdout",
       "text": [
        "\r",
        "ERA: [#######--------] 44% 223 0.312238263521 0.0207054837114       "
       ]
      },
      {
       "output_type": "stream",
       "stream": "stdout",
       "text": [
        "\r",
        "ERA: [#######--------] 44% 224 0.312236713627 0.0205266721573       "
       ]
      },
      {
       "output_type": "stream",
       "stream": "stdout",
       "text": [
        "\r",
        "ERA: [#######--------] 45% 225 0.312235835709 0.0203250573313       "
       ]
      },
      {
       "output_type": "stream",
       "stream": "stdout",
       "text": [
        "\r",
        "ERA: [#######--------] 45% 226 0.312235423268 0.0201133263394       "
       ]
      },
      {
       "output_type": "stream",
       "stream": "stdout",
       "text": [
        "\r",
        "ERA: [#######--------] 45% 227 0.312235215927 0.0198899711242       "
       ]
      },
      {
       "output_type": "stream",
       "stream": "stdout",
       "text": [
        "\r",
        "ERA: [#######--------] 45% 228 0.31223500732 0.0196795502217       "
       ]
      },
      {
       "output_type": "stream",
       "stream": "stdout",
       "text": [
        "\r",
        "ERA: [#######--------] 45% 229 0.312234666142 0.019483037185       "
       ]
      },
      {
       "output_type": "stream",
       "stream": "stdout",
       "text": [
        "\r",
        "ERA: [#######--------] 46% 230 0.312234199992 0.0193236704573       "
       ]
      },
      {
       "output_type": "stream",
       "stream": "stdout",
       "text": [
        "\r",
        "ERA: [#######--------] 46% 231 0.312233718005 0.0191901705319       "
       ]
      },
      {
       "output_type": "stream",
       "stream": "stdout",
       "text": [
        "\r",
        "ERA: [#######--------] 46% 232 0.312233417149 0.0190916734578       "
       ]
      },
      {
       "output_type": "stream",
       "stream": "stdout",
       "text": [
        "\r",
        "ERA: [#######--------] 46% 233 0.312233500351 0.019004004436       "
       ]
      },
      {
       "output_type": "stream",
       "stream": "stdout",
       "text": [
        "\r",
        "ERA: [#######--------] 46% 234 0.312234125219 0.0189241153649       "
       ]
      },
      {
       "output_type": "stream",
       "stream": "stdout",
       "text": [
        "\r",
        "ERA: [#######--------] 47% 235 0.312235341605 0.0188279393836       "
       ]
      },
      {
       "output_type": "stream",
       "stream": "stdout",
       "text": [
        "\r",
        "ERA: [#######--------] 47% 236 0.312237064918 0.0187139712951       "
       ]
      },
      {
       "output_type": "stream",
       "stream": "stdout",
       "text": [
        "\r",
        "ERA: [#######--------] 47% 237 0.312239084462 0.018571330101       "
       ]
      },
      {
       "output_type": "stream",
       "stream": "stdout",
       "text": [
        "\r",
        "ERA: [#######--------] 47% 238 0.312241092554 0.0184113508973       "
       ]
      },
      {
       "output_type": "stream",
       "stream": "stdout",
       "text": [
        "\r",
        "ERA: [#######--------] 47% 239 0.312242759459 0.018238751682       "
       ]
      },
      {
       "output_type": "stream",
       "stream": "stdout",
       "text": [
        "\r",
        "ERA: [#######--------] 48% 240 0.312243791028 0.0180768792567       "
       ]
      },
      {
       "output_type": "stream",
       "stream": "stdout",
       "text": [
        "\r",
        "ERA: [#######--------] 48% 241 0.312244011266 0.0179348902517       "
       ]
      },
      {
       "output_type": "stream",
       "stream": "stdout",
       "text": [
        "\r",
        "ERA: [#######--------] 48% 242 0.312243389379 0.0178344772863       "
       ]
      },
      {
       "output_type": "stream",
       "stream": "stdout",
       "text": [
        "\r",
        "ERA: [#######--------] 48% 243 0.312242064765 0.0177728068266       "
       ]
      },
      {
       "output_type": "stream",
       "stream": "stdout",
       "text": [
        "\r",
        "ERA: [#######--------] 48% 244 0.31224030976 0.0177554154606       "
       ]
      },
      {
       "output_type": "stream",
       "stream": "stdout",
       "text": [
        "\r",
        "ERA: [#######--------] 49% 245 0.312238479488 0.0177615306642       "
       ]
      },
      {
       "output_type": "stream",
       "stream": "stdout",
       "text": [
        "\r",
        "ERA: [#######--------] 49% 246 0.31223693476 0.0177812250885       "
       ]
      },
      {
       "output_type": "stream",
       "stream": "stdout",
       "text": [
        "\r",
        "ERA: [#######--------] 49% 247 0.312235965734 0.0177852136695       "
       ]
      },
      {
       "output_type": "stream",
       "stream": "stdout",
       "text": [
        "\r",
        "ERA: [#######--------] 49% 248 0.312235734233 0.0177647145618       "
       ]
      },
      {
       "output_type": "stream",
       "stream": "stdout",
       "text": [
        "\r",
        "ERA: [#######--------] 49% 249 0.312236248867 0.0176954210582       "
       ]
      },
      {
       "output_type": "stream",
       "stream": "stdout",
       "text": [
        "\r",
        "ERA: [########-------] 50% 250 0.31223738452 0.0175844177261       "
       ]
      },
      {
       "output_type": "stream",
       "stream": "stdout",
       "text": [
        "\r",
        "ERA: [########-------] 50% 251 0.31223887831 0.0174234627807       "
       ]
      },
      {
       "output_type": "stream",
       "stream": "stdout",
       "text": [
        "\r",
        "ERA: [########-------] 50% 252 0.312240421792 0.0172383087121       "
       ]
      },
      {
       "output_type": "stream",
       "stream": "stdout",
       "text": [
        "\r",
        "ERA: [########-------] 50% 253 0.312241715323 0.0170366960182       "
       ]
      },
      {
       "output_type": "stream",
       "stream": "stdout",
       "text": [
        "\r",
        "ERA: [########-------] 50% 254 0.312242540428 0.0168506285769       "
       ]
      },
      {
       "output_type": "stream",
       "stream": "stdout",
       "text": [
        "\r",
        "ERA: [########-------] 51% 255 0.312242793948 0.016690370188       "
       ]
      },
      {
       "output_type": "stream",
       "stream": "stdout",
       "text": [
        "\r",
        "ERA: [########-------] 51% 256 0.312242510483 0.0165778249177       "
       ]
      },
      {
       "output_type": "stream",
       "stream": "stdout",
       "text": [
        "\r",
        "ERA: [########-------] 51% 257 0.312241836789 0.0165112059177       "
       ]
      },
      {
       "output_type": "stream",
       "stream": "stdout",
       "text": [
        "\r",
        "ERA: [########-------] 51% 258 0.312240993218 0.016491697575       "
       ]
      },
      {
       "output_type": "stream",
       "stream": "stdout",
       "text": [
        "\r",
        "ERA: [########-------] 51% 259 0.31224020985 0.0165018001455       "
       ]
      },
      {
       "output_type": "stream",
       "stream": "stdout",
       "text": [
        "\r",
        "ERA: [########-------] 52% 260 0.312239669372 0.0165273978785       "
       ]
      },
      {
       "output_type": "stream",
       "stream": "stdout",
       "text": [
        "\r",
        "ERA: [########-------] 52% 261 0.312239458898 0.0165466117482       "
       ]
      },
      {
       "output_type": "stream",
       "stream": "stdout",
       "text": [
        "\r",
        "ERA: [########-------] 52% 262 0.312239549008 0.0165461804398       "
       ]
      },
      {
       "output_type": "stream",
       "stream": "stdout",
       "text": [
        "\r",
        "ERA: [########-------] 52% 263 0.312239802246 0.0165142903573       "
       ]
      },
      {
       "output_type": "stream",
       "stream": "stdout",
       "text": [
        "\r",
        "ERA: [########-------] 52% 264 0.312240007442 0.0164506766572       "
       ]
      },
      {
       "output_type": "stream",
       "stream": "stdout",
       "text": [
        "\r",
        "ERA: [########-------] 53% 265 0.312239936907 0.0163590075748       "
       ]
      },
      {
       "output_type": "stream",
       "stream": "stdout",
       "text": [
        "\r",
        "ERA: [########-------] 53% 266 0.31223940304 0.0162521789715       "
       ]
      },
      {
       "output_type": "stream",
       "stream": "stdout",
       "text": [
        "\r",
        "ERA: [########-------] 53% 267 0.312238314095 0.0161417013823       "
       ]
      },
      {
       "output_type": "stream",
       "stream": "stdout",
       "text": [
        "\r",
        "ERA: [########-------] 53% 268 0.312236698566 0.0160436397606       "
       ]
      },
      {
       "output_type": "stream",
       "stream": "stdout",
       "text": [
        "\r",
        "ERA: [########-------] 53% 269 0.312234712236 0.0159623827019       "
       ]
      },
      {
       "output_type": "stream",
       "stream": "stdout",
       "text": [
        "\r",
        "ERA: [########-------] 54% 270 0.312232604569 0.015905610246       "
       ]
      },
      {
       "output_type": "stream",
       "stream": "stdout",
       "text": [
        "\r",
        "ERA: [########-------] 54% 271 0.312230670146 0.0158624988285       "
       ]
      },
      {
       "output_type": "stream",
       "stream": "stdout",
       "text": [
        "\r",
        "ERA: [########-------] 54% 272 0.312229181602 0.0158284128343       "
       ]
      },
      {
       "output_type": "stream",
       "stream": "stdout",
       "text": [
        "\r",
        "ERA: [########-------] 54% 273 0.312228330112 0.01578467082       "
       ]
      },
      {
       "output_type": "stream",
       "stream": "stdout",
       "text": [
        "\r",
        "ERA: [########-------] 54% 274 0.31222818572 0.0157214790287       "
       ]
      },
      {
       "output_type": "stream",
       "stream": "stdout",
       "text": [
        "\r",
        "ERA: [########-------] 55% 275 0.312228679211 0.0156259189054       "
       ]
      },
      {
       "output_type": "stream",
       "stream": "stdout",
       "text": [
        "\r",
        "ERA: [########-------] 55% 276 0.312229620589 0.0154959477705       "
       ]
      },
      {
       "output_type": "stream",
       "stream": "stdout",
       "text": [
        "\r",
        "ERA: [########-------] 55% 277 0.312230736029 0.015333303878       "
       ]
      },
      {
       "output_type": "stream",
       "stream": "stdout",
       "text": [
        "\r",
        "ERA: [########-------] 55% 278 0.312231731476 0.0151502048493       "
       ]
      },
      {
       "output_type": "stream",
       "stream": "stdout",
       "text": [
        "\r",
        "ERA: [########-------] 55% 279 0.312232351421 0.0149621644443       "
       ]
      },
      {
       "output_type": "stream",
       "stream": "stdout",
       "text": [
        "\r",
        "ERA: [########-------] 56% 280 0.312232436721 0.0147895387957       "
       ]
      },
      {
       "output_type": "stream",
       "stream": "stdout",
       "text": [
        "\r",
        "ERA: [########-------] 56% 281 0.312231951626 0.0146501204149       "
       ]
      },
      {
       "output_type": "stream",
       "stream": "stdout",
       "text": [
        "\r",
        "ERA: [########-------] 56% 282 0.312230989793 0.0145574870382       "
       ]
      },
      {
       "output_type": "stream",
       "stream": "stdout",
       "text": [
        "\r",
        "ERA: [#########------] 56% 283 0.312229744392 0.0145167175512       "
       ]
      },
      {
       "output_type": "stream",
       "stream": "stdout",
       "text": [
        "\r",
        "ERA: [#########------] 56% 284 0.312228461674 0.0145236797277       "
       ]
      },
      {
       "output_type": "stream",
       "stream": "stdout",
       "text": [
        "\r",
        "ERA: [#########------] 57% 285 0.312227380104 0.0145662473228       "
       ]
      },
      {
       "output_type": "stream",
       "stream": "stdout",
       "text": [
        "\r",
        "ERA: [#########------] 57% 286 0.312226675729 0.0146271648745       "
       ]
      },
      {
       "output_type": "stream",
       "stream": "stdout",
       "text": [
        "\r",
        "ERA: [#########------] 57% 287 0.312226423552 0.0146876251113       "
       ]
      },
      {
       "output_type": "stream",
       "stream": "stdout",
       "text": [
        "\r",
        "ERA: [#########------] 57% 288 0.312226583064 0.0147320235923       "
       ]
      },
      {
       "output_type": "stream",
       "stream": "stdout",
       "text": [
        "\r",
        "ERA: [#########------] 57% 289 0.312227014985 0.0147485247988       "
       ]
      },
      {
       "output_type": "stream",
       "stream": "stdout",
       "text": [
        "\r",
        "ERA: [#########------] 58% 290 0.312227516759 0.0147336469617       "
       ]
      },
      {
       "output_type": "stream",
       "stream": "stdout",
       "text": [
        "\r",
        "ERA: [#########------] 58% 291 0.312227879119 0.0146873211945       "
       ]
      },
      {
       "output_type": "stream",
       "stream": "stdout",
       "text": [
        "\r",
        "ERA: [#########------] 58% 292 0.31222793571 0.0146175145165       "
       ]
      },
      {
       "output_type": "stream",
       "stream": "stdout",
       "text": [
        "\r",
        "ERA: [#########------] 58% 293 0.312227609694 0.0145300683352       "
       ]
      },
      {
       "output_type": "stream",
       "stream": "stdout",
       "text": [
        "\r",
        "ERA: [#########------] 58% 294 0.312226929407 0.0144353195365       "
       ]
      },
      {
       "output_type": "stream",
       "stream": "stdout",
       "text": [
        "\r",
        "ERA: [#########------] 59% 295 0.312226025456 0.0143347152396       "
       ]
      },
      {
       "output_type": "stream",
       "stream": "stdout",
       "text": [
        "\r",
        "ERA: [#########------] 59% 296 0.312225095863 0.0142318105245       "
       ]
      },
      {
       "output_type": "stream",
       "stream": "stdout",
       "text": [
        "\r",
        "ERA: [#########------] 59% 297 0.312224359037 0.0141184250454       "
       ]
      },
      {
       "output_type": "stream",
       "stream": "stdout",
       "text": [
        "\r",
        "ERA: [#########------] 59% 298 0.312223997853 0.0139902911934       "
       ]
      },
      {
       "output_type": "stream",
       "stream": "stdout",
       "text": [
        "\r",
        "ERA: [#########------] 59% 299 0.312224112746 0.013834648258       "
       ]
      },
      {
       "output_type": "stream",
       "stream": "stdout",
       "text": [
        "\r",
        "ERA: [#########------] 60% 300 0.312224694163 0.0136477870451       "
       ]
      },
      {
       "output_type": "stream",
       "stream": "stdout",
       "text": [
        "\r",
        "ERA: [#########------] 60% 301 0.312225618694 0.0134238334066       "
       ]
      },
      {
       "output_type": "stream",
       "stream": "stdout",
       "text": [
        "\r",
        "ERA: [#########------] 60% 302 0.312226675584 0.0131699751102       "
       ]
      },
      {
       "output_type": "stream",
       "stream": "stdout",
       "text": [
        "\r",
        "ERA: [#########------] 60% 303 0.312227609202 0.0128951616946       "
       ]
      },
      {
       "output_type": "stream",
       "stream": "stdout",
       "text": [
        "\r",
        "ERA: [#########------] 60% 304 0.312228178796 0.0126204118672       "
       ]
      },
      {
       "output_type": "stream",
       "stream": "stdout",
       "text": [
        "\r",
        "ERA: [#########------] 61% 305 0.312228208603 0.0123664607433       "
       ]
      },
      {
       "output_type": "stream",
       "stream": "stdout",
       "text": [
        "\r",
        "ERA: [#########------] 61% 306 0.312227631255 0.0121582124816       "
       ]
      },
      {
       "output_type": "stream",
       "stream": "stdout",
       "text": [
        "\r",
        "ERA: [#########------] 61% 307 0.312226499622 0.0120126072677       "
       ]
      },
      {
       "output_type": "stream",
       "stream": "stdout",
       "text": [
        "\r",
        "ERA: [#########------] 61% 308 0.312224978105 0.0119393863272       "
       ]
      },
      {
       "output_type": "stream",
       "stream": "stdout",
       "text": [
        "\r",
        "ERA: [#########------] 61% 309 0.312223304254 0.0119348830565       "
       ]
      },
      {
       "output_type": "stream",
       "stream": "stdout",
       "text": [
        "\r",
        "ERA: [#########------] 62% 310 0.312221737448 0.0119841079732       "
       ]
      },
      {
       "output_type": "stream",
       "stream": "stdout",
       "text": [
        "\r",
        "ERA: [#########------] 62% 311 0.312220503099 0.0120643365825       "
       ]
      },
      {
       "output_type": "stream",
       "stream": "stdout",
       "text": [
        "\r",
        "ERA: [#########------] 62% 312 0.312219744377 0.012148320805       "
       ]
      },
      {
       "output_type": "stream",
       "stream": "stdout",
       "text": [
        "\r",
        "ERA: [#########------] 62% 313 0.312219497494 0.0122133700369       "
       ]
      },
      {
       "output_type": "stream",
       "stream": "stdout",
       "text": [
        "\r",
        "ERA: [#########------] 62% 314 0.312219684736 0.0122407804722       "
       ]
      },
      {
       "output_type": "stream",
       "stream": "stdout",
       "text": [
        "\r",
        "ERA: [#########------] 63% 315 0.312220142253 0.0122229726861       "
       ]
      },
      {
       "output_type": "stream",
       "stream": "stdout",
       "text": [
        "\r",
        "ERA: [#########------] 63% 316 0.31222065696 0.0121603900555       "
       ]
      },
      {
       "output_type": "stream",
       "stream": "stdout",
       "text": [
        "\r",
        "ERA: [##########-----] 63% 317 0.312221022997 0.0120629642648       "
       ]
      },
      {
       "output_type": "stream",
       "stream": "stdout",
       "text": [
        "\r",
        "ERA: [##########-----] 63% 318 0.312221084005 0.0119461049692       "
       ]
      },
      {
       "output_type": "stream",
       "stream": "stdout",
       "text": [
        "\r",
        "ERA: [##########-----] 63% 319 0.312220771876 0.0118271823699       "
       ]
      },
      {
       "output_type": "stream",
       "stream": "stdout",
       "text": [
        "\r",
        "ERA: [##########-----] 64% 320 0.312220114516 0.0117224561043       "
       ]
      },
      {
       "output_type": "stream",
       "stream": "stdout",
       "text": [
        "\r",
        "ERA: [##########-----] 64% 321 0.312219227447 0.0116408155939       "
       ]
      },
      {
       "output_type": "stream",
       "stream": "stdout",
       "text": [
        "\r",
        "ERA: [##########-----] 64% 322 0.312218279612 0.0115859740247       "
       ]
      },
      {
       "output_type": "stream",
       "stream": "stdout",
       "text": [
        "\r",
        "ERA: [##########-----] 64% 323 0.312217449855 0.0115499915236       "
       ]
      },
      {
       "output_type": "stream",
       "stream": "stdout",
       "text": [
        "\r",
        "ERA: [##########-----] 64% 324 0.312216881452 0.0115237050957       "
       ]
      },
      {
       "output_type": "stream",
       "stream": "stdout",
       "text": [
        "\r",
        "ERA: [##########-----] 65% 325 0.312216644605 0.0114901340972       "
       ]
      },
      {
       "output_type": "stream",
       "stream": "stdout",
       "text": [
        "\r",
        "ERA: [##########-----] 65% 326 0.312216720684 0.0114403744269       "
       ]
      },
      {
       "output_type": "stream",
       "stream": "stdout",
       "text": [
        "\r",
        "ERA: [##########-----] 65% 327 0.312217003901 0.0113646039063       "
       ]
      },
      {
       "output_type": "stream",
       "stream": "stdout",
       "text": [
        "\r",
        "ERA: [##########-----] 65% 328 0.312217330268 0.0112669820234       "
       ]
      },
      {
       "output_type": "stream",
       "stream": "stdout",
       "text": [
        "\r",
        "ERA: [##########-----] 65% 329 0.312217514976 0.0111543184378       "
       ]
      },
      {
       "output_type": "stream",
       "stream": "stdout",
       "text": [
        "\r",
        "ERA: [##########-----] 66% 330 0.312217401559 0.0110449870629       "
       ]
      },
      {
       "output_type": "stream",
       "stream": "stdout",
       "text": [
        "\r",
        "ERA: [##########-----] 66% 331 0.312216898835 0.010957184245       "
       ]
      },
      {
       "output_type": "stream",
       "stream": "stdout",
       "text": [
        "\r",
        "ERA: [##########-----] 66% 332 0.31221600777 0.0109106468647       "
       ]
      },
      {
       "output_type": "stream",
       "stream": "stdout",
       "text": [
        "\r",
        "ERA: [##########-----] 66% 333 0.312214822624 0.0109173481343       "
       ]
      },
      {
       "output_type": "stream",
       "stream": "stdout",
       "text": [
        "\r",
        "ERA: [##########-----] 66% 334 0.31221351274 0.0109801677737       "
       ]
      },
      {
       "output_type": "stream",
       "stream": "stdout",
       "text": [
        "\r",
        "ERA: [##########-----] 67% 335 0.312212285375 0.0110907629588       "
       ]
      },
      {
       "output_type": "stream",
       "stream": "stdout",
       "text": [
        "\r",
        "ERA: [##########-----] 67% 336 0.312211338759 0.0112307845945       "
       ]
      },
      {
       "output_type": "stream",
       "stream": "stdout",
       "text": [
        "\r",
        "ERA: [##########-----] 67% 337 0.31221081902 0.0113772693066       "
       ]
      },
      {
       "output_type": "stream",
       "stream": "stdout",
       "text": [
        "\r",
        "ERA: [##########-----] 67% 338 0.312210784702 0.0115054953102       "
       ]
      },
      {
       "output_type": "stream",
       "stream": "stdout",
       "text": [
        "\r",
        "ERA: [##########-----] 67% 339 0.312211196355 0.0115958613342       "
       ]
      },
      {
       "output_type": "stream",
       "stream": "stdout",
       "text": [
        "\r",
        "ERA: [##########-----] 68% 340 0.312211921288 0.0116344667645       "
       ]
      },
      {
       "output_type": "stream",
       "stream": "stdout",
       "text": [
        "\r",
        "ERA: [##########-----] 68% 341 0.312212766847 0.0116177524568       "
       ]
      },
      {
       "output_type": "stream",
       "stream": "stdout",
       "text": [
        "\r",
        "ERA: [##########-----] 68% 342 0.312213518374 0.0115489084446       "
       ]
      },
      {
       "output_type": "stream",
       "stream": "stdout",
       "text": [
        "\r",
        "ERA: [##########-----] 68% 343 0.312213989917 0.0114411827228       "
       ]
      },
      {
       "output_type": "stream",
       "stream": "stdout",
       "text": [
        "\r",
        "ERA: [##########-----] 68% 344 0.312214059488 0.011308885874       "
       ]
      },
      {
       "output_type": "stream",
       "stream": "stdout",
       "text": [
        "\r",
        "ERA: [##########-----] 69% 345 0.312213696442 0.0111722609422       "
       ]
      },
      {
       "output_type": "stream",
       "stream": "stdout",
       "text": [
        "\r",
        "ERA: [##########-----] 69% 346 0.312212961713 0.0110433727126       "
       ]
      },
      {
       "output_type": "stream",
       "stream": "stdout",
       "text": [
        "\r",
        "ERA: [##########-----] 69% 347 0.312211992461 0.0109350823509       "
       ]
      },
      {
       "output_type": "stream",
       "stream": "stdout",
       "text": [
        "\r",
        "ERA: [##########-----] 69% 348 0.312210966667 0.0108463209308       "
       ]
      },
      {
       "output_type": "stream",
       "stream": "stdout",
       "text": [
        "\r",
        "ERA: [##########-----] 69% 349 0.312210061897 0.0107755096349       "
       ]
      },
      {
       "output_type": "stream",
       "stream": "stdout",
       "text": [
        "\r",
        "ERA: [###########----] 70% 350 0.312209414651 0.0107101217456       "
       ]
      },
      {
       "output_type": "stream",
       "stream": "stdout",
       "text": [
        "\r",
        "ERA: [###########----] 70% 351 0.312209090462 0.0106417246675       "
       ]
      },
      {
       "output_type": "stream",
       "stream": "stdout",
       "text": [
        "\r",
        "ERA: [###########----] 70% 352 0.312209072842 0.0105590832415       "
       ]
      },
      {
       "output_type": "stream",
       "stream": "stdout",
       "text": [
        "\r",
        "ERA: [###########----] 70% 353 0.312209269807 0.0104606309708       "
       ]
      },
      {
       "output_type": "stream",
       "stream": "stdout",
       "text": [
        "\r",
        "ERA: [###########----] 70% 354 0.312209540906 0.0103475259749       "
       ]
      },
      {
       "output_type": "stream",
       "stream": "stdout",
       "text": [
        "\r",
        "ERA: [###########----] 71% 355 0.312209732034 0.0102314631519       "
       ]
      },
      {
       "output_type": "stream",
       "stream": "stdout",
       "text": [
        "\r",
        "ERA: [###########----] 71% 356 0.312209715748 0.0101257132845       "
       ]
      },
      {
       "output_type": "stream",
       "stream": "stdout",
       "text": [
        "\r",
        "ERA: [###########----] 71% 357 0.312209421514 0.0100484179538       "
       ]
      },
      {
       "output_type": "stream",
       "stream": "stdout",
       "text": [
        "\r",
        "ERA: [###########----] 71% 358 0.312208853638 0.0100123546305       "
       ]
      },
      {
       "output_type": "stream",
       "stream": "stdout",
       "text": [
        "\r",
        "ERA: [###########----] 71% 359 0.312208089324 0.0100263562293       "
       ]
      },
      {
       "output_type": "stream",
       "stream": "stdout",
       "text": [
        "\r",
        "ERA: [###########----] 72% 360 0.312207259172 0.0100881059296       "
       ]
      },
      {
       "output_type": "stream",
       "stream": "stdout",
       "text": [
        "\r",
        "ERA: [###########----] 72% 361 0.312206515358 0.010188011663       "
       ]
      },
      {
       "output_type": "stream",
       "stream": "stdout",
       "text": [
        "\r",
        "ERA: [###########----] 72% 362 0.312205992856 0.0103084993276       "
       ]
      },
      {
       "output_type": "stream",
       "stream": "stdout",
       "text": [
        "\r",
        "ERA: [###########----] 72% 363 0.31220577732 0.0104300979522       "
       ]
      },
      {
       "output_type": "stream",
       "stream": "stdout",
       "text": [
        "\r",
        "ERA: [###########----] 72% 364 0.312205881265 0.0105343489617       "
       ]
      },
      {
       "output_type": "stream",
       "stream": "stdout",
       "text": [
        "\r",
        "ERA: [###########----] 73% 365 0.312206241595 0.0106078401513       "
       ]
      },
      {
       "output_type": "stream",
       "stream": "stdout",
       "text": [
        "\r",
        "ERA: [###########----] 73% 366 0.312206730586 0.0106443483674       "
       ]
      },
      {
       "output_type": "stream",
       "stream": "stdout",
       "text": [
        "\r",
        "ERA: [###########----] 73% 367 0.312207186871 0.0106450708823       "
       ]
      },
      {
       "output_type": "stream",
       "stream": "stdout",
       "text": [
        "\r",
        "ERA: [###########----] 73% 368 0.312207449847 0.0106182675698       "
       ]
      },
      {
       "output_type": "stream",
       "stream": "stdout",
       "text": [
        "\r",
        "ERA: [###########----] 73% 369 0.312207398545 0.0105764292475       "
       ]
      },
      {
       "output_type": "stream",
       "stream": "stdout",
       "text": [
        "\r",
        "ERA: [###########----] 74% 370 0.312206977756 0.0105337232304       "
       ]
      },
      {
       "output_type": "stream",
       "stream": "stdout",
       "text": [
        "\r",
        "ERA: [###########----] 74% 371 0.312206212055 0.0105019814586       "
       ]
      },
      {
       "output_type": "stream",
       "stream": "stdout",
       "text": [
        "\r",
        "ERA: [###########----] 74% 372 0.312205200146 0.01048810153       "
       ]
      },
      {
       "output_type": "stream",
       "stream": "stdout",
       "text": [
        "\r",
        "ERA: [###########----] 74% 373 0.312204092535 0.0104922118307       "
       ]
      },
      {
       "output_type": "stream",
       "stream": "stdout",
       "text": [
        "\r",
        "ERA: [###########----] 74% 374 0.312203059402 0.0105074926189       "
       ]
      },
      {
       "output_type": "stream",
       "stream": "stdout",
       "text": [
        "\r",
        "ERA: [###########----] 75% 375 0.312202251102 0.0105229498121       "
       ]
      },
      {
       "output_type": "stream",
       "stream": "stdout",
       "text": [
        "\r",
        "ERA: [###########----] 75% 376 0.312201768515 0.0105248265577       "
       ]
      },
      {
       "output_type": "stream",
       "stream": "stdout",
       "text": [
        "\r",
        "ERA: [###########----] 75% 377 0.312201639038 0.0105024870982       "
       ]
      },
      {
       "output_type": "stream",
       "stream": "stdout",
       "text": [
        "\r",
        "ERA: [###########----] 75% 378 0.312201816271 0.0104481921363       "
       ]
      },
      {
       "output_type": "stream",
       "stream": "stdout",
       "text": [
        "\r",
        "ERA: [###########----] 75% 379 0.312202189293 0.0103627824849       "
       ]
      },
      {
       "output_type": "stream",
       "stream": "stdout",
       "text": [
        "\r",
        "ERA: [###########----] 76% 380 0.312202612969 0.0102522419006       "
       ]
      },
      {
       "output_type": "stream",
       "stream": "stdout",
       "text": [
        "\r",
        "ERA: [###########----] 76% 381 0.312202938999 0.0101308778592       "
       ]
      },
      {
       "output_type": "stream",
       "stream": "stdout",
       "text": [
        "\r",
        "ERA: [###########----] 76% 382 0.312203051827 0.0100152590435       "
       ]
      },
      {
       "output_type": "stream",
       "stream": "stdout",
       "text": [
        "\r",
        "ERA: [############---] 76% 383 0.312202892089 0.00992390199125       "
       ]
      },
      {
       "output_type": "stream",
       "stream": "stdout",
       "text": [
        "\r",
        "ERA: [############---] 76% 384 0.312202468652 0.0098708342884       "
       ]
      },
      {
       "output_type": "stream",
       "stream": "stdout",
       "text": [
        "\r",
        "ERA: [############---] 77% 385 0.31220185362 0.0098634919971       "
       ]
      },
      {
       "output_type": "stream",
       "stream": "stdout",
       "text": [
        "\r",
        "ERA: [############---] 77% 386 0.312201161853 0.00990033970293       "
       ]
      },
      {
       "output_type": "stream",
       "stream": "stdout",
       "text": [
        "\r",
        "ERA: [############---] 77% 387 0.312200523272 0.00997069339963       "
       ]
      },
      {
       "output_type": "stream",
       "stream": "stdout",
       "text": [
        "\r",
        "ERA: [############---] 77% 388 0.312200048716 0.0100587506023       "
       ]
      },
      {
       "output_type": "stream",
       "stream": "stdout",
       "text": [
        "\r",
        "ERA: [############---] 77% 389 0.312199805952 0.0101451506132       "
       ]
      },
      {
       "output_type": "stream",
       "stream": "stdout",
       "text": [
        "\r",
        "ERA: [############---] 78% 390 0.312199800885 0.010213699833       "
       ]
      },
      {
       "output_type": "stream",
       "stream": "stdout",
       "text": [
        "\r",
        "ERA: [############---] 78% 391 0.31219998031 0.0102513216747       "
       ]
      },
      {
       "output_type": "stream",
       "stream": "stdout",
       "text": [
        "\r",
        "ERA: [############---] 78% 392 0.312200242251 0.0102531039931       "
       ]
      },
      {
       "output_type": "stream",
       "stream": "stdout",
       "text": [
        "\r",
        "ERA: [############---] 78% 393 0.312200464717 0.0102195861034       "
       ]
      },
      {
       "output_type": "stream",
       "stream": "stdout",
       "text": [
        "\r",
        "ERA: [############---] 78% 394 0.312200532525 0.0101586414107       "
       ]
      },
      {
       "output_type": "stream",
       "stream": "stdout",
       "text": [
        "\r",
        "ERA: [############---] 79% 395 0.312200368382 0.0100811017797       "
       ]
      },
      {
       "output_type": "stream",
       "stream": "stdout",
       "text": [
        "\r",
        "ERA: [############---] 79% 396 0.312199949553 0.00999980255321       "
       ]
      },
      {
       "output_type": "stream",
       "stream": "stdout",
       "text": [
        "\r",
        "ERA: [############---] 79% 397 0.312199315568 0.00992553944776       "
       ]
      },
      {
       "output_type": "stream",
       "stream": "stdout",
       "text": [
        "\r",
        "ERA: [############---] 79% 398 0.312198558529 0.00986480976501       "
       ]
      },
      {
       "output_type": "stream",
       "stream": "stdout",
       "text": [
        "\r",
        "ERA: [############---] 79% 399 0.312197802028 0.00981925784024       "
       ]
      },
      {
       "output_type": "stream",
       "stream": "stdout",
       "text": [
        "\r",
        "ERA: [############---] 80% 400 0.312197173315 0.00978372007725       "
       ]
      },
      {
       "output_type": "stream",
       "stream": "stdout",
       "text": [
        "\r",
        "ERA: [############---] 80% 401 0.312196772271 0.0097513202485       "
       ]
      },
      {
       "output_type": "stream",
       "stream": "stdout",
       "text": [
        "\r",
        "ERA: [############---] 80% 402 0.312196650436 0.00971110438913       "
       ]
      },
      {
       "output_type": "stream",
       "stream": "stdout",
       "text": [
        "\r",
        "ERA: [############---] 80% 403 0.312196796357 0.00965724861997       "
       ]
      },
      {
       "output_type": "stream",
       "stream": "stdout",
       "text": [
        "\r",
        "ERA: [############---] 80% 404 0.312197140972 0.00958404147571       "
       ]
      },
      {
       "output_type": "stream",
       "stream": "stdout",
       "text": [
        "\r",
        "ERA: [############---] 81% 405 0.312197570282 0.00949561637791       "
       ]
      },
      {
       "output_type": "stream",
       "stream": "stdout",
       "text": [
        "\r",
        "ERA: [############---] 81% 406 0.312197953812 0.00939771813513       "
       ]
      },
      {
       "output_type": "stream",
       "stream": "stdout",
       "text": [
        "\r",
        "ERA: [############---] 81% 407 0.312198171413 0.0093048027052       "
       ]
      },
      {
       "output_type": "stream",
       "stream": "stdout",
       "text": [
        "\r",
        "ERA: [############---] 81% 408 0.312198141607 0.00923029425161       "
       ]
      },
      {
       "output_type": "stream",
       "stream": "stdout",
       "text": [
        "\r",
        "ERA: [############---] 81% 409 0.312197837684 0.00918919717292       "
       ]
      },
      {
       "output_type": "stream",
       "stream": "stdout",
       "text": [
        "\r",
        "ERA: [############---] 82% 410 0.312197292903 0.00919065360208       "
       ]
      },
      {
       "output_type": "stream",
       "stream": "stdout",
       "text": [
        "\r",
        "ERA: [############---] 82% 411 0.312196591613 0.00923693562643       "
       ]
      },
      {
       "output_type": "stream",
       "stream": "stdout",
       "text": [
        "\r",
        "ERA: [############---] 82% 412 0.312195848111 0.00932360909574       "
       ]
      },
      {
       "output_type": "stream",
       "stream": "stdout",
       "text": [
        "\r",
        "ERA: [############---] 82% 413 0.312195181325 0.00943680726024       "
       ]
      },
      {
       "output_type": "stream",
       "stream": "stdout",
       "text": [
        "\r",
        "ERA: [############---] 82% 414 0.312194686043 0.00956263557956       "
       ]
      },
      {
       "output_type": "stream",
       "stream": "stdout",
       "text": [
        "\r",
        "ERA: [############---] 83% 415 0.312194414243 0.00968129322668       "
       ]
      },
      {
       "output_type": "stream",
       "stream": "stdout",
       "text": [
        "\r",
        "ERA: [#############--] 83% 416 0.312194362624 0.00978165076708       "
       ]
      },
      {
       "output_type": "stream",
       "stream": "stdout",
       "text": [
        "\r",
        "ERA: [#############--] 83% 417 0.312194477473 0.00985037028982       "
       ]
      },
      {
       "output_type": "stream",
       "stream": "stdout",
       "text": [
        "\r",
        "ERA: [#############--] 83% 418 0.312194667182 0.00988703360696       "
       ]
      },
      {
       "output_type": "stream",
       "stream": "stdout",
       "text": [
        "\r",
        "ERA: [#############--] 83% 419 0.312194826631 0.00988974240563       "
       ]
      },
      {
       "output_type": "stream",
       "stream": "stdout",
       "text": [
        "\r",
        "ERA: [#############--] 84% 420 0.312194861592 0.00986784276429       "
       ]
      },
      {
       "output_type": "stream",
       "stream": "stdout",
       "text": [
        "\r",
        "ERA: [#############--] 84% 421 0.31219471148 0.00982734960432       "
       ]
      },
      {
       "output_type": "stream",
       "stream": "stdout",
       "text": [
        "\r",
        "ERA: [#############--] 84% 422 0.312194363298 0.00977967536811       "
       ]
      },
      {
       "output_type": "stream",
       "stream": "stdout",
       "text": [
        "\r",
        "ERA: [#############--] 84% 423 0.312193853083 0.00973064143466       "
       ]
      },
      {
       "output_type": "stream",
       "stream": "stdout",
       "text": [
        "\r",
        "ERA: [#############--] 84% 424 0.312193257856 0.00968505215462       "
       ]
      },
      {
       "output_type": "stream",
       "stream": "stdout",
       "text": [
        "\r",
        "ERA: [#############--] 85% 425 0.31219267451 0.00964272038248       "
       ]
      },
      {
       "output_type": "stream",
       "stream": "stdout",
       "text": [
        "\r",
        "ERA: [#############--] 85% 426 0.312192198708 0.00959931094488       "
       ]
      },
      {
       "output_type": "stream",
       "stream": "stdout",
       "text": [
        "\r",
        "ERA: [#############--] 85% 427 0.312191898989 0.00955047737448       "
       ]
      },
      {
       "output_type": "stream",
       "stream": "stdout",
       "text": [
        "\r",
        "ERA: [#############--] 85% 428 0.312191803342 0.00948857420948       "
       ]
      },
      {
       "output_type": "stream",
       "stream": "stdout",
       "text": [
        "\r",
        "ERA: [#############--] 85% 429 0.312191889558 0.00941255868879       "
       ]
      },
      {
       "output_type": "stream",
       "stream": "stdout",
       "text": [
        "\r",
        "ERA: [#############--] 86% 430 0.312192093152 0.00932000659133       "
       ]
      },
      {
       "output_type": "stream",
       "stream": "stdout",
       "text": [
        "\r",
        "ERA: [#############--] 86% 431 0.312192320214 0.00921886221913       "
       ]
      },
      {
       "output_type": "stream",
       "stream": "stdout",
       "text": [
        "\r",
        "ERA: [#############--] 86% 432 0.31219247113 0.00911556698029       "
       ]
      },
      {
       "output_type": "stream",
       "stream": "stdout",
       "text": [
        "\r",
        "ERA: [#############--] 86% 433 0.312192462784 0.00902524836349       "
       ]
      },
      {
       "output_type": "stream",
       "stream": "stdout",
       "text": [
        "\r",
        "ERA: [#############--] 86% 434 0.312192248217 0.00895828784338       "
       ]
      },
      {
       "output_type": "stream",
       "stream": "stdout",
       "text": [
        "\r",
        "ERA: [#############--] 87% 435 0.31219182785 0.00892730349496       "
       ]
      },
      {
       "output_type": "stream",
       "stream": "stdout",
       "text": [
        "\r",
        "ERA: [#############--] 87% 436 0.312191248312 0.00893606565931       "
       ]
      },
      {
       "output_type": "stream",
       "stream": "stdout",
       "text": [
        "\r",
        "ERA: [#############--] 87% 437 0.312190593201 0.00898445371524       "
       ]
      },
      {
       "output_type": "stream",
       "stream": "stdout",
       "text": [
        "\r",
        "ERA: [#############--] 87% 438 0.312189961926 0.00906382362764       "
       ]
      },
      {
       "output_type": "stream",
       "stream": "stdout",
       "text": [
        "\r",
        "ERA: [#############--] 87% 439 0.312189449391 0.00916145807644       "
       ]
      },
      {
       "output_type": "stream",
       "stream": "stdout",
       "text": [
        "\r",
        "ERA: [#############--] 88% 440 0.312189122289 0.00926217552508       "
       ]
      },
      {
       "output_type": "stream",
       "stream": "stdout",
       "text": [
        "\r",
        "ERA: [#############--] 88% 441 0.312189007062 0.00935110198191       "
       ]
      },
      {
       "output_type": "stream",
       "stream": "stdout",
       "text": [
        "\r",
        "ERA: [#############--] 88% 442 0.312189082346 0.00941729663694       "
       ]
      },
      {
       "output_type": "stream",
       "stream": "stdout",
       "text": [
        "\r",
        "ERA: [#############--] 88% 443 0.312189287105 0.00945387249724       "
       ]
      },
      {
       "output_type": "stream",
       "stream": "stdout",
       "text": [
        "\r",
        "ERA: [#############--] 88% 444 0.312189533307 0.00946004834863       "
       ]
      },
      {
       "output_type": "stream",
       "stream": "stdout",
       "text": [
        "\r",
        "ERA: [#############--] 89% 445 0.312189728323 0.00943983170782       "
       ]
      },
      {
       "output_type": "stream",
       "stream": "stdout",
       "text": [
        "\r",
        "ERA: [#############--] 89% 446 0.312189794571 0.00940070881592       "
       ]
      },
      {
       "output_type": "stream",
       "stream": "stdout",
       "text": [
        "\r",
        "ERA: [#############--] 89% 447 0.312189687869 0.00935303087718       "
       ]
      },
      {
       "output_type": "stream",
       "stream": "stdout",
       "text": [
        "\r",
        "ERA: [#############--] 89% 448 0.312189405722 0.00930498298886       "
       ]
      },
      {
       "output_type": "stream",
       "stream": "stdout",
       "text": [
        "\r",
        "ERA: [#############--] 89% 449 0.312188986962 0.00926506782192       "
       ]
      },
      {
       "output_type": "stream",
       "stream": "stdout",
       "text": [
        "\r",
        "ERA: [##############-] 90% 450 0.312188501417 0.00923443727649       "
       ]
      },
      {
       "output_type": "stream",
       "stream": "stdout",
       "text": [
        "\r",
        "ERA: [##############-] 90% 451 0.312188032297 0.00921454466486       "
       ]
      },
      {
       "output_type": "stream",
       "stream": "stdout",
       "text": [
        "\r",
        "ERA: [##############-] 90% 452 0.312187656918 0.00919820440726       "
       ]
      },
      {
       "output_type": "stream",
       "stream": "stdout",
       "text": [
        "\r",
        "ERA: [##############-] 90% 453 0.312187427596 0.00918229158812       "
       ]
      },
      {
       "output_type": "stream",
       "stream": "stdout",
       "text": [
        "\r",
        "ERA: [##############-] 90% 454 0.312187360987 0.00915755570853       "
       ]
      },
      {
       "output_type": "stream",
       "stream": "stdout",
       "text": [
        "\r",
        "ERA: [##############-] 91% 455 0.312187433506 0.0091235434228       "
       ]
      },
      {
       "output_type": "stream",
       "stream": "stdout",
       "text": [
        "\r",
        "ERA: [##############-] 91% 456 0.312187589092 0.00907664605114       "
       ]
      },
      {
       "output_type": "stream",
       "stream": "stdout",
       "text": [
        "\r",
        "ERA: [##############-] 91% 457 0.31218775166 0.00902390313897       "
       ]
      },
      {
       "output_type": "stream",
       "stream": "stdout",
       "text": [
        "\r",
        "ERA: [##############-] 91% 458 0.312187844946 0.00896975414184       "
       ]
      },
      {
       "output_type": "stream",
       "stream": "stdout",
       "text": [
        "\r",
        "ERA: [##############-] 91% 459 0.312187809405 0.00892659510542       "
       ]
      },
      {
       "output_type": "stream",
       "stream": "stdout",
       "text": [
        "\r",
        "ERA: [##############-] 92% 460 0.312187617522 0.00890182828141       "
       ]
      },
      {
       "output_type": "stream",
       "stream": "stdout",
       "text": [
        "\r",
        "ERA: [##############-] 92% 461 0.312187279074 0.00890497709569       "
       ]
      },
      {
       "output_type": "stream",
       "stream": "stdout",
       "text": [
        "\r",
        "ERA: [##############-] 92% 462 0.31218683964 0.00893764566739       "
       ]
      },
      {
       "output_type": "stream",
       "stream": "stdout",
       "text": [
        "\r",
        "ERA: [##############-] 92% 463 0.31218636892 0.0089990013503       "
       ]
      },
      {
       "output_type": "stream",
       "stream": "stdout",
       "text": [
        "\r",
        "ERA: [##############-] 92% 464 0.312185944973 0.00908092465166       "
       ]
      },
      {
       "output_type": "stream",
       "stream": "stdout",
       "text": [
        "\r",
        "ERA: [##############-] 93% 465 0.312185635513 0.00917324801324       "
       ]
      },
      {
       "output_type": "stream",
       "stream": "stdout",
       "text": [
        "\r",
        "ERA: [##############-] 93% 466 0.312185482477 0.00926324426892       "
       ]
      },
      {
       "output_type": "stream",
       "stream": "stdout",
       "text": [
        "\r",
        "ERA: [##############-] 93% 467 0.312185492414 0.00933976729484       "
       ]
      },
      {
       "output_type": "stream",
       "stream": "stdout",
       "text": [
        "\r",
        "ERA: [##############-] 93% 468 0.31218563497 0.0093939439583       "
       ]
      },
      {
       "output_type": "stream",
       "stream": "stdout",
       "text": [
        "\r",
        "ERA: [##############-] 93% 469 0.312185850524 0.00942128739512       "
       ]
      },
      {
       "output_type": "stream",
       "stream": "stdout",
       "text": [
        "\r",
        "ERA: [##############-] 94% 470 0.312186063391 0.00942126063157       "
       ]
      },
      {
       "output_type": "stream",
       "stream": "stdout",
       "text": [
        "\r",
        "ERA: [##############-] 94% 471 0.312186200038 0.00939781088622       "
       ]
      },
      {
       "output_type": "stream",
       "stream": "stdout",
       "text": [
        "\r",
        "ERA: [##############-] 94% 472 0.312186204733 0.00935695286018       "
       ]
      },
      {
       "output_type": "stream",
       "stream": "stdout",
       "text": [
        "\r",
        "ERA: [##############-] 94% 473 0.312186052952 0.00930699606876       "
       ]
      },
      {
       "output_type": "stream",
       "stream": "stdout",
       "text": [
        "\r",
        "ERA: [##############-] 94% 474 0.312185755241 0.00925440614978       "
       ]
      },
      {
       "output_type": "stream",
       "stream": "stdout",
       "text": [
        "\r",
        "ERA: [##############-] 95% 475 0.312185355191 0.00920541603818       "
       ]
      },
      {
       "output_type": "stream",
       "stream": "stdout",
       "text": [
        "\r",
        "ERA: [##############-] 95% 476 0.312184917829 0.00916122485919       "
       ]
      },
      {
       "output_type": "stream",
       "stream": "stdout",
       "text": [
        "\r",
        "ERA: [##############-] 95% 477 0.312184515185 0.00912249783725       "
       ]
      },
      {
       "output_type": "stream",
       "stream": "stdout",
       "text": [
        "\r",
        "ERA: [##############-] 95% 478 0.312184209047 0.00908467954626       "
       ]
      },
      {
       "output_type": "stream",
       "stream": "stdout",
       "text": [
        "\r",
        "ERA: [##############-] 95% 479 0.312184037598 0.00904537420926       "
       ]
      },
      {
       "output_type": "stream",
       "stream": "stdout",
       "text": [
        "\r",
        "ERA: [##############-] 96% 480 0.312184007021 0.00899925784835       "
       ]
      },
      {
       "output_type": "stream",
       "stream": "stdout",
       "text": [
        "\r",
        "ERA: [##############-] 96% 481 0.312184091074 0.00894663832244       "
       ]
      },
      {
       "output_type": "stream",
       "stream": "stdout",
       "text": [
        "\r",
        "ERA: [##############-] 96% 482 0.312184238118 0.00888692762667       "
       ]
      },
      {
       "output_type": "stream",
       "stream": "stdout",
       "text": [
        "\r",
        "ERA: [###############] 96% 483 0.312184383629 0.00882649584977       "
       ]
      },
      {
       "output_type": "stream",
       "stream": "stdout",
       "text": [
        "\r",
        "ERA: [###############] 96% 484 0.312184465928 0.00877040311681       "
       ]
      },
      {
       "output_type": "stream",
       "stream": "stdout",
       "text": [
        "\r",
        "ERA: [###############] 97% 485 0.31218444021 0.00872864054162       "
       ]
      },
      {
       "output_type": "stream",
       "stream": "stdout",
       "text": [
        "\r",
        "ERA: [###############] 97% 486 0.312184289172 0.00870698456843       "
       ]
      },
      {
       "output_type": "stream",
       "stream": "stdout",
       "text": [
        "\r",
        "ERA: [###############] 97% 487 0.312184026046 0.00871215411418       "
       ]
      },
      {
       "output_type": "stream",
       "stream": "stdout",
       "text": [
        "\r",
        "ERA: [###############] 97% 488 0.312183691365 0.00874381077364       "
       ]
      },
      {
       "output_type": "stream",
       "stream": "stdout",
       "text": [
        "\r",
        "ERA: [###############] 97% 489 0.312183342412 0.00880017307142       "
       ]
      },
      {
       "output_type": "stream",
       "stream": "stdout",
       "text": [
        "\r",
        "ERA: [###############] 98% 490 0.312183039775 0.00887292573831       "
       ]
      },
      {
       "output_type": "stream",
       "stream": "stdout",
       "text": [
        "\r",
        "ERA: [###############] 98% 491 0.312182832578 0.00895371771949       "
       ]
      },
      {
       "output_type": "stream",
       "stream": "stdout",
       "text": [
        "\r",
        "ERA: [###############] 98% 492 0.312182747178 0.00903143420574       "
       ]
      },
      {
       "output_type": "stream",
       "stream": "stdout",
       "text": [
        "\r",
        "ERA: [###############] 98% 493 0.31218278103 0.00909814046434       "
       ]
      },
      {
       "output_type": "stream",
       "stream": "stdout",
       "text": [
        "\r",
        "ERA: [###############] 98% 494 0.312182903458 0.00914680361859       "
       ]
      },
      {
       "output_type": "stream",
       "stream": "stdout",
       "text": [
        "\r",
        "ERA: [###############] 99% 495 0.31218306324 0.00917542740083       "
       ]
      },
      {
       "output_type": "stream",
       "stream": "stdout",
       "text": [
        "\r",
        "ERA: [###############] 99% 496 0.3121832004 0.00918400855355       "
       ]
      },
      {
       "output_type": "stream",
       "stream": "stdout",
       "text": [
        "\r",
        "ERA: [###############] 99% 497 0.31218326067 0.0091768740491       "
       ]
      },
      {
       "output_type": "stream",
       "stream": "stdout",
       "text": [
        "\r",
        "ERA: [###############] 99% 498 0.312183207544 0.00915869699488       "
       ]
      },
      {
       "output_type": "stream",
       "stream": "stdout",
       "text": [
        "\r",
        "ERA: [###############] 100% 499 0.312183031111 0.00913596685903 Done...\r\n",
        "      "
       ]
      }
     ],
     "prompt_number": 8
    },
    {
     "cell_type": "heading",
     "level": 1,
     "metadata": {},
     "source": [
      "Display the results"
     ]
    },
    {
     "cell_type": "code",
     "collapsed": false,
     "input": [
      "gs = GridSpec(2,4)\n",
      "\n",
      "ax = subplot(gs[0,0])\n",
      "ax.imshow(F)\n",
      "ax.set_title('F')\n",
      "\n",
      "ax = subplot(gs[0,1])\n",
      "ax.imshow(np.abs(exit))\n",
      "ax.set_title('L{F}')\n",
      "\n",
      "ax = subplot(gs[0,2])\n",
      "ax.imshow(np.log(I+1.0e-5))\n",
      "ax.set_title('Diffraction pattern')\n",
      "\n",
      "ax = subplot(gs[0,3])\n",
      "ax.imshow(sample.real)\n",
      "ax.set_title('retrieved sample')\n",
      "\n",
      "ax = subplot(gs[1,:2])\n",
      "ax.plot(np.log10(e_mod), 'k', linewidth=3, alpha = 0.7, label='modulus')\n",
      "ax.plot(np.log10(e_sup), linewidth=3, alpha = 0.7, label='support')\n",
      "ax.set_title('modulus and support error')\n",
      "ax.set_xlabel('iteration')\n",
      "ax.set_ylabel('log10 ( e )')\n",
      "ax.legend()\n",
      "\n",
      "ax = subplot(gs[1,2:])\n",
      "ax.plot(np.log10(e_fid), 'k', linewidth=3, alpha = 0.7)\n",
      "ax.set_title('fidelity error')\n",
      "ax.set_xlabel('iteration')\n",
      "ax.set_ylabel('log10 ( e_fid )')\n",
      "\n",
      "\n",
      "fig = gcf()\n",
      "fig.set_size_inches(20,10)"
     ],
     "language": "python",
     "metadata": {},
     "outputs": [
      {
       "metadata": {},
       "output_type": "display_data",
       "png": "[encoded data removed]",
       "text": [
        "<matplotlib.figure.Figure at 0x9a47ecc>"
       ]
      }
     ],
     "prompt_number": 18
    }
   ],
   "metadata": {}
  }
 ]
}