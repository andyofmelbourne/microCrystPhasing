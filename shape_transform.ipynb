{
 "metadata": {
  "name": "",
  "signature": "sha256:254fd89393efe26d0908075cfac27d282f9775bf287ef6edbb2feb1e7bcaa956"
 },
 "nbformat": 3,
 "nbformat_minor": 0,
 "worksheets": [
  {
   "cells": [
    {
     "cell_type": "code",
     "collapsed": false,
     "input": [
      "import numpy as np\n",
      "import bagOfns as bg\n",
      "%pylab inline"
     ],
     "language": "python",
     "metadata": {},
     "outputs": [
      {
       "output_type": "stream",
       "stream": "stdout",
       "text": [
        "Populating the interactive namespace from numpy and matplotlib\n"
       ]
      },
      {
       "output_type": "stream",
       "stream": "stderr",
       "text": [
        "WARNING: pylab import has clobbered these variables: ['shape']\n",
        "`%matplotlib` prevents importing * from pylab and numpy\n"
       ]
      }
     ],
     "prompt_number": 9
    },
    {
     "cell_type": "markdown",
     "metadata": {},
     "source": [
      "$\n",
      "\\begin{align}\n",
      "I(q) = \\sum_c w_c \\left| \\sum_p \\rho(R_p q) e^{i t^c_p \\cdot q} \\right|^2\n",
      "\\end{align}\n",
      "$\n",
      "\n",
      "We want to get $\\rho(r)$ from $I(q)$\n",
      "\n",
      "$\n",
      "\\begin{align}\n",
      "I(q) &= \\sum_c w_c \\left| \\sum_p T^c_p \\cdot R_p \\cdot \\rho(q) \\right|^2 \n",
      "     = \\sum_c w_c \\left| \\sum_p \\rho^c_p(q) \\right|^2 \n",
      "     = \\sum_c w_c \\left| \\rho^c(q) \\right|^2 \n",
      "\\end{align}\n",
      "$"
     ]
    },
    {
     "cell_type": "heading",
     "level": 1,
     "metadata": {},
     "source": [
      "Make a sample "
     ]
    },
    {
     "cell_type": "code",
     "collapsed": false,
     "input": [
      "F = bg.binary_in('F_8bit', dt=np.int8, dimFnam=True).astype(np.float64)\n",
      "# trim F to save memory\n",
      "F = F[30:190, 90:190]\n",
      "# down sample\n",
      "F = F[0:-1:4, 0:-1:4]\n",
      "imshow(F)"
     ],
     "language": "python",
     "metadata": {},
     "outputs": [
      {
       "metadata": {},
       "output_type": "pyout",
       "prompt_number": 10,
       "text": [
        "<matplotlib.image.AxesImage at 0x7f0c51601b10>"
       ]
      },
      {
       "metadata": {},
       "output_type": "display_data",
       "png": "[encoded data removed]",
       "text": [
        "<matplotlib.figure.Figure at 0x7f0c5187b790>"
       ]
      }
     ],
     "prompt_number": 10
    },
    {
     "cell_type": "heading",
     "level": 2,
     "metadata": {},
     "source": [
      "Make the rotation and translation opperators"
     ]
    },
    {
     "cell_type": "code",
     "collapsed": false,
     "input": [
      "shape = (128, 128)\n",
      "sample_support = np.ones_like(F, dtype=np.bool)\n",
      "sample_support = bg.zero_pad(sample_support, shape)\n",
      "F_pad = bg.zero_pad(F, shape)"
     ],
     "language": "python",
     "metadata": {},
     "outputs": [],
     "prompt_number": 11
    },
    {
     "cell_type": "heading",
     "level": 3,
     "metadata": {},
     "source": [
      "We should work with 1d vectors for compatability with linear routines..."
     ]
    },
    {
     "cell_type": "code",
     "collapsed": false,
     "input": [
      "# Let's invent some rotations and translations\n",
      "# Choosing only multiples of 90 deg to avoid aliasing issues\n",
      "R0 = lambda x: x\n",
      "R1 = lambda x: np.rot90(x, k=1)\n",
      "R2 = lambda x: np.rot90(x, k=2)\n",
      "R3 = lambda x: np.rot90(x, k=3)\n",
      "R4 = lambda x: np.fliplr(x)\n",
      "R5 = lambda x: np.flipud(x)\n",
      "\n",
      "T0 = lambda x: x\n",
      "T1 = lambda x: np.roll(x, 10, 0)\n",
      "T2 = lambda x: np.roll(x, 10, 1)\n",
      "T3 = lambda x: np.roll(x, -10, 1)\n",
      "\n",
      "# L is the linear mapping that represents (R0 . x + T0) + (R1 . x + T1) + ... \n",
      "L = lambda x: T0(R0(x)) + T0(R1(x)) + T0(R2(x)) + T0(R3(x)) + T0(R4(x)) + T0(R5(x)) \\\n",
      "             +T1(R0(x)) + T2(R1(x)) + T3(R2(x)) + T1(R3(x)) + T2(R4(x)) + T3(R5(x)) \n",
      "\n",
      "# let's have a look\n",
      "imshow(L(F_pad))"
     ],
     "language": "python",
     "metadata": {},
     "outputs": [
      {
       "metadata": {},
       "output_type": "pyout",
       "prompt_number": 12,
       "text": [
        "<matplotlib.image.AxesImage at 0x7f0c5154cd50>"
       ]
      },
      {
       "metadata": {},
       "output_type": "display_data",
       "png": "[encoded data removed]",
       "text": [
        "<matplotlib.figure.Figure at 0x7f0c759c2190>"
       ]
      }
     ],
     "prompt_number": 12
    },
    {
     "cell_type": "code",
     "collapsed": false,
     "input": [
      "bmask = L(sample_support)\n",
      "bmask = bg.zero_pad(bmask, shape) > 0.0\n",
      "\n",
      "imshow(bmask)"
     ],
     "language": "python",
     "metadata": {},
     "outputs": [
      {
       "metadata": {},
       "output_type": "pyout",
       "prompt_number": 13,
       "text": [
        "<matplotlib.image.AxesImage at 0x7f0c51472810>"
       ]
      },
      {
       "metadata": {},
       "output_type": "display_data",
       "png": "[encoded data removed]",
       "text": [
        "<matplotlib.figure.Figure at 0x7f0c51614a90>"
       ]
      }
     ],
     "prompt_number": 13
    },
    {
     "cell_type": "code",
     "collapsed": false,
     "input": [
      "A, x, b = bg.matrify(sample_support, L, bmask = bmask, dt=np.float64, progress=True)"
     ],
     "language": "python",
     "metadata": {},
     "outputs": [
      {
       "output_type": "stream",
       "stream": "stdout",
       "text": [
        "100- :-"
       ]
      },
      {
       "output_type": "stream",
       "stream": "stdout",
       "text": [
        "-"
       ]
      },
      {
       "output_type": "stream",
       "stream": "stdout",
       "text": [
        "-"
       ]
      },
      {
       "output_type": "stream",
       "stream": "stdout",
       "text": [
        "-"
       ]
      },
      {
       "output_type": "stream",
       "stream": "stdout",
       "text": [
        "-"
       ]
      },
      {
       "output_type": "stream",
       "stream": "stdout",
       "text": [
        "-"
       ]
      },
      {
       "output_type": "stream",
       "stream": "stdout",
       "text": [
        "-"
       ]
      },
      {
       "output_type": "stream",
       "stream": "stdout",
       "text": [
        "-"
       ]
      },
      {
       "output_type": "stream",
       "stream": "stdout",
       "text": [
        "-"
       ]
      },
      {
       "output_type": "stream",
       "stream": "stdout",
       "text": [
        "-"
       ]
      },
      {
       "output_type": "stream",
       "stream": "stdout",
       "text": [
        "-"
       ]
      },
      {
       "output_type": "stream",
       "stream": "stdout",
       "text": [
        "-"
       ]
      },
      {
       "output_type": "stream",
       "stream": "stdout",
       "text": [
        "-"
       ]
      },
      {
       "output_type": "stream",
       "stream": "stdout",
       "text": [
        "-"
       ]
      },
      {
       "output_type": "stream",
       "stream": "stdout",
       "text": [
        "-"
       ]
      },
      {
       "output_type": "stream",
       "stream": "stdout",
       "text": [
        "-"
       ]
      },
      {
       "output_type": "stream",
       "stream": "stdout",
       "text": [
        "-"
       ]
      },
      {
       "output_type": "stream",
       "stream": "stdout",
       "text": [
        "-"
       ]
      },
      {
       "output_type": "stream",
       "stream": "stdout",
       "text": [
        "-"
       ]
      },
      {
       "output_type": "stream",
       "stream": "stdout",
       "text": [
        "-"
       ]
      },
      {
       "output_type": "stream",
       "stream": "stdout",
       "text": [
        "-"
       ]
      },
      {
       "output_type": "stream",
       "stream": "stdout",
       "text": [
        "-"
       ]
      },
      {
       "output_type": "stream",
       "stream": "stdout",
       "text": [
        "-"
       ]
      },
      {
       "output_type": "stream",
       "stream": "stdout",
       "text": [
        "-"
       ]
      },
      {
       "output_type": "stream",
       "stream": "stdout",
       "text": [
        "-"
       ]
      },
      {
       "output_type": "stream",
       "stream": "stdout",
       "text": [
        "-"
       ]
      },
      {
       "output_type": "stream",
       "stream": "stdout",
       "text": [
        "-"
       ]
      },
      {
       "output_type": "stream",
       "stream": "stdout",
       "text": [
        "-"
       ]
      },
      {
       "output_type": "stream",
       "stream": "stdout",
       "text": [
        "-"
       ]
      },
      {
       "output_type": "stream",
       "stream": "stdout",
       "text": [
        "-"
       ]
      },
      {
       "output_type": "stream",
       "stream": "stdout",
       "text": [
        "-"
       ]
      },
      {
       "output_type": "stream",
       "stream": "stdout",
       "text": [
        "-"
       ]
      },
      {
       "output_type": "stream",
       "stream": "stdout",
       "text": [
        "-"
       ]
      },
      {
       "output_type": "stream",
       "stream": "stdout",
       "text": [
        "-"
       ]
      },
      {
       "output_type": "stream",
       "stream": "stdout",
       "text": [
        "-"
       ]
      },
      {
       "output_type": "stream",
       "stream": "stdout",
       "text": [
        "-"
       ]
      },
      {
       "output_type": "stream",
       "stream": "stdout",
       "text": [
        "-"
       ]
      },
      {
       "output_type": "stream",
       "stream": "stdout",
       "text": [
        "-"
       ]
      },
      {
       "output_type": "stream",
       "stream": "stdout",
       "text": [
        "-"
       ]
      },
      {
       "output_type": "stream",
       "stream": "stdout",
       "text": [
        "-"
       ]
      },
      {
       "output_type": "stream",
       "stream": "stdout",
       "text": [
        "-"
       ]
      },
      {
       "output_type": "stream",
       "stream": "stdout",
       "text": [
        "-"
       ]
      },
      {
       "output_type": "stream",
       "stream": "stdout",
       "text": [
        "-"
       ]
      },
      {
       "output_type": "stream",
       "stream": "stdout",
       "text": [
        "-"
       ]
      },
      {
       "output_type": "stream",
       "stream": "stdout",
       "text": [
        "-"
       ]
      },
      {
       "output_type": "stream",
       "stream": "stdout",
       "text": [
        "-"
       ]
      },
      {
       "output_type": "stream",
       "stream": "stdout",
       "text": [
        "-"
       ]
      },
      {
       "output_type": "stream",
       "stream": "stdout",
       "text": [
        "-"
       ]
      },
      {
       "output_type": "stream",
       "stream": "stdout",
       "text": [
        "-"
       ]
      },
      {
       "output_type": "stream",
       "stream": "stdout",
       "text": [
        "-"
       ]
      },
      {
       "output_type": "stream",
       "stream": "stdout",
       "text": [
        "-"
       ]
      },
      {
       "output_type": "stream",
       "stream": "stdout",
       "text": [
        "-"
       ]
      },
      {
       "output_type": "stream",
       "stream": "stdout",
       "text": [
        "-"
       ]
      },
      {
       "output_type": "stream",
       "stream": "stdout",
       "text": [
        "-"
       ]
      },
      {
       "output_type": "stream",
       "stream": "stdout",
       "text": [
        "-"
       ]
      },
      {
       "output_type": "stream",
       "stream": "stdout",
       "text": [
        "-"
       ]
      },
      {
       "output_type": "stream",
       "stream": "stdout",
       "text": [
        "-"
       ]
      },
      {
       "output_type": "stream",
       "stream": "stdout",
       "text": [
        "-"
       ]
      },
      {
       "output_type": "stream",
       "stream": "stdout",
       "text": [
        "-"
       ]
      },
      {
       "output_type": "stream",
       "stream": "stdout",
       "text": [
        "-"
       ]
      },
      {
       "output_type": "stream",
       "stream": "stdout",
       "text": [
        "-"
       ]
      },
      {
       "output_type": "stream",
       "stream": "stdout",
       "text": [
        "-"
       ]
      },
      {
       "output_type": "stream",
       "stream": "stdout",
       "text": [
        "-"
       ]
      },
      {
       "output_type": "stream",
       "stream": "stdout",
       "text": [
        "-"
       ]
      },
      {
       "output_type": "stream",
       "stream": "stdout",
       "text": [
        "-"
       ]
      },
      {
       "output_type": "stream",
       "stream": "stdout",
       "text": [
        "-"
       ]
      },
      {
       "output_type": "stream",
       "stream": "stdout",
       "text": [
        "-"
       ]
      },
      {
       "output_type": "stream",
       "stream": "stdout",
       "text": [
        "-"
       ]
      },
      {
       "output_type": "stream",
       "stream": "stdout",
       "text": [
        "-"
       ]
      },
      {
       "output_type": "stream",
       "stream": "stdout",
       "text": [
        "-"
       ]
      },
      {
       "output_type": "stream",
       "stream": "stdout",
       "text": [
        "-"
       ]
      },
      {
       "output_type": "stream",
       "stream": "stdout",
       "text": [
        "-"
       ]
      },
      {
       "output_type": "stream",
       "stream": "stdout",
       "text": [
        "-"
       ]
      },
      {
       "output_type": "stream",
       "stream": "stdout",
       "text": [
        "-"
       ]
      },
      {
       "output_type": "stream",
       "stream": "stdout",
       "text": [
        "-"
       ]
      },
      {
       "output_type": "stream",
       "stream": "stdout",
       "text": [
        "-"
       ]
      },
      {
       "output_type": "stream",
       "stream": "stdout",
       "text": [
        "-"
       ]
      },
      {
       "output_type": "stream",
       "stream": "stdout",
       "text": [
        "-"
       ]
      },
      {
       "output_type": "stream",
       "stream": "stdout",
       "text": [
        "-"
       ]
      },
      {
       "output_type": "stream",
       "stream": "stdout",
       "text": [
        "-"
       ]
      },
      {
       "output_type": "stream",
       "stream": "stdout",
       "text": [
        "-"
       ]
      },
      {
       "output_type": "stream",
       "stream": "stdout",
       "text": [
        "-"
       ]
      },
      {
       "output_type": "stream",
       "stream": "stdout",
       "text": [
        "-"
       ]
      },
      {
       "output_type": "stream",
       "stream": "stdout",
       "text": [
        "-"
       ]
      },
      {
       "output_type": "stream",
       "stream": "stdout",
       "text": [
        "-"
       ]
      },
      {
       "output_type": "stream",
       "stream": "stdout",
       "text": [
        "-"
       ]
      },
      {
       "output_type": "stream",
       "stream": "stdout",
       "text": [
        "-"
       ]
      },
      {
       "output_type": "stream",
       "stream": "stdout",
       "text": [
        "-"
       ]
      },
      {
       "output_type": "stream",
       "stream": "stdout",
       "text": [
        "-"
       ]
      },
      {
       "output_type": "stream",
       "stream": "stdout",
       "text": [
        "-"
       ]
      },
      {
       "output_type": "stream",
       "stream": "stdout",
       "text": [
        "-"
       ]
      },
      {
       "output_type": "stream",
       "stream": "stdout",
       "text": [
        "-"
       ]
      },
      {
       "output_type": "stream",
       "stream": "stdout",
       "text": [
        "-"
       ]
      },
      {
       "output_type": "stream",
       "stream": "stdout",
       "text": [
        "-"
       ]
      },
      {
       "output_type": "stream",
       "stream": "stdout",
       "text": [
        "-"
       ]
      },
      {
       "output_type": "stream",
       "stream": "stdout",
       "text": [
        "\n"
       ]
      }
     ],
     "prompt_number": 14
    },
    {
     "cell_type": "code",
     "collapsed": false,
     "input": [
      "# test it\n",
      "F_x = x.vect(F_pad)\n",
      "\n",
      "F_b = b.array(np.dot(A, F_x))\n",
      "\n",
      "print np.allclose(F_b.real, L(F_pad))"
     ],
     "language": "python",
     "metadata": {},
     "outputs": [
      {
       "output_type": "stream",
       "stream": "stdout",
       "text": [
        "True\n"
       ]
      }
     ],
     "prompt_number": 15
    },
    {
     "cell_type": "heading",
     "level": 4,
     "metadata": {},
     "source": [
      "Now we have the linear mapping (L) as a 2-d matrix (A) let's find L-1 "
     ]
    },
    {
     "cell_type": "code",
     "collapsed": false,
     "input": [
      "U, s, Vt = np.linalg.svd(A)\n",
      "\n",
      "# Check it\n",
      "S = np.zeros((A.shape[0], A.shape[1]), dtype=A.dtype)\n",
      "S[:s.shape[0], :s.shape[0]] = np.diag(s)\n",
      "\n",
      "print np.allclose(A, np.dot(U, np.dot(S, Vt)))"
     ],
     "language": "python",
     "metadata": {},
     "outputs": [
      {
       "output_type": "stream",
       "stream": "stdout",
       "text": [
        "True\n"
       ]
      }
     ],
     "prompt_number": 16
    },
    {
     "cell_type": "code",
     "collapsed": false,
     "input": [
      "# construct the psuedo inverse of A\n",
      "S_inv = np.zeros((A.shape[0], A.shape[1]), dtype=A.dtype)\n",
      "S_inv[:s.shape[0], :s.shape[0]] = np.diag(1. / s)\n",
      "S_inv = S_inv.T\n",
      "#\n",
      "A_inv = np.dot(Vt.T, np.dot(S_inv, U.T))"
     ],
     "language": "python",
     "metadata": {},
     "outputs": [],
     "prompt_number": 17
    },
    {
     "cell_type": "code",
     "collapsed": false,
     "input": [
      "# Test the inverse\n",
      "F_vect = x.vect(F_pad) # vectorized F\n",
      "\n",
      "B_vect = np.dot(A, F_x) # vectorized B = L{F}\n",
      "\n",
      "F_ret_vect = np.dot(A_inv, B_vect) # inverted F = L-1{ L{F} }\n",
      "\n",
      "# make the arrays for viewing\n",
      "F_array = x.array(F_vect).real \n",
      "B_array = b.array(B_vect).real\n",
      "F_ret_array = x.array(F_ret_vect).real\n",
      "\n",
      "gs = GridSpec(1,3)\n",
      "\n",
      "ax = subplot(gs[0,0])\n",
      "ax.imshow(F_array)\n",
      "ax.set_title('F')\n",
      "\n",
      "ax = subplot(gs[0,1])\n",
      "ax.imshow(B_array)\n",
      "ax.set_title('L{F}')\n",
      "\n",
      "ax = subplot(gs[0,2])\n",
      "ax.imshow(F_ret_array)\n",
      "ax.set_title('L-1{ L{F} }')\n",
      "\n",
      "fig = gcf()\n",
      "fig.set_size_inches(20,5)"
     ],
     "language": "python",
     "metadata": {},
     "outputs": [
      {
       "metadata": {},
       "output_type": "display_data",
       "png": "[encoded data removed]",
       "text": [
        "<matplotlib.figure.Figure at 0x7f0c51571050>"
       ]
      }
     ],
     "prompt_number": 18
    },
    {
     "cell_type": "heading",
     "level": 1,
     "metadata": {},
     "source": [
      "Phase retrieval with one coherent mode"
     ]
    },
    {
     "cell_type": "code",
     "collapsed": false,
     "input": [
      "I = np.abs(bg.fft2(B_array + 0.0J))**2\n",
      "imshow(I)"
     ],
     "language": "python",
     "metadata": {},
     "outputs": [
      {
       "metadata": {},
       "output_type": "pyout",
       "prompt_number": 19,
       "text": [
        "<matplotlib.image.AxesImage at 0x7f0c4212c590>"
       ]
      },
      {
       "metadata": {},
       "output_type": "display_data",
       "png": "[encoded data removed]",
       "text": [
        "<matplotlib.figure.Figure at 0x7f0c51508890>"
       ]
      }
     ],
     "prompt_number": 19
    },
    {
     "cell_type": "code",
     "collapsed": false,
     "input": [
      "sample = np.random.random(F_pad.shape) * sample_support + 0.0\n",
      "exit   = L(sample)\n",
      "#sample = F_pad.copy() + 0.0\n",
      "sample_0 = sample.copy()\n",
      "\n",
      "L_inv = lambda y: x.array(np.dot(A_inv, b.vect(y)))\n",
      "\n",
      "def Pmod(exit, diffraction_pattern, alpha=1.0e-10):\n",
      "    # go to the detector\n",
      "    exit = bg.fft2(exit)\n",
      "    # apply the modulus constraint\n",
      "    exit = exit * np.sqrt(diffraction_pattern) / (np.abs(exit) + alpha)\n",
      "    # back to real-space\n",
      "    exit = bg.ifft2(exit)\n",
      "    return exit\n",
      "\n",
      "def Psup(exit, mapping, inv_mapping):\n",
      "    s        = inv_mapping(exit) # this implicitly applies the support constraint\n",
      "    exit_out = mapping(s)        # generates the new guess for the exit wave\n",
      "    return exit_out, s\n",
      "\n",
      "\n",
      "# ERA\n",
      "for i in range(1000):\n",
      "    exit = Pmod(exit, I)\n",
      "    exit, sample = Psup(exit, L, L_inv)\n",
      "    #\n",
      "    # calculate the fidelity\n",
      "    error = bg.l2norm(F_pad + 0.0J, sample), bg.l2norm(np.sqrt(I), np.abs(bg.fft2(exit)))\n",
      "    print error"
     ],
     "language": "python",
     "metadata": {},
     "outputs": [
      {
       "output_type": "stream",
       "stream": "stdout",
       "text": [
        "(1.1676661963650166, 0.35282345521925484)\n",
        "(1.5181934803988113, 0.27577884371674938)\n",
        "(1.6361409208184692, 0.22779142635828326)"
       ]
      },
      {
       "output_type": "stream",
       "stream": "stdout",
       "text": [
        "\n",
        "(1.6247636672694394, 0.18957532506289743)\n",
        "(1.5765402956391301, 0.16446925623970435)"
       ]
      },
      {
       "output_type": "stream",
       "stream": "stdout",
       "text": [
        "\n",
        "(1.5290147653870692, 0.15034305475076262)\n",
        "(1.4880362959769127, 0.14110250772558983)"
       ]
      },
      {
       "output_type": "stream",
       "stream": "stdout",
       "text": [
        "\n",
        "(1.4521759743155791, 0.13483280736609538)\n",
        "(1.4222326571758976, 0.13079260968379683)"
       ]
      },
      {
       "output_type": "stream",
       "stream": "stdout",
       "text": [
        "\n",
        "(1.397746912115083, 0.1279065666657517)\n",
        "(1.3777296205280702, 0.12576063005103083)"
       ]
      },
      {
       "output_type": "stream",
       "stream": "stdout",
       "text": [
        "\n",
        "(1.3600137605071325, 0.12412048934578937)\n",
        "(1.3435520034505635, 0.12277017534569552)"
       ]
      },
      {
       "output_type": "stream",
       "stream": "stdout",
       "text": [
        "\n",
        "(1.3282078639355319, 0.12158525990402824)\n",
        "(1.3144557162949084, 0.12052158669750569)"
       ]
      },
      {
       "output_type": "stream",
       "stream": "stdout",
       "text": [
        "\n",
        "(1.3025784290101925, 0.11955943932513746)\n",
        "(1.2921219403028517, 0.11866909308408195)"
       ]
      },
      {
       "output_type": "stream",
       "stream": "stdout",
       "text": [
        "\n",
        "(1.2828230882705514, 0.11780855975520975)\n",
        "(1.2747477650506651, 0.11697536463776113)"
       ]
      },
      {
       "output_type": "stream",
       "stream": "stdout",
       "text": [
        "\n",
        "(1.2676563254313808, 0.11625710300017064)\n",
        "(1.2611873795778501, 0.1156720021167874)"
       ]
      },
      {
       "output_type": "stream",
       "stream": "stdout",
       "text": [
        "\n",
        "(1.2551245026121978, 0.11515825362871061)\n",
        "(1.2493344707645473, 0.11465058622091889)"
       ]
      },
      {
       "output_type": "stream",
       "stream": "stdout",
       "text": [
        "\n",
        "(1.2436632620645982, 0.11415203220175374)\n",
        "(1.2382522785415571, 0.11369892286589442)"
       ]
      },
      {
       "output_type": "stream",
       "stream": "stdout",
       "text": [
        "\n",
        "(1.2333405807010214, 0.11330190906321125)\n",
        "(1.2289713754116403, 0.11295655521609377)"
       ]
      },
      {
       "output_type": "stream",
       "stream": "stdout",
       "text": [
        "\n",
        "(1.2250725724882405, 0.11265217503933202)\n",
        "(1.2215983484388517, 0.1123814346631284)"
       ]
      },
      {
       "output_type": "stream",
       "stream": "stdout",
       "text": [
        "\n",
        "(1.21857621070751, 0.11213732274532841)\n",
        "(1.2159767915445168, 0.11190997035712802)"
       ]
      },
      {
       "output_type": "stream",
       "stream": "stdout",
       "text": [
        "\n",
        "(1.213729977813049, 0.11169723651972677)\n",
        "(1.2117265122660386, 0.11150201669953066)"
       ]
      },
      {
       "output_type": "stream",
       "stream": "stdout",
       "text": [
        "\n",
        "(1.2098565795959344, 0.11132597691754814)\n",
        "(1.2080432118161959, 0.11116640802596206)"
       ]
      },
      {
       "output_type": "stream",
       "stream": "stdout",
       "text": [
        "\n",
        "(1.2062771510429509, 0.11101905315745567)\n",
        "(1.2046121636725473, 0.11086868431629797)"
       ]
      },
      {
       "output_type": "stream",
       "stream": "stdout",
       "text": [
        "\n",
        "(1.2030851968129965, 0.11069540644941595)\n",
        "(1.2017547063062086, 0.11051413268196573)"
       ]
      },
      {
       "output_type": "stream",
       "stream": "stdout",
       "text": [
        "\n",
        "(1.2006440497290343, 0.11032030561114807)\n",
        "(1.1997090091597129, 0.11014933275381984)"
       ]
      },
      {
       "output_type": "stream",
       "stream": "stdout",
       "text": [
        "\n",
        "(1.1988420390803263, 0.10998293739237629)\n",
        "(1.1980308245509614, 0.10984815559231699)"
       ]
      },
      {
       "output_type": "stream",
       "stream": "stdout",
       "text": [
        "\n",
        "(1.197062838130128, 0.10974185252454782)\n",
        "(1.1960688040757819, 0.10965151486435397)"
       ]
      },
      {
       "output_type": "stream",
       "stream": "stdout",
       "text": [
        "\n",
        "(1.1951385204745291, 0.10956738253363416)\n",
        "(1.1942763236408511, 0.10948002283607956)"
       ]
      },
      {
       "output_type": "stream",
       "stream": "stdout",
       "text": [
        "\n",
        "(1.1934871047211739, 0.10939557095607942)\n",
        "(1.192821437051345, 0.10932025968579916)"
       ]
      },
      {
       "output_type": "stream",
       "stream": "stdout",
       "text": [
        "\n",
        "(1.1922772659337662, 0.10925263803658695)\n",
        "(1.1918304434278104, 0.10919029254287381)"
       ]
      },
      {
       "output_type": "stream",
       "stream": "stdout",
       "text": [
        "\n",
        "(1.1914531486182005, 0.10913009032645009)\n",
        "(1.191148996295132, 0.10907635776915985)"
       ]
      },
      {
       "output_type": "stream",
       "stream": "stdout",
       "text": [
        "\n",
        "(1.1908975844768124, 0.10902840359928219)\n",
        "(1.1906879249791069, 0.10898426807543204)"
       ]
      },
      {
       "output_type": "stream",
       "stream": "stdout",
       "text": [
        "\n",
        "(1.1905153473836272, 0.10894194651633916)\n",
        "(1.1903867419193201, 0.10889967691481595)"
       ]
      },
      {
       "output_type": "stream",
       "stream": "stdout",
       "text": [
        "\n",
        "(1.1903105146422044, 0.10885663407088618)\n",
        "(1.1902778381057613, 0.10881298927032003)"
       ]
      },
      {
       "output_type": "stream",
       "stream": "stdout",
       "text": [
        "\n",
        "(1.1902869206796993, 0.10876884682334922)\n",
        "(1.1903531699966239, 0.10872497762800841)"
       ]
      },
      {
       "output_type": "stream",
       "stream": "stdout",
       "text": [
        "\n",
        "(1.1904617833534048, 0.10868350343569044)\n",
        "(1.1905913293490542, 0.10864555293564312)"
       ]
      },
      {
       "output_type": "stream",
       "stream": "stdout",
       "text": [
        "\n",
        "(1.1907378048480666, 0.10861016338709058)\n",
        "(1.1909050428404957, 0.1085762025932972)"
       ]
      },
      {
       "output_type": "stream",
       "stream": "stdout",
       "text": [
        "\n",
        "(1.1910994868703062, 0.10854272842113659)\n",
        "(1.1913244501325453, 0.1085090004737497)"
       ]
      },
      {
       "output_type": "stream",
       "stream": "stdout",
       "text": [
        "\n",
        "(1.1915809633279915, 0.1084744715916803)\n",
        "(1.1918708452202347, 0.10843862721889563)"
       ]
      },
      {
       "output_type": "stream",
       "stream": "stdout",
       "text": [
        "\n",
        "(1.1921942902732718, 0.10840103543641338)\n",
        "(1.1925488056010769, 0.10836123870025467)"
       ]
      },
      {
       "output_type": "stream",
       "stream": "stdout",
       "text": [
        "\n",
        "(1.1929293484714776, 0.10831857223747973)\n",
        "(1.1933320606250359, 0.10827202657573992)"
       ]
      },
      {
       "output_type": "stream",
       "stream": "stdout",
       "text": [
        "\n",
        "(1.1937556876019353, 0.10821886392525955)\n",
        "(1.1941970619395834, 0.10814956267539387)"
       ]
      },
      {
       "output_type": "stream",
       "stream": "stdout",
       "text": [
        "\n",
        "(1.1946724862038489, 0.10805038116685642)\n",
        "(1.1951405286211934, 0.1079250689113912)"
       ]
      },
      {
       "output_type": "stream",
       "stream": "stdout",
       "text": [
        "\n",
        "(1.1955511886417425, 0.10778020028401887)\n",
        "(1.1958784938577001, 0.1076139571527478)"
       ]
      },
      {
       "output_type": "stream",
       "stream": "stdout",
       "text": [
        "\n",
        "(1.1961029441479232, 0.10742053644382105)\n",
        "(1.1962122094633492, 0.10719309488372943)"
       ]
      },
      {
       "output_type": "stream",
       "stream": "stdout",
       "text": [
        "\n",
        "(1.1962004410468741, 0.10692687689102746)\n",
        "(1.196039217985678, 0.10662105172310164)"
       ]
      },
      {
       "output_type": "stream",
       "stream": "stdout",
       "text": [
        "\n",
        "(1.1957069390473005, 0.10628031760091849)\n",
        "(1.1951878493206027, 0.10591117270598714)"
       ]
      },
      {
       "output_type": "stream",
       "stream": "stdout",
       "text": [
        "\n",
        "(1.1944770660228368, 0.10552263131385554)\n",
        "(1.1936056503282371, 0.10512695557040623)"
       ]
      },
      {
       "output_type": "stream",
       "stream": "stdout",
       "text": [
        "\n",
        "(1.1926244036170126, 0.10473663771833479)\n",
        "(1.191558286217373, 0.10435844662267288)"
       ]
      },
      {
       "output_type": "stream",
       "stream": "stdout",
       "text": [
        "\n",
        "(1.1904074009834793, 0.10399457021396288)\n",
        "(1.1891914266617585, 0.1036511651898602)"
       ]
      },
      {
       "output_type": "stream",
       "stream": "stdout",
       "text": [
        "\n",
        "(1.1879171639253985, 0.10333112442638102)\n",
        "(1.1865406024561445, 0.10302109609179737)"
       ]
      },
      {
       "output_type": "stream",
       "stream": "stdout",
       "text": [
        "\n",
        "(1.1850311700397771, 0.10270535000856926)\n",
        "(1.1834427418477134, 0.10238254601067452)"
       ]
      },
      {
       "output_type": "stream",
       "stream": "stdout",
       "text": [
        "\n",
        "(1.1818335243042053, 0.1020591596291521)\n",
        "(1.1801970101467874, 0.10172250625288763)"
       ]
      },
      {
       "output_type": "stream",
       "stream": "stdout",
       "text": [
        "\n",
        "(1.1784687667322657, 0.10137567472708549)\n",
        "(1.1768464197063098, 0.10106235170993219)"
       ]
      },
      {
       "output_type": "stream",
       "stream": "stdout",
       "text": [
        "\n",
        "(1.1753572745299452, 0.10076645412234385)\n",
        "(1.1739854936644498, 0.10044730997265768)"
       ]
      },
      {
       "output_type": "stream",
       "stream": "stdout",
       "text": [
        "\n",
        "(1.1726937497385885, 0.10007956409608351)\n",
        "(1.171471268732228, 0.099670645916051279)"
       ]
      },
      {
       "output_type": "stream",
       "stream": "stdout",
       "text": [
        "\n",
        "(1.1703740247692058, 0.099298656320106551)\n",
        "(1.1694341134084039, 0.099016112712515481)"
       ]
      },
      {
       "output_type": "stream",
       "stream": "stdout",
       "text": [
        "\n",
        "(1.1686372705114172, 0.098780060527803484)\n",
        "(1.1678210323979137, 0.098576913647832595)"
       ]
      },
      {
       "output_type": "stream",
       "stream": "stdout",
       "text": [
        "\n",
        "(1.1671090947403344, 0.098407750651467701)\n",
        "(1.1663741966551704, 0.098213305234146273)"
       ]
      },
      {
       "output_type": "stream",
       "stream": "stdout",
       "text": [
        "\n",
        "(1.1656887943062628, 0.098035492487799913)\n",
        "(1.1650551438185475, 0.09789203638080711)"
       ]
      },
      {
       "output_type": "stream",
       "stream": "stdout",
       "text": [
        "\n",
        "(1.164473915040515, 0.097781927988274522)\n",
        "(1.1639396284830303, 0.097696320875183595)"
       ]
      },
      {
       "output_type": "stream",
       "stream": "stdout",
       "text": [
        "\n",
        "(1.1634359669616476, 0.09762669908668932)\n",
        "(1.1629477189855828, 0.097566328240566991)"
       ]
      },
      {
       "output_type": "stream",
       "stream": "stdout",
       "text": [
        "\n",
        "(1.1624718055957524, 0.097510270777372746)\n",
        "(1.1620141580018242, 0.097454465537697862)"
       ]
      },
      {
       "output_type": "stream",
       "stream": "stdout",
       "text": [
        "\n",
        "(1.1615840272164168, 0.097397645891226528)\n",
        "(1.161172579106702, 0.097343395139332906)"
       ]
      },
      {
       "output_type": "stream",
       "stream": "stdout",
       "text": [
        "\n",
        "(1.1607664172291943, 0.097293318669749523)\n",
        "(1.160357029824113, 0.097246173863921426)"
       ]
      },
      {
       "output_type": "stream",
       "stream": "stdout",
       "text": [
        "\n",
        "(1.1599451984904547, 0.097200368479036792)\n",
        "(1.1595334002510005, 0.097155559010336456)"
       ]
      },
      {
       "output_type": "stream",
       "stream": "stdout",
       "text": [
        "\n",
        "(1.1591228556292108, 0.097111361893552794)\n",
        "(1.1587160678727075, 0.097067666738465064)"
       ]
      },
      {
       "output_type": "stream",
       "stream": "stdout",
       "text": [
        "\n",
        "(1.1583114352049899, 0.097024854365083388)\n",
        "(1.1579050164586873, 0.096982884427512753)"
       ]
      },
      {
       "output_type": "stream",
       "stream": "stdout",
       "text": [
        "\n",
        "(1.1574929035223971, 0.09694135380160851)\n",
        "(1.1570706704990972, 0.096899964497098354)"
       ]
      },
      {
       "output_type": "stream",
       "stream": "stdout",
       "text": [
        "\n",
        "(1.1566355833094986, 0.096858459815467757)\n",
        "(1.156187394827167, 0.096816515489495547)"
       ]
      },
      {
       "output_type": "stream",
       "stream": "stdout",
       "text": [
        "\n",
        "(1.1557293475420094, 0.096772901794563645)\n",
        "(1.1552688596649645, 0.096715535250133738)"
       ]
      },
      {
       "output_type": "stream",
       "stream": "stdout",
       "text": [
        "\n",
        "(1.154755846208412, 0.096611877992265338)\n",
        "(1.1541780226748524, 0.096496561834067102)"
       ]
      },
      {
       "output_type": "stream",
       "stream": "stdout",
       "text": [
        "\n",
        "(1.1535579773947282, 0.096398327633112055)\n",
        "(1.1529219192903892, 0.096299878355516469)"
       ]
      },
      {
       "output_type": "stream",
       "stream": "stdout",
       "text": [
        "\n",
        "(1.152169844389819, 0.096158688366221504)\n",
        "(1.1513748771078471, 0.096024816100881843)"
       ]
      },
      {
       "output_type": "stream",
       "stream": "stdout",
       "text": [
        "\n",
        "(1.1506652549309249, 0.095912334105954955)\n",
        "(1.1500369491427369, 0.095817331686737187)"
       ]
      },
      {
       "output_type": "stream",
       "stream": "stdout",
       "text": [
        "\n",
        "(1.149477667230042, 0.095738603599248212)\n",
        "(1.1489825687214681, 0.095674311711920895)"
       ]
      },
      {
       "output_type": "stream",
       "stream": "stdout",
       "text": [
        "\n",
        "(1.1485412083305679, 0.095621666315523463)\n",
        "(1.148137676245941, 0.095577419193446783)"
       ]
      },
      {
       "output_type": "stream",
       "stream": "stdout",
       "text": [
        "\n",
        "(1.147756391816309, 0.095538727076820804)\n",
        "(1.1473860043614763, 0.095503490706145416)"
       ]
      },
      {
       "output_type": "stream",
       "stream": "stdout",
       "text": [
        "\n",
        "(1.1470179245677792, 0.09546972256269079)\n",
        "(1.1466329557037354, 0.095436030442118236)"
       ]
      },
      {
       "output_type": "stream",
       "stream": "stdout",
       "text": [
        "\n",
        "(1.1462241095792141, 0.095401590077899695)\n",
        "(1.1457878572191176, 0.095364438943120938)"
       ]
      },
      {
       "output_type": "stream",
       "stream": "stdout",
       "text": [
        "\n",
        "(1.1453252276105581, 0.095324154929335284)\n",
        "(1.1448489098058194, 0.095282888835041019)"
       ]
      },
      {
       "output_type": "stream",
       "stream": "stdout",
       "text": [
        "\n",
        "(1.1443756555754927, 0.095242646708977127)\n",
        "(1.1439169520153492, 0.095203802027426163)"
       ]
      },
      {
       "output_type": "stream",
       "stream": "stdout",
       "text": [
        "\n",
        "(1.1434771154967673, 0.095165792076658817)\n",
        "(1.1430555869313748, 0.095127719204769659)"
       ]
      },
      {
       "output_type": "stream",
       "stream": "stdout",
       "text": [
        "\n",
        "(1.1426504096712475, 0.095088821401405829)\n",
        "(1.1422608628038757, 0.095048814834635495)"
       ]
      },
      {
       "output_type": "stream",
       "stream": "stdout",
       "text": [
        "\n",
        "(1.1418873208013611, 0.095007802005329489)\n",
        "(1.1415295955601243, 0.094965864581745454)"
       ]
      },
      {
       "output_type": "stream",
       "stream": "stdout",
       "text": [
        "\n",
        "(1.1411871912189191, 0.094923027210382482)\n",
        "(1.1408595813559597, 0.094879541445748339)"
       ]
      },
      {
       "output_type": "stream",
       "stream": "stdout",
       "text": [
        "\n",
        "(1.140545730213163, 0.094835695360685132)\n",
        "(1.1402444393899545, 0.094791636119578498)"
       ]
      },
      {
       "output_type": "stream",
       "stream": "stdout",
       "text": [
        "\n",
        "(1.1399537823692942, 0.094747612940193265)\n",
        "(1.1396722473001293, 0.094704070916861421)"
       ]
      },
      {
       "output_type": "stream",
       "stream": "stdout",
       "text": [
        "\n",
        "(1.1394021905717315, 0.094661179993281191)\n",
        "(1.1391342169238878, 0.09461782353255728)"
       ]
      },
      {
       "output_type": "stream",
       "stream": "stdout",
       "text": [
        "\n",
        "(1.1388295495341929, 0.094574541138792947)\n",
        "(1.1385271217455124, 0.094532369610695346)"
       ]
      },
      {
       "output_type": "stream",
       "stream": "stdout",
       "text": [
        "\n",
        "(1.138252874996631, 0.094491404393745482)\n",
        "(1.138012305105774, 0.094451604132201439)"
       ]
      },
      {
       "output_type": "stream",
       "stream": "stdout",
       "text": [
        "\n",
        "(1.1378042378934796, 0.094412669436211211)\n",
        "(1.1376258012440053, 0.094374033367373086)"
       ]
      },
      {
       "output_type": "stream",
       "stream": "stdout",
       "text": [
        "\n",
        "(1.13747468322524, 0.094335113659485714)\n",
        "(1.1373460612118567, 0.094295663926022288)"
       ]
      },
      {
       "output_type": "stream",
       "stream": "stdout",
       "text": [
        "\n",
        "(1.1372335767354227, 0.094255671682861628)\n",
        "(1.1371360654777147, 0.094215125152334198)"
       ]
      },
      {
       "output_type": "stream",
       "stream": "stdout",
       "text": [
        "\n",
        "(1.1370561399099515, 0.094173976745352758)\n",
        "(1.1369969279367933, 0.094132115052060775)"
       ]
      },
      {
       "output_type": "stream",
       "stream": "stdout",
       "text": [
        "\n",
        "(1.1369642775934607, 0.094088132047233)\n",
        "(1.1369685347363303, 0.094039158439414933)"
       ]
      },
      {
       "output_type": "stream",
       "stream": "stdout",
       "text": [
        "\n",
        "(1.136984774291526, 0.093987755077863569)\n",
        "(1.1369842888532018, 0.09393204636912042)"
       ]
      },
      {
       "output_type": "stream",
       "stream": "stdout",
       "text": [
        "\n",
        "(1.1369925622221362, 0.093876120716489986)\n",
        "(1.1369934791968368, 0.093820941726136559)"
       ]
      },
      {
       "output_type": "stream",
       "stream": "stdout",
       "text": [
        "\n",
        "(1.1369688978945416, 0.093764594681814681)\n",
        "(1.1369187364879016, 0.093705529167696144)"
       ]
      },
      {
       "output_type": "stream",
       "stream": "stdout",
       "text": [
        "\n",
        "(1.1368526141549795, 0.093644686913441536)\n",
        "(1.1367738185934593, 0.093583769183581314)"
       ]
      },
      {
       "output_type": "stream",
       "stream": "stdout",
       "text": [
        "\n",
        "(1.136699539069794, 0.093523754818329974)\n",
        "(1.1366362484755064, 0.09346324018453496)"
       ]
      },
      {
       "output_type": "stream",
       "stream": "stdout",
       "text": [
        "\n",
        "(1.1365176968417188, 0.093388493446365489)\n",
        "(1.1363739592175741, 0.093316174132703628)"
       ]
      },
      {
       "output_type": "stream",
       "stream": "stdout",
       "text": [
        "\n",
        "(1.1362642235684908, 0.093254619610890058)\n",
        "(1.1361828485263805, 0.093200511596974775)"
       ]
      },
      {
       "output_type": "stream",
       "stream": "stdout",
       "text": [
        "\n",
        "(1.1361197548816051, 0.093151808364692543)\n",
        "(1.1360740950694206, 0.093105414196925904)"
       ]
      },
      {
       "output_type": "stream",
       "stream": "stdout",
       "text": [
        "\n",
        "(1.1360574829752978, 0.093059566722012294)\n",
        "(1.1360833810127284, 0.093016938069843416)"
       ]
      },
      {
       "output_type": "stream",
       "stream": "stdout",
       "text": [
        "\n",
        "(1.1361431479122857, 0.092979139362232371)\n",
        "(1.1362209620072887, 0.092944906566748045)"
       ]
      },
      {
       "output_type": "stream",
       "stream": "stdout",
       "text": [
        "\n",
        "(1.1362990675295737, 0.092912374645793147)\n",
        "(1.1363616762910025, 0.092880873372188449)"
       ]
      },
      {
       "output_type": "stream",
       "stream": "stdout",
       "text": [
        "\n",
        "(1.1364141355537436, 0.092851139051930306)\n",
        "(1.1364603620261187, 0.092823527903753325)"
       ]
      },
      {
       "output_type": "stream",
       "stream": "stdout",
       "text": [
        "\n",
        "(1.136498199087141, 0.092797743081410741)\n",
        "(1.1365253408435294, 0.092773371118250111)"
       ]
      },
      {
       "output_type": "stream",
       "stream": "stdout",
       "text": [
        "\n",
        "(1.1365373049975573, 0.092750081520007938)\n",
        "(1.1365332776035058, 0.092727710219525777)"
       ]
      },
      {
       "output_type": "stream",
       "stream": "stdout",
       "text": [
        "\n",
        "(1.1365141720466563, 0.09270611119788992)\n",
        "(1.1364808946412759, 0.092685146831473345)"
       ]
      },
      {
       "output_type": "stream",
       "stream": "stdout",
       "text": [
        "\n",
        "(1.1364342376586158, 0.092664694279769685)\n",
        "(1.1363746716865524, 0.092644607966029552)"
       ]
      },
      {
       "output_type": "stream",
       "stream": "stdout",
       "text": [
        "\n",
        "(1.136302223859913, 0.092624683506318695)\n",
        "(1.1362169321102298, 0.092604681540669309)"
       ]
      },
      {
       "output_type": "stream",
       "stream": "stdout",
       "text": [
        "\n",
        "(1.1361196955736959, 0.092584454562874577)\n",
        "(1.1360128800784475, 0.092564104673677608)"
       ]
      },
      {
       "output_type": "stream",
       "stream": "stdout",
       "text": [
        "\n",
        "(1.1358993358353517, 0.092543913407133485)\n",
        "(1.1357799976132197, 0.092524074830975897)"
       ]
      },
      {
       "output_type": "stream",
       "stream": "stdout",
       "text": [
        "\n",
        "(1.1356529897274066, 0.092504649460596236)\n",
        "(1.1355146642730989, 0.092485653562710921)"
       ]
      },
      {
       "output_type": "stream",
       "stream": "stdout",
       "text": [
        "\n",
        "(1.1353608960616073, 0.092466957007878381)\n",
        "(1.1351879687316673, 0.092448309101839626)"
       ]
      },
      {
       "output_type": "stream",
       "stream": "stdout",
       "text": [
        "\n",
        "(1.1349940368006328, 0.092429441480075578)\n",
        "(1.1347790692623438, 0.092410138462080599)"
       ]
      },
      {
       "output_type": "stream",
       "stream": "stdout",
       "text": [
        "\n",
        "(1.1345455353776153, 0.092390446615163255)\n",
        "(1.1342957604222439, 0.092370543459753263)"
       ]
      },
      {
       "output_type": "stream",
       "stream": "stdout",
       "text": [
        "\n",
        "(1.1340298418601016, 0.092350504575069575)\n",
        "(1.1337470135067496, 0.092330343219698491)"
       ]
      },
      {
       "output_type": "stream",
       "stream": "stdout",
       "text": [
        "\n",
        "(1.133446211714713, 0.092310014731558587)\n",
        "(1.1331259604285511, 0.092289423020125494)"
       ]
      },
      {
       "output_type": "stream",
       "stream": "stdout",
       "text": [
        "\n",
        "(1.1327845240617902, 0.092268451518113692)\n",
        "(1.1324200821596324, 0.092246979551399627)"
       ]
      },
      {
       "output_type": "stream",
       "stream": "stdout",
       "text": [
        "\n",
        "(1.1320308504441738, 0.092224888294152929)\n",
        "(1.131615198995072, 0.092202060480749873)"
       ]
      },
      {
       "output_type": "stream",
       "stream": "stdout",
       "text": [
        "\n",
        "(1.1311717948268387, 0.092178373341049905)\n",
        "(1.1306997562058172, 0.092153681739032225)"
       ]
      },
      {
       "output_type": "stream",
       "stream": "stdout",
       "text": [
        "\n",
        "(1.1301988453654044, 0.092127787378516179)\n",
        "(1.1296697399632312, 0.092100394690414644)"
       ]
      },
      {
       "output_type": "stream",
       "stream": "stdout",
       "text": [
        "\n",
        "(1.1291137084389982, 0.092071075925362261)\n",
        "(1.1285291119802692, 0.092039328970242945)"
       ]
      },
      {
       "output_type": "stream",
       "stream": "stdout",
       "text": [
        "\n",
        "(1.1279033202971924, 0.092004803324258158)\n",
        "(1.1272099038931871, 0.091967441110702611)"
       ]
      },
      {
       "output_type": "stream",
       "stream": "stdout",
       "text": [
        "\n",
        "(1.1264206754350246, 0.091927131811429724)\n",
        "(1.1255168282527974, 0.091883173839506657)"
       ]
      },
      {
       "output_type": "stream",
       "stream": "stdout",
       "text": [
        "\n",
        "(1.1244856798038148, 0.091834062355481652)\n",
        "(1.1233107652156629, 0.091777490500746975)"
       ]
      },
      {
       "output_type": "stream",
       "stream": "stdout",
       "text": [
        "\n",
        "(1.1219631021196212, 0.091710264864007782)\n",
        "(1.1203928671274621, 0.091627923641987255)"
       ]
      },
      {
       "output_type": "stream",
       "stream": "stdout",
       "text": [
        "\n",
        "(1.1185184322032096, 0.09152377906168456)\n",
        "(1.1162222333301797, 0.091388172962042186)"
       ]
      },
      {
       "output_type": "stream",
       "stream": "stdout",
       "text": [
        "\n",
        "(1.1134026247198208, 0.091212295397677695)\n",
        "(1.110116766304865, 0.090998047722635131)"
       ]
      },
      {
       "output_type": "stream",
       "stream": "stdout",
       "text": [
        "\n",
        "(1.1066232592745679, 0.090755599927894698)\n",
        "(1.1031749916976803, 0.09049440314837677)"
       ]
      },
      {
       "output_type": "stream",
       "stream": "stdout",
       "text": [
        "\n",
        "(1.0998706317423121, 0.090220121512353979)\n",
        "(1.0966920966855207, 0.08993088511143385)"
       ]
      },
      {
       "output_type": "stream",
       "stream": "stdout",
       "text": [
        "\n",
        "(1.0935977063014373, 0.089625103220124444)\n",
        "(1.0905509202698775, 0.089300063300551263)"
       ]
      },
      {
       "output_type": "stream",
       "stream": "stdout",
       "text": [
        "\n",
        "(1.0875390959448483, 0.088957062852931729)\n",
        "(1.0845767660428522, 0.088602817594822331)"
       ]
      },
      {
       "output_type": "stream",
       "stream": "stdout",
       "text": [
        "\n",
        "(1.081687074221332, 0.088238004808896861)\n",
        "(1.0789031903357849, 0.087867634469254927)"
       ]
      },
      {
       "output_type": "stream",
       "stream": "stdout",
       "text": [
        "\n",
        "(1.0762415211095417, 0.087503130960906172)\n",
        "(1.0737021946305796, 0.087148153203410461)"
       ]
      },
      {
       "output_type": "stream",
       "stream": "stdout",
       "text": [
        "\n",
        "(1.0712863593861277, 0.086801632400425086)\n",
        "(1.0690017374838168, 0.086463527060061107)"
       ]
      },
      {
       "output_type": "stream",
       "stream": "stdout",
       "text": [
        "\n",
        "(1.0668592057589135, 0.086134386551059594)\n",
        "(1.0648540623850189, 0.085816604095178231)"
       ]
      },
      {
       "output_type": "stream",
       "stream": "stdout",
       "text": [
        "\n",
        "(1.0630010828026026, 0.085512970316951917)\n",
        "(1.0613101364307718, 0.085225368406500482)"
       ]
      },
      {
       "output_type": "stream",
       "stream": "stdout",
       "text": [
        "\n",
        "(1.0597725122366786, 0.084952922195600369)\n",
        "(1.0583681145024844, 0.084691909216606673)"
       ]
      },
      {
       "output_type": "stream",
       "stream": "stdout",
       "text": [
        "\n",
        "(1.0570697909137576, 0.084434000593254219)\n",
        "(1.0558320527787464, 0.084168382081402218)"
       ]
      },
      {
       "output_type": "stream",
       "stream": "stdout",
       "text": [
        "\n",
        "(1.0546045271657409, 0.083892560979531502)\n",
        "(1.0533779861349688, 0.083620610713649485)"
       ]
      },
      {
       "output_type": "stream",
       "stream": "stdout",
       "text": [
        "\n",
        "(1.0521885985297932, 0.08337225471504256)\n",
        "(1.0510722124147265, 0.083157843474350859)"
       ]
      },
      {
       "output_type": "stream",
       "stream": "stdout",
       "text": [
        "\n",
        "(1.0500421696777538, 0.082976571747974487)\n",
        "(1.0490870815877889, 0.082822198547718606)"
       ]
      },
      {
       "output_type": "stream",
       "stream": "stdout",
       "text": [
        "\n",
        "(1.0481843928091359, 0.082688117865297048)\n",
        "(1.0473387323910193, 0.082569159512373119)"
       ]
      },
      {
       "output_type": "stream",
       "stream": "stdout",
       "text": [
        "\n",
        "(1.0465801239848873, 0.082461361399687128)\n",
        "(1.045935137840263, 0.082360907138650144)"
       ]
      },
      {
       "output_type": "stream",
       "stream": "stdout",
       "text": [
        "\n",
        "(1.0454131748154001, 0.082261414415411127)\n",
        "(1.0450322992203258, 0.082156180463658773)"
       ]
      },
      {
       "output_type": "stream",
       "stream": "stdout",
       "text": [
        "\n",
        "(1.04479624999933, 0.08205493794413686)\n",
        "(1.0446346405154818, 0.081970920764083813)"
       ]
      },
      {
       "output_type": "stream",
       "stream": "stdout",
       "text": [
        "\n",
        "(1.0445019014258297, 0.081905199913848675)\n",
        "(1.0443823366471532, 0.081852984052890362)"
       ]
      },
      {
       "output_type": "stream",
       "stream": "stdout",
       "text": [
        "\n",
        "(1.044272576261448, 0.081809499978401687)\n",
        "(1.0441735861805932, 0.081771506855155301)"
       ]
      },
      {
       "output_type": "stream",
       "stream": "stdout",
       "text": [
        "\n",
        "(1.0440872589985646, 0.081737049516772506)\n",
        "(1.0440150290568884, 0.081704963056394977)"
       ]
      },
      {
       "output_type": "stream",
       "stream": "stdout",
       "text": [
        "\n",
        "(1.043957248852426, 0.081674524270012427)\n",
        "(1.0439125587736928, 0.081645242924612088)"
       ]
      },
      {
       "output_type": "stream",
       "stream": "stdout",
       "text": [
        "\n",
        "(1.0438779884472038, 0.081616750335520766)\n",
        "(1.0438498061760075, 0.081588775581338549)"
       ]
      },
      {
       "output_type": "stream",
       "stream": "stdout",
       "text": [
        "\n",
        "(1.0438242018926682, 0.081561155269179508)\n",
        "(1.0437977133496983, 0.081533798061811366)"
       ]
      },
      {
       "output_type": "stream",
       "stream": "stdout",
       "text": [
        "\n",
        "(1.0437677482778975, 0.081506615938003041)\n",
        "(1.043733662630463, 0.081479534458995737)"
       ]
      },
      {
       "output_type": "stream",
       "stream": "stdout",
       "text": [
        "\n",
        "(1.0436972464302829, 0.081452569851505383)\n",
        "(1.0436609799789651, 0.081425730145151573)"
       ]
      },
      {
       "output_type": "stream",
       "stream": "stdout",
       "text": [
        "\n",
        "(1.0436272477685393, 0.081399171516104762)\n",
        "(1.0435933137433917, 0.081373175527569591)"
       ]
      },
      {
       "output_type": "stream",
       "stream": "stdout",
       "text": [
        "\n",
        "(1.0435570439263595, 0.081347747789168812)\n",
        "(1.0435183419074854, 0.081322790075052789)"
       ]
      },
      {
       "output_type": "stream",
       "stream": "stdout",
       "text": [
        "\n",
        "(1.0434776428033026, 0.081298186681089721)\n",
        "(1.0434355152857551, 0.081273887485008203)"
       ]
      },
      {
       "output_type": "stream",
       "stream": "stdout",
       "text": [
        "\n",
        "(1.0433923509420018, 0.081249898727502309)\n",
        "(1.0433482656784325, 0.081226176603983305)"
       ]
      },
      {
       "output_type": "stream",
       "stream": "stdout",
       "text": [
        "\n",
        "(1.0433033181553304, 0.081202624945606622)\n",
        "(1.0432584512652934, 0.081179128500534756)"
       ]
      },
      {
       "output_type": "stream",
       "stream": "stdout",
       "text": [
        "\n",
        "(1.0432153374426871, 0.081155610099086173)\n",
        "(1.0431734355009097, 0.081132039266589184)"
       ]
      },
      {
       "output_type": "stream",
       "stream": "stdout",
       "text": [
        "\n",
        "(1.043132936563762, 0.081108369460175328)\n",
        "(1.0430945149462381, 0.081084545952723339)"
       ]
      },
      {
       "output_type": "stream",
       "stream": "stdout",
       "text": [
        "\n",
        "(1.04305898138806, 0.081060505501072924)\n",
        "(1.0430272566108074, 0.081036171235529572)"
       ]
      },
      {
       "output_type": "stream",
       "stream": "stdout",
       "text": [
        "\n",
        "(1.042999576560528, 0.081011492192464757)\n",
        "(1.042975108766798, 0.080986525017561706)"
       ]
      },
      {
       "output_type": "stream",
       "stream": "stdout",
       "text": [
        "\n",
        "(1.0429533849050341, 0.080961389078894844)\n",
        "(1.0429350897690826, 0.080936073922174029)"
       ]
      },
      {
       "output_type": "stream",
       "stream": "stdout",
       "text": [
        "\n",
        "(1.0429212539953561, 0.080910436756345738)\n",
        "(1.0429127465866177, 0.080884309164261842)"
       ]
      },
      {
       "output_type": "stream",
       "stream": "stdout",
       "text": [
        "\n",
        "(1.0429102814998061, 0.080857542534626792)\n",
        "(1.0429143376882852, 0.080830003977935314)"
       ]
      },
      {
       "output_type": "stream",
       "stream": "stdout",
       "text": [
        "\n",
        "(1.0429246396438194, 0.080801500169100884)\n",
        "(1.0429399098290839, 0.080771667418270285)"
       ]
      },
      {
       "output_type": "stream",
       "stream": "stdout",
       "text": [
        "\n",
        "(1.0429631165328108, 0.080740334566778857)\n",
        "(1.043003162158455, 0.080707873320036427)"
       ]
      },
      {
       "output_type": "stream",
       "stream": "stdout",
       "text": [
        "\n",
        "(1.0430626828725118, 0.080674424495929806)\n",
        "(1.0431398990747207, 0.080639883986454955)"
       ]
      },
      {
       "output_type": "stream",
       "stream": "stdout",
       "text": [
        "\n",
        "(1.0432325548993464, 0.080604123628584184)\n",
        "(1.0433384564534256, 0.080567088473540022)"
       ]
      },
      {
       "output_type": "stream",
       "stream": "stdout",
       "text": [
        "\n",
        "(1.0434549700995543, 0.080528826871689968)\n",
        "(1.0435786490920258, 0.080489483642442031)"
       ]
      },
      {
       "output_type": "stream",
       "stream": "stdout",
       "text": [
        "\n",
        "(1.0437052858009175, 0.080449266756795298)\n",
        "(1.0438303252470891, 0.08040839264560673)"
       ]
      },
      {
       "output_type": "stream",
       "stream": "stdout",
       "text": [
        "\n",
        "(1.0439494570710708, 0.080367024909213422)\n",
        "(1.0440592031373077, 0.08032524461601466)"
       ]
      },
      {
       "output_type": "stream",
       "stream": "stdout",
       "text": [
        "\n",
        "(1.0441573649503881, 0.080283114889442606)\n",
        "(1.0442433113437095, 0.080240840364677463)"
       ]
      },
      {
       "output_type": "stream",
       "stream": "stdout",
       "text": [
        "\n",
        "(1.0443177108845549, 0.08019882868824596)\n",
        "(1.0443811890393966, 0.080157487221315077)"
       ]
      },
      {
       "output_type": "stream",
       "stream": "stdout",
       "text": [
        "\n",
        "(1.0444331960111075, 0.080116987488556904)\n",
        "(1.0444722126337316, 0.080077265682097915)"
       ]
      },
      {
       "output_type": "stream",
       "stream": "stdout",
       "text": [
        "\n",
        "(1.0444964908058159, 0.080038157460885759)\n",
        "(1.0445045358957104, 0.079999502074423356)"
       ]
      },
      {
       "output_type": "stream",
       "stream": "stdout",
       "text": [
        "\n",
        "(1.044495568940945, 0.079961202565504277)\n",
        "(1.0444707173635834, 0.079923245747692814)"
       ]
      },
      {
       "output_type": "stream",
       "stream": "stdout",
       "text": [
        "\n",
        "(1.0444332129167084, 0.079885642516779362)\n",
        "(1.0443870623072091, 0.079848382323095157)"
       ]
      },
      {
       "output_type": "stream",
       "stream": "stdout",
       "text": [
        "\n",
        "(1.0443359857874144, 0.079811443118618847)\n",
        "(1.0442825289866675, 0.079774815075955657)"
       ]
      },
      {
       "output_type": "stream",
       "stream": "stdout",
       "text": [
        "\n",
        "(1.0442272935592609, 0.07973850467829835)\n",
        "(1.0441691063230703, 0.079702515246049321)"
       ]
      },
      {
       "output_type": "stream",
       "stream": "stdout",
       "text": [
        "\n",
        "(1.0441060607071626, 0.079666831977484892)\n",
        "(1.0440365860473457, 0.079631429222134675)"
       ]
      },
      {
       "output_type": "stream",
       "stream": "stdout",
       "text": [
        "\n",
        "(1.0439599498914736, 0.079596284204533865)\n",
        "(1.0438760539592959, 0.079561379355279307)"
       ]
      },
      {
       "output_type": "stream",
       "stream": "stdout",
       "text": [
        "\n",
        "(1.0437850895129139, 0.079526706432322958)\n",
        "(1.0436873834353384, 0.079492271825202007)"
       ]
      },
      {
       "output_type": "stream",
       "stream": "stdout",
       "text": [
        "\n",
        "(1.0435832470325508, 0.079458087233377953)\n",
        "(1.0434727854549886, 0.079424153177033649)"
       ]
      },
      {
       "output_type": "stream",
       "stream": "stdout",
       "text": [
        "\n",
        "(1.0433557912228635, 0.079390450904596732)\n",
        "(1.0432317957853237, 0.079356949290733156)"
       ]
      },
      {
       "output_type": "stream",
       "stream": "stdout",
       "text": [
        "\n",
        "(1.0431002773146831, 0.079323626617674448)\n",
        "(1.042960902095647, 0.079290487107423605)"
       ]
      },
      {
       "output_type": "stream",
       "stream": "stdout",
       "text": [
        "\n",
        "(1.0428137332765315, 0.079257553033693459)\n",
        "(1.0426592623391566, 0.079224848130165879)"
       ]
      },
      {
       "output_type": "stream",
       "stream": "stdout",
       "text": [
        "\n",
        "(1.0424981087185468, 0.079192386292788158)\n",
        "(1.0423307803380444, 0.079160165337165508)"
       ]
      },
      {
       "output_type": "stream",
       "stream": "stdout",
       "text": [
        "\n",
        "(1.0421576292989043, 0.079128167231417801)\n",
        "(1.0419786512715694, 0.0790963616864956)"
       ]
      },
      {
       "output_type": "stream",
       "stream": "stdout",
       "text": [
        "\n",
        "(1.0417935947553032, 0.079064705641273172)\n",
        "(1.0416021650823246, 0.07903314552329814)"
       ]
      },
      {
       "output_type": "stream",
       "stream": "stdout",
       "text": [
        "\n",
        "(1.0414040996680798, 0.07900161880845652)\n",
        "(1.0411992264076071, 0.078970051550580095)"
       ]
      },
      {
       "output_type": "stream",
       "stream": "stdout",
       "text": [
        "\n",
        "(1.0409874437500162, 0.078938348555619389)\n",
        "(1.0407685652841578, 0.07890637624717764)"
       ]
      },
      {
       "output_type": "stream",
       "stream": "stdout",
       "text": [
        "\n",
        "(1.0405421420143621, 0.078873980402969807)\n",
        "(1.0403079156124508, 0.078841055512759578)"
       ]
      },
      {
       "output_type": "stream",
       "stream": "stdout",
       "text": [
        "\n",
        "(1.0400655594548684, 0.078807475114284903)\n",
        "(1.0398138189667359, 0.078773279101514951)"
       ]
      },
      {
       "output_type": "stream",
       "stream": "stdout",
       "text": [
        "\n",
        "(1.0395527913789095, 0.078738345665159762)\n",
        "(1.0392817190681971, 0.078702482447518263)"
       ]
      },
      {
       "output_type": "stream",
       "stream": "stdout",
       "text": [
        "\n",
        "(1.0390000475096925, 0.078665553803291946)\n",
        "(1.0387068029722288, 0.078627556057944956)"
       ]
      },
      {
       "output_type": "stream",
       "stream": "stdout",
       "text": [
        "\n",
        "(1.0383999907489796, 0.078588927203228492)\n",
        "(1.0380807758956674, 0.07855024114661055)"
       ]
      },
      {
       "output_type": "stream",
       "stream": "stdout",
       "text": [
        "\n",
        "(1.0377503581482841, 0.078511509071802224)\n",
        "(1.0374096263398844, 0.078472625692527456)"
       ]
      },
      {
       "output_type": "stream",
       "stream": "stdout",
       "text": [
        "\n",
        "(1.0370579784204446, 0.078434325683537864)\n",
        "(1.0366961248250985, 0.078396445273247795)"
       ]
      },
      {
       "output_type": "stream",
       "stream": "stdout",
       "text": [
        "\n",
        "(1.0363254119989196, 0.07835882777526669)\n",
        "(1.035947205583728, 0.078321313481688276)"
       ]
      },
      {
       "output_type": "stream",
       "stream": "stdout",
       "text": [
        "\n",
        "(1.0355627206687728, 0.0782837148001434)\n",
        "(1.0351735892697189, 0.078245848296192827)"
       ]
      },
      {
       "output_type": "stream",
       "stream": "stdout",
       "text": [
        "\n",
        "(1.0347787449276795, 0.078207726127386162)\n",
        "(1.0343748194201252, 0.078169431956001956)"
       ]
      },
      {
       "output_type": "stream",
       "stream": "stdout",
       "text": [
        "\n",
        "(1.0339576712742058, 0.07813093294956977)\n",
        "(1.0335228811633195, 0.078092110147230609)"
       ]
      },
      {
       "output_type": "stream",
       "stream": "stdout",
       "text": [
        "\n",
        "(1.033065926918018, 0.078052770446783576)\n",
        "(1.0325820840312292, 0.07801263470966055)"
       ]
      },
      {
       "output_type": "stream",
       "stream": "stdout",
       "text": [
        "\n",
        "(1.032066354019737, 0.077971303991103275)\n",
        "(1.0315132808996337, 0.077928185169615721)"
       ]
      },
      {
       "output_type": "stream",
       "stream": "stdout",
       "text": [
        "\n",
        "(1.0309167772249721, 0.077882322250839658)\n",
        "(1.0302702443191827, 0.077832121265346624)"
       ]
      },
      {
       "output_type": "stream",
       "stream": "stdout",
       "text": [
        "\n",
        "(1.029566674533708, 0.077774969718913636)\n",
        "(1.0287984774763184, 0.077706676259565774)"
       ]
      },
      {
       "output_type": "stream",
       "stream": "stdout",
       "text": [
        "\n",
        "(1.027955746618137, 0.077620601745298654)\n",
        "(1.0270359286719113, 0.077507432481358857)"
       ]
      },
      {
       "output_type": "stream",
       "stream": "stdout",
       "text": [
        "\n",
        "(1.0260345777220767, 0.077355894776860307)\n",
        "(1.0249496554323527, 0.077154495180835184)"
       ]
      },
      {
       "output_type": "stream",
       "stream": "stdout",
       "text": [
        "\n",
        "(1.0237823673520456, 0.076893500569968673)\n",
        "(1.0225221285611577, 0.076569571983773829)"
       ]
      },
      {
       "output_type": "stream",
       "stream": "stdout",
       "text": [
        "\n",
        "(1.0211114095980625, 0.076204173075279436)\n",
        "(1.019470584895978, 0.07584459812233077)"
       ]
      },
      {
       "output_type": "stream",
       "stream": "stdout",
       "text": [
        "\n",
        "(1.0175829568773491, 0.07552222393560222)\n",
        "(1.0154900649632355, 0.0752410529415206)"
       ]
      },
      {
       "output_type": "stream",
       "stream": "stdout",
       "text": [
        "\n",
        "(1.0132689183182126, 0.07499303273019825)\n",
        "(1.0109862802941725, 0.074769607943352412)"
       ]
      },
      {
       "output_type": "stream",
       "stream": "stdout",
       "text": [
        "\n",
        "(1.0086973323876092, 0.074565650746021866)\n",
        "(1.0064345503570324, 0.074379357886718206)"
       ]
      },
      {
       "output_type": "stream",
       "stream": "stdout",
       "text": [
        "\n",
        "(1.0042208197184144, 0.074207793150399895)\n",
        "(1.0020670651672163, 0.074047769228510224)"
       ]
      },
      {
       "output_type": "stream",
       "stream": "stdout",
       "text": [
        "\n",
        "(0.99997885532700215, 0.073896708386806717)\n",
        "(0.99796963767143509, 0.073753033717147587)"
       ]
      },
      {
       "output_type": "stream",
       "stream": "stdout",
       "text": [
        "\n",
        "(0.99605022419881017, 0.073615529342658054)\n",
        "(0.99421767794740368, 0.073483005793294004)"
       ]
      },
      {
       "output_type": "stream",
       "stream": "stdout",
       "text": [
        "\n",
        "(0.99245957134896678, 0.073354568803505785)\n",
        "(0.99075853848422657, 0.073229352849855683)"
       ]
      },
      {
       "output_type": "stream",
       "stream": "stdout",
       "text": [
        "\n",
        "(0.98911171387411834, 0.073104841161356154)\n",
        "(0.98750042348999467, 0.072980369033597989)"
       ]
      },
      {
       "output_type": "stream",
       "stream": "stdout",
       "text": [
        "\n",
        "(0.98591551575854719, 0.072849652791910441)\n",
        "(0.98431829041743735, 0.072700113688950949)"
       ]
      },
      {
       "output_type": "stream",
       "stream": "stdout",
       "text": [
        "\n",
        "(0.98268250377990218, 0.072529637600541916)\n",
        "(0.98106167963196189, 0.072357428888612491)"
       ]
      },
      {
       "output_type": "stream",
       "stream": "stdout",
       "text": [
        "\n",
        "(0.97949110415900098, 0.072197505828737893)\n",
        "(0.97796499453175689, 0.072051105837954751)"
       ]
      },
      {
       "output_type": "stream",
       "stream": "stdout",
       "text": [
        "\n",
        "(0.97646634417303546, 0.071914539525292129)\n",
        "(0.97497959739066065, 0.071784142559928044)"
       ]
      },
      {
       "output_type": "stream",
       "stream": "stdout",
       "text": [
        "\n",
        "(0.9734982892400067, 0.071658733046762971)\n",
        "(0.97202015182446844, 0.071537756466244468)"
       ]
      },
      {
       "output_type": "stream",
       "stream": "stdout",
       "text": [
        "\n",
        "(0.97054244522762567, 0.071419928225956261)\n",
        "(0.96906396595833444, 0.071304085643171033)"
       ]
      },
      {
       "output_type": "stream",
       "stream": "stdout",
       "text": [
        "\n",
        "(0.96758314147432534, 0.071188971889859801)\n",
        "(0.96609539431508129, 0.071072836870321718)"
       ]
      },
      {
       "output_type": "stream",
       "stream": "stdout",
       "text": [
        "\n",
        "(0.96460920743588063, 0.070955523429461737)\n",
        "(0.96312323011569012, 0.070836518510543331)"
       ]
      },
      {
       "output_type": "stream",
       "stream": "stdout",
       "text": [
        "\n",
        "(0.96163512463986311, 0.070714983690025116)\n",
        "(0.96014744786829864, 0.070591325533098562)"
       ]
      },
      {
       "output_type": "stream",
       "stream": "stdout",
       "text": [
        "\n",
        "(0.95866252259767626, 0.070468272968972248)\n",
        "(0.95718735461608617, 0.070348044180871872)"
       ]
      },
      {
       "output_type": "stream",
       "stream": "stdout",
       "text": [
        "\n",
        "(0.95571080821774657, 0.070230077147433539)\n",
        "(0.95423251963105371, 0.070113342864275841)"
       ]
      },
      {
       "output_type": "stream",
       "stream": "stdout",
       "text": [
        "\n",
        "(0.9527550534291197, 0.069997553790365874)\n",
        "(0.95127132702129069, 0.069887063052922277)"
       ]
      },
      {
       "output_type": "stream",
       "stream": "stdout",
       "text": [
        "\n",
        "(0.94978978863822305, 0.069781877065337852)\n",
        "(0.94831199770232555, 0.069680404788295652)"
       ]
      },
      {
       "output_type": "stream",
       "stream": "stdout",
       "text": [
        "\n",
        "(0.94683837083085953, 0.069581685881519612)\n",
        "(0.94536847337695196, 0.069485217354564963)"
       ]
      },
      {
       "output_type": "stream",
       "stream": "stdout",
       "text": [
        "\n",
        "(0.94390084837420285, 0.069390698864974343)\n",
        "(0.94243419105400528, 0.069297861699276944)"
       ]
      },
      {
       "output_type": "stream",
       "stream": "stdout",
       "text": [
        "\n",
        "(0.94096731545423229, 0.069206440110151798)\n",
        "(0.93949901270887026, 0.069116148169776973)"
       ]
      },
      {
       "output_type": "stream",
       "stream": "stdout",
       "text": [
        "\n",
        "(0.93802821257447522, 0.069026641503732541)\n",
        "(0.93655438790114598, 0.068937511167910845)"
       ]
      },
      {
       "output_type": "stream",
       "stream": "stdout",
       "text": [
        "\n",
        "(0.93507768226452093, 0.068848419962051544)\n",
        "(0.93359786203417994, 0.068759365226655572)"
       ]
      },
      {
       "output_type": "stream",
       "stream": "stdout",
       "text": [
        "\n",
        "(0.93211141018358956, 0.068670626101134655)\n",
        "(0.93062232590927663, 0.068582666496724828)"
       ]
      },
      {
       "output_type": "stream",
       "stream": "stdout",
       "text": [
        "\n",
        "(0.92912399514431188, 0.068495721559554856)\n",
        "(0.92761450268187318, 0.068409779777036245)"
       ]
      },
      {
       "output_type": "stream",
       "stream": "stdout",
       "text": [
        "\n",
        "(0.9260930770831729, 0.068324909061497852)\n",
        "(0.9245575442364331, 0.068241052174685318)"
       ]
      },
      {
       "output_type": "stream",
       "stream": "stdout",
       "text": [
        "\n",
        "(0.92300293791627008, 0.068157694518519232)\n",
        "(0.92142207558809097, 0.068074037919460165)"
       ]
      },
      {
       "output_type": "stream",
       "stream": "stdout",
       "text": [
        "\n",
        "(0.9198051693267002, 0.067989079990534912)\n",
        "(0.91813968435254467, 0.067901495937785036)"
       ]
      },
      {
       "output_type": "stream",
       "stream": "stdout",
       "text": [
        "\n",
        "(0.91641072013018743, 0.067809411826332447)\n",
        "(0.91460117117581963, 0.06770999109143222)"
       ]
      },
      {
       "output_type": "stream",
       "stream": "stdout",
       "text": [
        "\n",
        "(0.91268981182748576, 0.067598570714519343)\n",
        "(0.91064665652007404, 0.067466939975733636)"
       ]
      },
      {
       "output_type": "stream",
       "stream": "stdout",
       "text": [
        "\n",
        "(0.90842813557520197, 0.067300352121726498)\n",
        "(0.90597633576209979, 0.0670737629527388)"
       ]
      },
      {
       "output_type": "stream",
       "stream": "stdout",
       "text": [
        "\n",
        "(0.90322948382259372, 0.066752635864552809)\n",
        "(0.90016524034586598, 0.066311433656049273)"
       ]
      },
      {
       "output_type": "stream",
       "stream": "stdout",
       "text": [
        "\n",
        "(0.89685600573560698, 0.065761222163118457)\n",
        "(0.89345100068788941, 0.06514692622025374)"
       ]
      },
      {
       "output_type": "stream",
       "stream": "stdout",
       "text": [
        "\n",
        "(0.89008729072371728, 0.064526795285508587)\n",
        "(0.88683026415471589, 0.063948445552627506)"
       ]
      },
      {
       "output_type": "stream",
       "stream": "stdout",
       "text": [
        "\n",
        "(0.88367735851494589, 0.063433799347470399)\n",
        "(0.88063005221471835, 0.062987089301862059)"
       ]
      },
      {
       "output_type": "stream",
       "stream": "stdout",
       "text": [
        "\n",
        "(0.87770729459126695, 0.062601397904709019)\n",
        "(0.87491954391319404, 0.06226472311442912)"
       ]
      },
      {
       "output_type": "stream",
       "stream": "stdout",
       "text": [
        "\n",
        "(0.87226263509619861, 0.061965500681430911)\n",
        "(0.86972712435132449, 0.061694760067376682)"
       ]
      },
      {
       "output_type": "stream",
       "stream": "stdout",
       "text": [
        "\n",
        "(0.86730439282445748, 0.06144599782374164)\n",
        "(0.86498478466843665, 0.061214523557877855)"
       ]
      },
      {
       "output_type": "stream",
       "stream": "stdout",
       "text": [
        "\n",
        "(0.86276091422692969, 0.060997033969212022)\n",
        "(0.86062561161305595, 0.060791269942612615)"
       ]
      },
      {
       "output_type": "stream",
       "stream": "stdout",
       "text": [
        "\n",
        "(0.85857046755283817, 0.060595430316704578)\n",
        "(0.85658892235047479, 0.060407676568893585)"
       ]
      },
      {
       "output_type": "stream",
       "stream": "stdout",
       "text": [
        "\n",
        "(0.85467723382372762, 0.060225460857856447)\n",
        "(0.85284043329862946, 0.060044846304463759)"
       ]
      },
      {
       "output_type": "stream",
       "stream": "stdout",
       "text": [
        "\n",
        "(0.85109380661274847, 0.059864117341013642)\n",
        "(0.84941835445645164, 0.059685728146111325)"
       ]
      },
      {
       "output_type": "stream",
       "stream": "stdout",
       "text": [
        "\n",
        "(0.84779392611829385, 0.059511396487844058)\n",
        "(0.84622629241412362, 0.059342086891018365)"
       ]
      },
      {
       "output_type": "stream",
       "stream": "stdout",
       "text": [
        "\n",
        "(0.84471776237160967, 0.059179436603465453)\n",
        "(0.84326179755642738, 0.05902368549800837)"
       ]
      },
      {
       "output_type": "stream",
       "stream": "stdout",
       "text": [
        "\n",
        "(0.84185808103541859, 0.05887379847261013)\n",
        "(0.84051226472162965, 0.058728586734768488)"
       ]
      },
      {
       "output_type": "stream",
       "stream": "stdout",
       "text": [
        "\n",
        "(0.83923261950088646, 0.058587159575207076)\n",
        "(0.83802682122245076, 0.058448834911239256)"
       ]
      },
      {
       "output_type": "stream",
       "stream": "stdout",
       "text": [
        "\n",
        "(0.83689914975831325, 0.058312903682548857)\n",
        "(0.83584836598043843, 0.058178644187648829)"
       ]
      },
      {
       "output_type": "stream",
       "stream": "stdout",
       "text": [
        "\n",
        "(0.83486650793999961, 0.058045470231443096)\n",
        "(0.8339397262792726, 0.057912986272397084)"
       ]
      },
      {
       "output_type": "stream",
       "stream": "stdout",
       "text": [
        "\n",
        "(0.83304997705130601, 0.057781064975015936)\n",
        "(0.83217673127984992, 0.057650002212377663)"
       ]
      },
      {
       "output_type": "stream",
       "stream": "stdout",
       "text": [
        "\n",
        "(0.83129995213884766, 0.057520516327973954)\n",
        "(0.83040569537958164, 0.057393583271254052)"
       ]
      },
      {
       "output_type": "stream",
       "stream": "stdout",
       "text": [
        "\n",
        "(0.82948665671877064, 0.057270625212641174)\n",
        "(0.82853876217072686, 0.057152639803436454)"
       ]
      },
      {
       "output_type": "stream",
       "stream": "stdout",
       "text": [
        "\n",
        "(0.82756360036805054, 0.057040102947465553)\n",
        "(0.82656581077336233, 0.056932974260128222)"
       ]
      },
      {
       "output_type": "stream",
       "stream": "stdout",
       "text": [
        "\n",
        "(0.82555121391707398, 0.056830882773947086)\n",
        "(0.82452559826812177, 0.056733311118538118)"
       ]
      },
      {
       "output_type": "stream",
       "stream": "stdout",
       "text": [
        "\n",
        "(0.82349417170170813, 0.056639638584948804)\n",
        "(0.8224612847148014, 0.056549025991139493)"
       ]
      },
      {
       "output_type": "stream",
       "stream": "stdout",
       "text": [
        "\n",
        "(0.8214305691546796, 0.056460800482079285)\n",
        "(0.82040689271971223, 0.056374667535811177)"
       ]
      },
      {
       "output_type": "stream",
       "stream": "stdout",
       "text": [
        "\n",
        "(0.81939228528410468, 0.056290065729431855)\n",
        "(0.81838850408066399, 0.056207193916023447)"
       ]
      },
      {
       "output_type": "stream",
       "stream": "stdout",
       "text": [
        "\n",
        "(0.81739645184625442, 0.056127280729076835)\n",
        "(0.8164143699967682, 0.056050487537002938)"
       ]
      },
      {
       "output_type": "stream",
       "stream": "stdout",
       "text": [
        "\n",
        "(0.81543834358434508, 0.05597550756541466)\n",
        "(0.81447113840375651, 0.055901884559217761)"
       ]
      },
      {
       "output_type": "stream",
       "stream": "stdout",
       "text": [
        "\n",
        "(0.81352200229033189, 0.055830847880660457)\n",
        "(0.81259479085197195, 0.0557623791955911)"
       ]
      },
      {
       "output_type": "stream",
       "stream": "stdout",
       "text": [
        "\n",
        "(0.81169093987241314, 0.055696014765831088)\n",
        "(0.81081117324364271, 0.055631411072650808)"
       ]
      },
      {
       "output_type": "stream",
       "stream": "stdout",
       "text": [
        "\n",
        "(0.80995551077711114, 0.055568302217036084)\n",
        "(0.80912320163200224, 0.055506492735609238)"
       ]
      },
      {
       "output_type": "stream",
       "stream": "stdout",
       "text": [
        "\n",
        "(0.80831105475144061, 0.055446026783071194)\n",
        "(0.80751230382550443, 0.055387242430108806)"
       ]
      },
      {
       "output_type": "stream",
       "stream": "stdout",
       "text": [
        "\n",
        "(0.80671928549952721, 0.055330542434523552)\n",
        "(0.80592652845484825, 0.055276089895002066)"
       ]
      },
      {
       "output_type": "stream",
       "stream": "stdout",
       "text": [
        "\n",
        "(0.80513141718204229, 0.055223769025545218)\n",
        "(0.80433335600851597, 0.055173329595829199)"
       ]
      },
      {
       "output_type": "stream",
       "stream": "stdout",
       "text": [
        "\n",
        "(0.80353254928367523, 0.055124514713670081)\n",
        "(0.80272919508501883, 0.055077105379991026)"
       ]
      },
      {
       "output_type": "stream",
       "stream": "stdout",
       "text": [
        "\n",
        "(0.80192331333521061, 0.055030906108389142)\n",
        "(0.80111491357383546, 0.054985740556141437)"
       ]
      },
      {
       "output_type": "stream",
       "stream": "stdout",
       "text": [
        "\n",
        "(0.80030456782721016, 0.05494147513428415)\n",
        "(0.79949379777112484, 0.054898029717587213)"
       ]
      },
      {
       "output_type": "stream",
       "stream": "stdout",
       "text": [
        "\n",
        "(0.79868435198248378, 0.054855351392045851)\n",
        "(0.79787733679817163, 0.054813362877036156)"
       ]
      },
      {
       "output_type": "stream",
       "stream": "stdout",
       "text": [
        "\n",
        "(0.79707339351611661, 0.054771906982973004)\n",
        "(0.79627412058959846, 0.05473076348350691)"
       ]
      },
      {
       "output_type": "stream",
       "stream": "stdout",
       "text": [
        "\n",
        "(0.79548294639838113, 0.054689831408946336)\n",
        "(0.79470185081260947, 0.054649253726506662)"
       ]
      },
      {
       "output_type": "stream",
       "stream": "stdout",
       "text": [
        "\n",
        "(0.79392951374538256, 0.054609219830247913)\n",
        "(0.79316344508193348, 0.054569787306886615)"
       ]
      },
      {
       "output_type": "stream",
       "stream": "stdout",
       "text": [
        "\n",
        "(0.79240111211503705, 0.054530894995109082)\n",
        "(0.79164000606533758, 0.05449239120578591)"
       ]
      },
      {
       "output_type": "stream",
       "stream": "stdout",
       "text": [
        "\n",
        "(0.79087777650248881, 0.054454011551849937)\n",
        "(0.79011183122450723, 0.054415415478094309)"
       ]
      },
      {
       "output_type": "stream",
       "stream": "stdout",
       "text": [
        "\n",
        "(0.78933771206457748, 0.054376301555417735)\n",
        "(0.78855022817131104, 0.054336433285796515)"
       ]
      },
      {
       "output_type": "stream",
       "stream": "stdout",
       "text": [
        "\n",
        "(0.78774733156725751, 0.054295703532589931)\n",
        "(0.7869303399163845, 0.054254157027593078)"
       ]
      },
      {
       "output_type": "stream",
       "stream": "stdout",
       "text": [
        "\n",
        "(0.78610053971717597, 0.054211679525329425)\n",
        "(0.78525698150022627, 0.054167848013555446)"
       ]
      },
      {
       "output_type": "stream",
       "stream": "stdout",
       "text": [
        "\n",
        "(0.78439670791050065, 0.054122250081403027)\n",
        "(0.78351750328530301, 0.05407475852049088)"
       ]
      },
      {
       "output_type": "stream",
       "stream": "stdout",
       "text": [
        "\n",
        "(0.78261828762093233, 0.05402546990434666)\n",
        "(0.78169894617019386, 0.053975016562524035)"
       ]
      },
      {
       "output_type": "stream",
       "stream": "stdout",
       "text": [
        "\n",
        "(0.78075951673355815, 0.053925473273215362)\n",
        "(0.77980151772905371, 0.053878968615130883)"
       ]
      },
      {
       "output_type": "stream",
       "stream": "stdout",
       "text": [
        "\n",
        "(0.77883393889441366, 0.053835743617937581)\n",
        "(0.77786723922258483, 0.0537951828711258)"
       ]
      },
      {
       "output_type": "stream",
       "stream": "stdout",
       "text": [
        "\n",
        "(0.77690735914598186, 0.05375672406206889)\n",
        "(0.77595637044759758, 0.053719790532298931)"
       ]
      },
      {
       "output_type": "stream",
       "stream": "stdout",
       "text": [
        "\n",
        "(0.77501364871982559, 0.053683553664377763)\n",
        "(0.77407832599440263, 0.05364752148082938)"
       ]
      },
      {
       "output_type": "stream",
       "stream": "stdout",
       "text": [
        "\n",
        "(0.77315031928349409, 0.053612055094952149)\n",
        "(0.77223038043238845, 0.053577114104949287)"
       ]
      },
      {
       "output_type": "stream",
       "stream": "stdout",
       "text": [
        "\n",
        "(0.77132261466074348, 0.053542667983928774)\n",
        "(0.77043022323438759, 0.053508594228224078)"
       ]
      },
      {
       "output_type": "stream",
       "stream": "stdout",
       "text": [
        "\n",
        "(0.76955598428474536, 0.053475123302468938)\n",
        "(0.76870079204741526, 0.05344266297528702)"
       ]
      },
      {
       "output_type": "stream",
       "stream": "stdout",
       "text": [
        "\n",
        "(0.7678641917874689, 0.053411266805018849)\n",
        "(0.76704520686704603, 0.053380912859552883)"
       ]
      },
      {
       "output_type": "stream",
       "stream": "stdout",
       "text": [
        "\n",
        "(0.76624247797253409, 0.053351679526682912)\n",
        "(0.76545409983381119, 0.053323472454751469)"
       ]
      },
      {
       "output_type": "stream",
       "stream": "stdout",
       "text": [
        "\n",
        "(0.76467813623570235, 0.053296156168088658)\n",
        "(0.76391289681612951, 0.053269576816586575)"
       ]
      },
      {
       "output_type": "stream",
       "stream": "stdout",
       "text": [
        "\n",
        "(0.76315683503819076, 0.053243566348964565)\n",
        "(0.76240844706187261, 0.053217944881827982)"
       ]
      },
      {
       "output_type": "stream",
       "stream": "stdout",
       "text": [
        "\n",
        "(0.76166614965870516, 0.053192517348408207)\n",
        "(0.76092818063697931, 0.05316705232771872)"
       ]
      },
      {
       "output_type": "stream",
       "stream": "stdout",
       "text": [
        "\n",
        "(0.76019308081178061, 0.05314123328086541)\n",
        "(0.75946189949545162, 0.05311482870496214)"
       ]
      },
      {
       "output_type": "stream",
       "stream": "stdout",
       "text": [
        "\n",
        "(0.75873632352923048, 0.053088169636644186)\n",
        "(0.75801478152022839, 0.053061840994216521)"
       ]
      },
      {
       "output_type": "stream",
       "stream": "stdout",
       "text": [
        "\n",
        "(0.75729561760321074, 0.053036079573725969)\n",
        "(0.75657836370557252, 0.053010848543379466)"
       ]
      },
      {
       "output_type": "stream",
       "stream": "stdout",
       "text": [
        "\n",
        "(0.75586303210167471, 0.052986040253500337)\n",
        "(0.75514943053649297, 0.052961532436495831)"
       ]
      },
      {
       "output_type": "stream",
       "stream": "stdout",
       "text": [
        "\n",
        "(0.75443709417764993, 0.052937204896528686)\n",
        "(0.7537253096964891, 0.052912958713831365)"
       ]
      },
      {
       "output_type": "stream",
       "stream": "stdout",
       "text": [
        "\n",
        "(0.75301323281309396, 0.05288875149657761)\n",
        "(0.7523002464947921, 0.052864612780678458)"
       ]
      },
      {
       "output_type": "stream",
       "stream": "stdout",
       "text": [
        "\n",
        "(0.75158603030568372, 0.05284059524912648)\n",
        "(0.75087016054668054, 0.052816715435831996)"
       ]
      },
      {
       "output_type": "stream",
       "stream": "stdout",
       "text": [
        "\n",
        "(0.75015184397974866, 0.052792938198177937)\n",
        "(0.74942995507625265, 0.052769185504553673)"
       ]
      },
      {
       "output_type": "stream",
       "stream": "stdout",
       "text": [
        "\n",
        "(0.74870306128437958, 0.052745283792220717)\n",
        "(0.74796812824029235, 0.052720687721565115)"
       ]
      },
      {
       "output_type": "stream",
       "stream": "stdout",
       "text": [
        "\n",
        "(0.74722170903984497, 0.052695109883172671)\n",
        "(0.74646774297049012, 0.052669197536583369)"
       ]
      },
      {
       "output_type": "stream",
       "stream": "stdout",
       "text": [
        "\n",
        "(0.74570741429028953, 0.052643132526772884)\n",
        "(0.74493886905921758, 0.052616855883755753)"
       ]
      },
      {
       "output_type": "stream",
       "stream": "stdout",
       "text": [
        "\n",
        "(0.74415889441321226, 0.052590211889348142)\n",
        "(0.74336399987061808, 0.0525629420151092)"
       ]
      },
      {
       "output_type": "stream",
       "stream": "stdout",
       "text": [
        "\n",
        "(0.74255083007552669, 0.052534718624595106)\n",
        "(0.7417159230133834, 0.052505218649725384)"
       ]
      },
      {
       "output_type": "stream",
       "stream": "stdout",
       "text": [
        "\n",
        "(0.74085663040854732, 0.052474142336911687)\n",
        "(0.73997003604106715, 0.052441188101603711)"
       ]
      },
      {
       "output_type": "stream",
       "stream": "stdout",
       "text": [
        "\n",
        "(0.73905309477999392, 0.052406071648657605)\n",
        "(0.7381026884959041, 0.052368583852291407)"
       ]
      },
      {
       "output_type": "stream",
       "stream": "stdout",
       "text": [
        "\n",
        "(0.73711552803687708, 0.052328581983939193)\n",
        "(0.73608848568360519, 0.052285953975203622)"
       ]
      },
      {
       "output_type": "stream",
       "stream": "stdout",
       "text": [
        "\n",
        "(0.73501903149220027, 0.052240612636892302)\n",
        "(0.73390397532533291, 0.0521925815970848)"
       ]
      },
      {
       "output_type": "stream",
       "stream": "stdout",
       "text": [
        "\n",
        "(0.73273943277407083, 0.05214193930838279)\n",
        "(0.73152304534419577, 0.052088717202693056)"
       ]
      },
      {
       "output_type": "stream",
       "stream": "stdout",
       "text": [
        "\n",
        "(0.73025361844751935, 0.052032842736377163)\n",
        "(0.72893059751133071, 0.051974067612787778)"
       ]
      },
      {
       "output_type": "stream",
       "stream": "stdout",
       "text": [
        "\n",
        "(0.72755405321398281, 0.05191185934646337)\n",
        "(0.72612519262687947, 0.051845209992383144)"
       ]
      },
      {
       "output_type": "stream",
       "stream": "stdout",
       "text": [
        "\n",
        "(0.72464741594134918, 0.051772101259258532)\n",
        "(0.72312845533991621, 0.051687803238185857)"
       ]
      },
      {
       "output_type": "stream",
       "stream": "stdout",
       "text": [
        "\n",
        "(0.72157960612406447, 0.051581997386383846)\n",
        "(0.72001591148344146, 0.051443283214352292)"
       ]
      },
      {
       "output_type": "stream",
       "stream": "stdout",
       "text": [
        "\n",
        "(0.71846177601058592, 0.051273861203304107)\n",
        "(0.71688838312917857, 0.051091509522690301)"
       ]
      },
      {
       "output_type": "stream",
       "stream": "stdout",
       "text": [
        "\n",
        "(0.71528458554233154, 0.050917998831145617)\n",
        "(0.71364474660751043, 0.050761217038059234)"
       ]
      },
      {
       "output_type": "stream",
       "stream": "stdout",
       "text": [
        "\n",
        "(0.71194573658722859, 0.050617470953228771)\n",
        "(0.71016029141103532, 0.050481918018131601)"
       ]
      },
      {
       "output_type": "stream",
       "stream": "stdout",
       "text": [
        "\n",
        "(0.70829648600535366, 0.050353281846822869)\n",
        "(0.70641124763304297, 0.050233974933946234)"
       ]
      },
      {
       "output_type": "stream",
       "stream": "stdout",
       "text": [
        "\n",
        "(0.70457319431143894, 0.050126337109060087)\n",
        "(0.70282977577224126, 0.050029578016962173)"
       ]
      },
      {
       "output_type": "stream",
       "stream": "stdout",
       "text": [
        "\n",
        "(0.70117475373483806, 0.049941338179865159)\n",
        "(0.69957419559946377, 0.049859756933353455)"
       ]
      },
      {
       "output_type": "stream",
       "stream": "stdout",
       "text": [
        "\n",
        "(0.69801695605551484, 0.049783741838283449)\n",
        "(0.69650851077961817, 0.049712303130083971)"
       ]
      },
      {
       "output_type": "stream",
       "stream": "stdout",
       "text": [
        "\n",
        "(0.69505065326443738, 0.049644379642993113)\n",
        "(0.69364029327191346, 0.049579195901260351)"
       ]
      },
      {
       "output_type": "stream",
       "stream": "stdout",
       "text": [
        "\n",
        "(0.69227464159299701, 0.049516462450951731)\n",
        "(0.69095212795254501, 0.049456222834480791)"
       ]
      },
      {
       "output_type": "stream",
       "stream": "stdout",
       "text": [
        "\n",
        "(0.68967074407404816, 0.049398523043475563)\n",
        "(0.68842730288149478, 0.0493432413236429)"
       ]
      },
      {
       "output_type": "stream",
       "stream": "stdout",
       "text": [
        "\n",
        "(0.68721805011613724, 0.049290127331768192)\n",
        "(0.68603946694443352, 0.049238901761084725)"
       ]
      },
      {
       "output_type": "stream",
       "stream": "stdout",
       "text": [
        "\n",
        "(0.68488912068968266, 0.049189345634440239)\n",
        "(0.68376630108639158, 0.04914135057372214)"
       ]
      },
      {
       "output_type": "stream",
       "stream": "stdout",
       "text": [
        "\n",
        "(0.68267098439388141, 0.049094894713227422)\n",
        "(0.68160251849217224, 0.049049994994304694)"
       ]
      },
      {
       "output_type": "stream",
       "stream": "stdout",
       "text": [
        "\n",
        "(0.68055938533516813, 0.049006673419722653)\n",
        "(0.67953946447291924, 0.048964926402869653)"
       ]
      },
      {
       "output_type": "stream",
       "stream": "stdout",
       "text": [
        "\n",
        "(0.67854033395167868, 0.048924697466451193)\n",
        "(0.67755946008434353, 0.048885851160929812)"
       ]
      },
      {
       "output_type": "stream",
       "stream": "stdout",
       "text": [
        "\n",
        "(0.67659389607287757, 0.048848093702414885)\n",
        "(0.67563846490177071, 0.048811062684994438)"
       ]
      },
      {
       "output_type": "stream",
       "stream": "stdout",
       "text": [
        "\n",
        "(0.67469238181149782, 0.048774791964508568)\n",
        "(0.67375692217272998, 0.048739340625925894)"
       ]
      },
      {
       "output_type": "stream",
       "stream": "stdout",
       "text": [
        "\n",
        "(0.67282986156272473, 0.048704549897756265)\n",
        "(0.67190896200894223, 0.048670218340670417)"
       ]
      },
      {
       "output_type": "stream",
       "stream": "stdout",
       "text": [
        "\n",
        "(0.67099191153991355, 0.048636134827206016)\n",
        "(0.6700761456799208, 0.048602049406249931)"
       ]
      },
      {
       "output_type": "stream",
       "stream": "stdout",
       "text": [
        "\n",
        "(0.66915874837304745, 0.048567641292760491)\n",
        "(0.66823684561711971, 0.048532547179173172)"
       ]
      },
      {
       "output_type": "stream",
       "stream": "stdout",
       "text": [
        "\n",
        "(0.66730858746365374, 0.048496477406788703)\n",
        "(0.66637216258870424, 0.048459156602806537)"
       ]
      },
      {
       "output_type": "stream",
       "stream": "stdout",
       "text": [
        "\n",
        "(0.66542321594373399, 0.048420050118516716)\n",
        "(0.66445446227435956, 0.048378163006013032)"
       ]
      },
      {
       "output_type": "stream",
       "stream": "stdout",
       "text": [
        "\n",
        "(0.66345598415606966, 0.048331486531307796)\n",
        "(0.66240438710485683, 0.048272439903270598)"
       ]
      },
      {
       "output_type": "stream",
       "stream": "stdout",
       "text": [
        "\n",
        "(0.66122391082039778, 0.048188325394861856)\n",
        "(0.66000622450612279, 0.048094158946089108)"
       ]
      },
      {
       "output_type": "stream",
       "stream": "stdout",
       "text": [
        "\n",
        "(0.65879675474710597, 0.048004813894586197)\n",
        "(0.65759282761234505, 0.047922500924428083)"
       ]
      },
      {
       "output_type": "stream",
       "stream": "stdout",
       "text": [
        "\n",
        "(0.6563997599641076, 0.047846100939123615)\n",
        "(0.65522977443776242, 0.047774688566774616)"
       ]
      },
      {
       "output_type": "stream",
       "stream": "stdout",
       "text": [
        "\n",
        "(0.65409179874844203, 0.047707593064946548)\n",
        "(0.65298921814789501, 0.047644281000055785)"
       ]
      },
      {
       "output_type": "stream",
       "stream": "stdout",
       "text": [
        "\n",
        "(0.65192107874905514, 0.047584215863057583)\n",
        "(0.65088422785989875, 0.047526859414802669)"
       ]
      },
      {
       "output_type": "stream",
       "stream": "stdout",
       "text": [
        "\n",
        "(0.64987530309428976, 0.047471722903768283)\n",
        "(0.64889189666773528, 0.047418391791874515)"
       ]
      },
      {
       "output_type": "stream",
       "stream": "stdout",
       "text": [
        "\n",
        "(0.6479332870566864, 0.047366571792237203)\n",
        "(0.64700061818116117, 0.047316153245306823)"
       ]
      },
      {
       "output_type": "stream",
       "stream": "stdout",
       "text": [
        "\n",
        "(0.64609584344226501, 0.047267225410829693)\n",
        "(0.64522001042513077, 0.047219996384821591)"
       ]
      },
      {
       "output_type": "stream",
       "stream": "stdout",
       "text": [
        "\n",
        "(0.64437191556898654, 0.047174702269670341)\n",
        "(0.64354852998937695, 0.047131512083902288)"
       ]
      },
      {
       "output_type": "stream",
       "stream": "stdout",
       "text": [
        "\n",
        "(0.64274703309549508, 0.04709043005264274)\n",
        "(0.64196565502104641, 0.047051345449251762)"
       ]
      },
      {
       "output_type": "stream",
       "stream": "stdout",
       "text": [
        "\n",
        "(0.64120357567856456, 0.047014131047891199)\n",
        "(0.64046037960469338, 0.046978652631413355)"
       ]
      },
      {
       "output_type": "stream",
       "stream": "stdout",
       "text": [
        "\n",
        "(0.63973550630848064, 0.046944697988606406)\n",
        "(0.63902797906261233, 0.046911846421870323)"
       ]
      },
      {
       "output_type": "stream",
       "stream": "stdout",
       "text": [
        "\n",
        "(0.63833604768088748, 0.046879198679788861)\n",
        "(0.63765758769257153, 0.046845430341421364)"
       ]
      },
      {
       "output_type": "stream",
       "stream": "stdout",
       "text": [
        "\n",
        "(0.63699186639827365, 0.046810416282391194)\n",
        "(0.63633720116452641, 0.04677547993754258)"
       ]
      },
      {
       "output_type": "stream",
       "stream": "stdout",
       "text": [
        "\n",
        "(0.63569479217526426, 0.046741957412015943)\n",
        "(0.63506688271830924, 0.04671027493809525)"
       ]
      },
      {
       "output_type": "stream",
       "stream": "stdout",
       "text": [
        "\n",
        "(0.63445501849027397, 0.04668004385176816)\n",
        "(0.63385977495653878, 0.046650652014884636)"
       ]
      },
      {
       "output_type": "stream",
       "stream": "stdout",
       "text": [
        "\n",
        "(0.63327914048042855, 0.046621740713460785)\n",
        "(0.63270750596602876, 0.046593210702677544)"
       ]
      },
      {
       "output_type": "stream",
       "stream": "stdout",
       "text": [
        "\n",
        "(0.63213746370169366, 0.046564706784184298)\n",
        "(0.6315615115783072, 0.046535142688065252)"
       ]
      },
      {
       "output_type": "stream",
       "stream": "stdout",
       "text": [
        "\n",
        "(0.63097424891241383, 0.046503360033562688)\n",
        "(0.6303776169841353, 0.046469143613118241)"
       ]
      },
      {
       "output_type": "stream",
       "stream": "stdout",
       "text": [
        "\n",
        "(0.62977720271551474, 0.046431828262376067)\n",
        "(0.62917842381983147, 0.046392374941303938)"
       ]
      },
      {
       "output_type": "stream",
       "stream": "stdout",
       "text": [
        "\n",
        "(0.62857971822674386, 0.046351497397527287)\n",
        "(0.62796992201023372, 0.046310545896106878)"
       ]
      },
      {
       "output_type": "stream",
       "stream": "stdout",
       "text": [
        "\n",
        "(0.62734462942752978, 0.046272149213313796)\n",
        "(0.62671408336332501, 0.046235094934867153)"
       ]
      },
      {
       "output_type": "stream",
       "stream": "stdout",
       "text": [
        "\n",
        "(0.62605691579475309, 0.046196482012305501)\n",
        "(0.62542851239176711, 0.046160999688381707)"
       ]
      },
      {
       "output_type": "stream",
       "stream": "stdout",
       "text": [
        "\n",
        "(0.62482424622185484, 0.046128328777995817)\n",
        "(0.62424183137178213, 0.046098303107039322)"
       ]
      },
      {
       "output_type": "stream",
       "stream": "stdout",
       "text": [
        "\n",
        "(0.62368025209301914, 0.04607065968825079)\n",
        "(0.62313841180706853, 0.046044947650791451)"
       ]
      },
      {
       "output_type": "stream",
       "stream": "stdout",
       "text": [
        "\n",
        "(0.62261606732339891, 0.046020667791828361)\n",
        "(0.6221121849154817, 0.045997362985002718)"
       ]
      },
      {
       "output_type": "stream",
       "stream": "stdout",
       "text": [
        "\n",
        "(0.62162328293609725, 0.045974860862739116)\n",
        "(0.62114486933285629, 0.045953229413063568)"
       ]
      },
      {
       "output_type": "stream",
       "stream": "stdout",
       "text": [
        "\n",
        "(0.62067333839754479, 0.045932484270804916)\n",
        "(0.62020663166481305, 0.045912499602323777)"
       ]
      },
      {
       "output_type": "stream",
       "stream": "stdout",
       "text": [
        "\n",
        "(0.61974405010394851, 0.045893071381359812)\n",
        "(0.61928565034073191, 0.045873967564311592)"
       ]
      },
      {
       "output_type": "stream",
       "stream": "stdout",
       "text": [
        "\n",
        "(0.61883169357170664, 0.045854899925481869)\n",
        "(0.61838203352820309, 0.045835456293841073)"
       ]
      },
      {
       "output_type": "stream",
       "stream": "stdout",
       "text": [
        "\n",
        "(0.6179349227239741, 0.045815137067592396)\n",
        "(0.61748678333300711, 0.045793461961667239)"
       ]
      },
      {
       "output_type": "stream",
       "stream": "stdout",
       "text": [
        "\n",
        "(0.6170345647544081, 0.04577008408208675)\n",
        "(0.61657797552693905, 0.045745010028087237)"
       ]
      },
      {
       "output_type": "stream",
       "stream": "stdout",
       "text": [
        "\n",
        "(0.61611902079732894, 0.045718897530810897)\n",
        "(0.61565947924291953, 0.045692931977291011)"
       ]
      },
      {
       "output_type": "stream",
       "stream": "stdout",
       "text": [
        "\n",
        "(0.61519855117457556, 0.045668035347860604)\n",
        "(0.6147311072564271, 0.045644124854618127)"
       ]
      },
      {
       "output_type": "stream",
       "stream": "stdout",
       "text": [
        "\n",
        "(0.61424497641518749, 0.045620053915966359)\n",
        "(0.61373699294632311, 0.045595204814164056)"
       ]
      },
      {
       "output_type": "stream",
       "stream": "stdout",
       "text": [
        "\n",
        "(0.61321938917946783, 0.045569898287649471)\n",
        "(0.61269764754642531, 0.045543393068116028)"
       ]
      },
      {
       "output_type": "stream",
       "stream": "stdout",
       "text": [
        "\n",
        "(0.61216827350201242, 0.045513703716851373)\n",
        "(0.61162649719171103, 0.045478644825112581)"
       ]
      },
      {
       "output_type": "stream",
       "stream": "stdout",
       "text": [
        "\n",
        "(0.61107475900218378, 0.045436840521903762)\n",
        "(0.61051599362103282, 0.045385580108018776)"
       ]
      },
      {
       "output_type": "stream",
       "stream": "stdout",
       "text": [
        "\n",
        "(0.60994737314926439, 0.045320605323479361)\n",
        "(0.60940002017771733, 0.045247877186563312)"
       ]
      },
      {
       "output_type": "stream",
       "stream": "stdout",
       "text": [
        "\n",
        "(0.60890272639863185, 0.045177913270891025)\n",
        "(0.60845868623540866, 0.045114909124423959)"
       ]
      },
      {
       "output_type": "stream",
       "stream": "stdout",
       "text": [
        "\n",
        "(0.60805803648842438, 0.045058752611944829)\n",
        "(0.60768202200730514, 0.045007306370928438)"
       ]
      },
      {
       "output_type": "stream",
       "stream": "stdout",
       "text": [
        "\n",
        "(0.60731030598126912, 0.044957650509810383)\n",
        "(0.60695150842777779, 0.044912064694838424)"
       ]
      },
      {
       "output_type": "stream",
       "stream": "stdout",
       "text": [
        "\n",
        "(0.60661451410170442, 0.04487161419263417)\n",
        "(0.60629017091091297, 0.044834152758999032)"
       ]
      },
      {
       "output_type": "stream",
       "stream": "stdout",
       "text": [
        "\n",
        "(0.60597083711552069, 0.044798688316510869)\n",
        "(0.60565576875924021, 0.044765896377157714)"
       ]
      },
      {
       "output_type": "stream",
       "stream": "stdout",
       "text": [
        "\n",
        "(0.60534583504333239, 0.044736243857035403)\n",
        "(0.60503984431706281, 0.044709258112387046)"
       ]
      },
      {
       "output_type": "stream",
       "stream": "stdout",
       "text": [
        "\n",
        "(0.60473557227070729, 0.044684101684365041)\n",
        "(0.6044315874517775, 0.04465983497335594)"
       ]
      },
      {
       "output_type": "stream",
       "stream": "stdout",
       "text": [
        "\n",
        "(0.60412848235461214, 0.044635159970808573)\n",
        "(0.60382827574372766, 0.044608845904989321)"
       ]
      },
      {
       "output_type": "stream",
       "stream": "stdout",
       "text": [
        "\n",
        "(0.60352907438844938, 0.044582246517685706)\n",
        "(0.60322379996572761, 0.044558189679889358)"
       ]
      },
      {
       "output_type": "stream",
       "stream": "stdout",
       "text": [
        "\n",
        "(0.60290954034184419, 0.044537132552196108)\n",
        "(0.60259070409325144, 0.044518067688839945)"
       ]
      },
      {
       "output_type": "stream",
       "stream": "stdout",
       "text": [
        "\n",
        "(0.60226695178657219, 0.044500528795542497)\n",
        "(0.6019413759016975, 0.044483812055359326)"
       ]
      },
      {
       "output_type": "stream",
       "stream": "stdout",
       "text": [
        "\n",
        "(0.60161675336487608, 0.044467517524642571)\n",
        "(0.60129540340873089, 0.044451510978059001)"
       ]
      },
      {
       "output_type": "stream",
       "stream": "stdout",
       "text": [
        "\n",
        "(0.60097907346173851, 0.044435810355980591)\n",
        "(0.60066879404161, 0.044420430693037326)"
       ]
      },
      {
       "output_type": "stream",
       "stream": "stdout",
       "text": [
        "\n",
        "(0.60036507463987054, 0.044405323091043447)\n",
        "(0.60006826247504907, 0.044390411548088621)"
       ]
      },
      {
       "output_type": "stream",
       "stream": "stdout",
       "text": [
        "\n",
        "(0.59977873557934591, 0.044375649095368744)\n",
        "(0.59949687484473313, 0.044361046858881863)"
       ]
      },
      {
       "output_type": "stream",
       "stream": "stdout",
       "text": [
        "\n",
        "(0.59922289553480923, 0.044346663108656051)\n",
        "(0.59895662215282541, 0.044332564895266553)"
       ]
      },
      {
       "output_type": "stream",
       "stream": "stdout",
       "text": [
        "\n",
        "(0.59869730259177922, 0.044318786022949919)\n",
        "(0.59844348702699701, 0.044305294147706391)"
       ]
      },
      {
       "output_type": "stream",
       "stream": "stdout",
       "text": [
        "\n",
        "(0.59819298921089303, 0.044291988108009231)\n",
        "(0.5979432984708275, 0.044278777675697677)"
       ]
      },
      {
       "output_type": "stream",
       "stream": "stdout",
       "text": [
        "\n",
        "(0.59769243652246162, 0.0442657234017702)\n",
        "(0.59743921811334066, 0.044253016915851748)"
       ]
      },
      {
       "output_type": "stream",
       "stream": "stdout",
       "text": [
        "\n",
        "(0.59718311691249193, 0.044240783554857895)\n",
        "(0.59692393939576838, 0.044229021217989703)"
       ]
      },
      {
       "output_type": "stream",
       "stream": "stdout",
       "text": [
        "\n",
        "(0.59666165798576398, 0.044217675628355706)\n",
        "(0.59639638301245246, 0.044206694480911822)"
       ]
      },
      {
       "output_type": "stream",
       "stream": "stdout",
       "text": [
        "\n",
        "(0.59612830088033719, 0.044196037858171625)\n",
        "(0.59585759383069214, 0.044185670250456027)"
       ]
      },
      {
       "output_type": "stream",
       "stream": "stdout",
       "text": [
        "\n",
        "(0.59558440463018603, 0.044175546850738198)\n",
        "(0.59530882356076797, 0.044165599923794437)"
       ]
      },
      {
       "output_type": "stream",
       "stream": "stdout",
       "text": [
        "\n",
        "(0.59503101639586331, 0.044155754367585322)\n",
        "(0.59475186564643878, 0.04414601587369886)"
       ]
      },
      {
       "output_type": "stream",
       "stream": "stdout",
       "text": [
        "\n",
        "(0.59447280734515295, 0.044136495538560722)\n",
        "(0.59419467223185196, 0.044127270817615867)"
       ]
      },
      {
       "output_type": "stream",
       "stream": "stdout",
       "text": [
        "\n",
        "(0.59391762777280044, 0.044118324015209348)\n",
        "(0.59364157787450056, 0.044109607460883778)"
       ]
      },
      {
       "output_type": "stream",
       "stream": "stdout",
       "text": [
        "\n",
        "(0.59336636937885745, 0.044101086080399345)\n",
        "(0.59309187143430742, 0.044092740499697504)"
       ]
      },
      {
       "output_type": "stream",
       "stream": "stdout",
       "text": [
        "\n",
        "(0.59281800574131149, 0.044084561975057231)\n",
        "(0.5925447561277728, 0.044076548245632022)"
       ]
      },
      {
       "output_type": "stream",
       "stream": "stdout",
       "text": [
        "\n",
        "(0.59227216476563005, 0.044068700167027214)\n",
        "(0.5920003163054085, 0.044061018376779074)"
       ]
      },
      {
       "output_type": "stream",
       "stream": "stdout",
       "text": [
        "\n",
        "(0.59172931256932915, 0.044053500130126363)\n",
        "(0.59145923997453964, 0.044046137365067357)"
       ]
      },
      {
       "output_type": "stream",
       "stream": "stdout",
       "text": [
        "\n",
        "(0.59119013109881469, 0.044038917775266452)\n",
        "(0.59092193818243899, 0.044031830245794414)"
       ]
      },
      {
       "output_type": "stream",
       "stream": "stdout",
       "text": [
        "\n",
        "(0.59065456639109393, 0.044024871045290015)\n",
        "(0.59038796446558872, 0.044018041930853673)"
       ]
      },
      {
       "output_type": "stream",
       "stream": "stdout",
       "text": [
        "\n",
        "(0.59012216960081965, 0.044011340651005523)\n",
        "(0.58985727237722785, 0.044004755715072869)"
       ]
      },
      {
       "output_type": "stream",
       "stream": "stdout",
       "text": [
        "\n",
        "(0.58959336591960898, 0.043998268912750015)\n",
        "(0.58933051560090743, 0.043991859497548087)"
       ]
      },
      {
       "output_type": "stream",
       "stream": "stdout",
       "text": [
        "\n",
        "(0.58906874891716188, 0.043985506344390794)\n",
        "(0.58880805928526014, 0.043979188587844241)"
       ]
      },
      {
       "output_type": "stream",
       "stream": "stdout",
       "text": [
        "\n",
        "(0.58854841597581931, 0.043972885915234849)\n",
        "(0.58828977318094067, 0.043966578877055587)"
       ]
      },
      {
       "output_type": "stream",
       "stream": "stdout",
       "text": [
        "\n",
        "(0.58803207604636665, 0.043960249088641233)\n",
        "(0.58777526501687039, 0.04395387910355962)"
       ]
      },
      {
       "output_type": "stream",
       "stream": "stdout",
       "text": [
        "\n",
        "(0.58751927991871944, 0.043947451827136157)\n",
        "(0.58726406357306327, 0.04394094958012066)"
       ]
      },
      {
       "output_type": "stream",
       "stream": "stdout",
       "text": [
        "\n",
        "(0.58700956354862321, 0.043934353160654978)\n",
        "(0.58675573104733802, 0.043927641239802952)"
       ]
      },
      {
       "output_type": "stream",
       "stream": "stdout",
       "text": [
        "\n",
        "(0.58650251743826953, 0.043920790180028493)\n",
        "(0.58624987030288633, 0.043913774165743574)"
       ]
      },
      {
       "output_type": "stream",
       "stream": "stdout",
       "text": [
        "\n",
        "(0.58599773132605948, 0.043906565544978036)\n",
        "(0.58574603819168958, 0.043899135402035487)"
       ]
      },
      {
       "output_type": "stream",
       "stream": "stdout",
       "text": [
        "\n",
        "(0.58549473199819546, 0.043891454425210905)\n",
        "(0.58524377008693029, 0.04388349399376041)"
       ]
      },
      {
       "output_type": "stream",
       "stream": "stdout",
       "text": [
        "\n",
        "(0.5849931410002176, 0.043875227105790462)\n",
        "(0.58474287428208582, 0.043866628474214582)"
       ]
      },
      {
       "output_type": "stream",
       "stream": "stdout",
       "text": [
        "\n",
        "(0.58449303579684508, 0.043857673119271127)\n",
        "(0.58424370253798374, 0.043848333269533572)"
       ]
      },
      {
       "output_type": "stream",
       "stream": "stdout",
       "text": [
        "\n",
        "(0.58399491982547469, 0.043838574126216882)\n",
        "(0.58374665353366895, 0.043828349469068592)"
       ]
      },
      {
       "output_type": "stream",
       "stream": "stdout",
       "text": [
        "\n",
        "(0.58349875395830608, 0.043817597843739661)\n",
        "(0.5832509437694281, 0.04380623952375954)"
       ]
      },
      {
       "output_type": "stream",
       "stream": "stdout",
       "text": [
        "\n",
        "(0.58300283429877975, 0.043794174242370552)\n",
        "(0.58275396886181652, 0.04378128006961278)"
       ]
      },
      {
       "output_type": "stream",
       "stream": "stdout",
       "text": [
        "\n",
        "(0.58250389211201459, 0.043767414504647072)\n",
        "(0.58225224697611999, 0.043752419506056052)"
       ]
      },
      {
       "output_type": "stream",
       "stream": "stdout",
       "text": [
        "\n",
        "(0.58199889687755479, 0.043736132398379528)\n",
        "(0.58174405332145596, 0.043718403785794439)"
       ]
      },
      {
       "output_type": "stream",
       "stream": "stdout",
       "text": [
        "\n",
        "(0.58148835957924161, 0.043699121213718266)\n",
        "(0.58123285192592822, 0.043678233313467277)"
       ]
      },
      {
       "output_type": "stream",
       "stream": "stdout",
       "text": [
        "\n",
        "(0.58097872429659769, 0.043655765487405587)\n",
        "(0.58072694535223512, 0.043631819852201353)"
       ]
      },
      {
       "output_type": "stream",
       "stream": "stdout",
       "text": [
        "\n",
        "(0.58047793961546867, 0.043606558753311646)\n",
        "(0.58023148422828508, 0.04358017436209756)"
       ]
      },
      {
       "output_type": "stream",
       "stream": "stdout",
       "text": [
        "\n",
        "(0.57998678300539863, 0.043552851115312402)\n",
        "(0.57974262478833027, 0.043524746889505528)"
       ]
      },
      {
       "output_type": "stream",
       "stream": "stdout",
       "text": [
        "\n",
        "(0.57949771135618366, 0.043496004653893978)\n",
        "(0.57925105630923202, 0.043466726606625199)"
       ]
      },
      {
       "output_type": "stream",
       "stream": "stdout",
       "text": [
        "\n",
        "(0.57900189889108256, 0.043436926878206016)\n",
        "(0.57874924390806615, 0.043406539091091351)"
       ]
      },
      {
       "output_type": "stream",
       "stream": "stdout",
       "text": [
        "\n",
        "(0.57849163696603967, 0.043375484043434553)\n",
        "(0.57822918657864919, 0.043342627834372462)"
       ]
      },
      {
       "output_type": "stream",
       "stream": "stdout",
       "text": [
        "\n",
        "(0.5779293845908795, 0.043308470981226595)\n",
        "(0.57762019046208202, 0.043275657405580828)"
       ]
      },
      {
       "output_type": "stream",
       "stream": "stdout",
       "text": [
        "\n",
        "(0.57729926634280293, 0.043244363351546751)\n",
        "(0.57696342236146148, 0.043214643258245339)"
       ]
      },
      {
       "output_type": "stream",
       "stream": "stdout",
       "text": [
        "\n",
        "(0.57661196003588777, 0.043186432949342726)\n",
        "(0.57624605593393363, 0.043159664508569118)"
       ]
      },
      {
       "output_type": "stream",
       "stream": "stdout",
       "text": [
        "\n",
        "(0.57586852228528773, 0.043134403312252108)\n",
        "(0.57548299756708965, 0.043110723598482052)"
       ]
      },
      {
       "output_type": "stream",
       "stream": "stdout",
       "text": [
        "\n",
        "(0.57509280284955822, 0.043088582325802184)\n",
        "(0.57470046832506405, 0.043067874724943486)"
       ]
      },
      {
       "output_type": "stream",
       "stream": "stdout",
       "text": [
        "\n",
        "(0.57430777376461428, 0.043048481009679347)\n",
        "(0.57391548444496887, 0.043030245744764009)"
       ]
      },
      {
       "output_type": "stream",
       "stream": "stdout",
       "text": [
        "\n",
        "(0.57352139883476394, 0.043012864775026909)\n",
        "(0.57312774239105402, 0.04299620156584083)"
       ]
      },
      {
       "output_type": "stream",
       "stream": "stdout",
       "text": [
        "\n",
        "(0.57274005695381547, 0.042980361728370088)\n",
        "(0.57235755492088014, 0.042965256679737399)"
       ]
      },
      {
       "output_type": "stream",
       "stream": "stdout",
       "text": [
        "\n",
        "(0.57197883227231505, 0.042950748126504928)\n",
        "(0.57160281317695161, 0.042936692947943146)"
       ]
      },
      {
       "output_type": "stream",
       "stream": "stdout",
       "text": [
        "\n",
        "(0.57122856848351, 0.042922943543098502)\n",
        "(0.57085529548983394, 0.042909356558959479)"
       ]
      },
      {
       "output_type": "stream",
       "stream": "stdout",
       "text": [
        "\n",
        "(0.57048260730533329, 0.042895833316940205)\n",
        "(0.57011100675629411, 0.042882381936278885)"
       ]
      },
      {
       "output_type": "stream",
       "stream": "stdout",
       "text": [
        "\n",
        "(0.56974196841073876, 0.042869115391154608)\n",
        "(0.56937716287031193, 0.042856141820316621)"
       ]
      },
      {
       "output_type": "stream",
       "stream": "stdout",
       "text": [
        "\n",
        "(0.56901757873254954, 0.042843472882037333)\n",
        "(0.56866342840965167, 0.042831038707795088)"
       ]
      },
      {
       "output_type": "stream",
       "stream": "stdout",
       "text": [
        "\n",
        "(0.56831466386955709, 0.042818762916388621)\n",
        "(0.5679712246930263, 0.042806604584167421)"
       ]
      },
      {
       "output_type": "stream",
       "stream": "stdout",
       "text": [
        "\n",
        "(0.56763319616241348, 0.042794548019955872)\n",
        "(0.56730118574104094, 0.042782605826059)"
       ]
      },
      {
       "output_type": "stream",
       "stream": "stdout",
       "text": [
        "\n",
        "(0.5669761537927952, 0.04277082784298096)\n",
        "(0.56665854791620862, 0.042759265844519612)"
       ]
      },
      {
       "output_type": "stream",
       "stream": "stdout",
       "text": [
        "\n",
        "(0.56634777650213453, 0.042747899246138713)\n",
        "(0.56604158957527151, 0.042736540533168881)"
       ]
      },
      {
       "output_type": "stream",
       "stream": "stdout",
       "text": [
        "\n",
        "(0.56573579413392516, 0.042725038785989176)\n",
        "(0.56543045891176036, 0.042713692542377571)"
       ]
      },
      {
       "output_type": "stream",
       "stream": "stdout",
       "text": [
        "\n",
        "(0.56512945695214145, 0.042702805521767508)\n",
        "(0.56483450616485475, 0.042692433931716504)"
       ]
      },
      {
       "output_type": "stream",
       "stream": "stdout",
       "text": [
        "\n",
        "(0.56454535390338612, 0.042682523002141391)\n",
        "(0.56426100962950065, 0.042672999870156568)"
       ]
      },
      {
       "output_type": "stream",
       "stream": "stdout",
       "text": [
        "\n",
        "(0.5639803803064557, 0.042663797187254403)\n",
        "(0.56370244321502039, 0.042654855191721151)"
       ]
      },
      {
       "output_type": "stream",
       "stream": "stdout",
       "text": [
        "\n",
        "(0.56342621734356646, 0.042646119881306607)\n",
        "(0.56315068031929161, 0.042637540309788301)"
       ]
      },
      {
       "output_type": "stream",
       "stream": "stdout",
       "text": [
        "\n",
        "(0.5628746788206741, 0.042629065063632655)\n",
        "(0.56259685337971332, 0.042620638391142732)"
       ]
      },
      {
       "output_type": "stream",
       "stream": "stdout",
       "text": [
        "\n",
        "(0.56231562846824568, 0.042612199445088386)\n",
        "(0.56202940271687662, 0.042603694268799584)"
       ]
      },
      {
       "output_type": "stream",
       "stream": "stdout",
       "text": [
        "\n",
        "(0.5617371114949874, 0.042595107384557171)\n",
        "(0.56143896159077744, 0.0425864869270327)"
       ]
      },
      {
       "output_type": "stream",
       "stream": "stdout",
       "text": [
        "\n",
        "(0.56113660490525241, 0.042577925809619582)\n",
        "(0.56083246087532479, 0.042569512806670429)"
       ]
      },
      {
       "output_type": "stream",
       "stream": "stdout",
       "text": [
        "\n",
        "(0.5605287823648335, 0.042561294738434362)\n",
        "(0.56022712714448297, 0.042553268022828425)"
       ]
      },
      {
       "output_type": "stream",
       "stream": "stdout",
       "text": [
        "\n",
        "(0.55992825404060909, 0.042545346341322683)\n",
        "(0.55963183308884246, 0.042537364451367743)"
       ]
      },
      {
       "output_type": "stream",
       "stream": "stdout",
       "text": [
        "\n",
        "(0.55933871187720963, 0.042529469142383251)\n",
        "(0.55904850956959606, 0.042521579077045714)"
       ]
      },
      {
       "output_type": "stream",
       "stream": "stdout",
       "text": [
        "\n",
        "(0.558760781499406, 0.042513589233122817)\n",
        "(0.55847496111931105, 0.042505409368051479)"
       ]
      },
      {
       "output_type": "stream",
       "stream": "stdout",
       "text": [
        "\n",
        "(0.55819040531083486, 0.042496962171134516)\n",
        "(0.55790652563875465, 0.04248818023085156)"
       ]
      },
      {
       "output_type": "stream",
       "stream": "stdout",
       "text": [
        "\n",
        "(0.5576229531435245, 0.042479007226083242)\n",
        "(0.55733944439833816, 0.042469397322112745)"
       ]
      },
      {
       "output_type": "stream",
       "stream": "stdout",
       "text": [
        "\n",
        "(0.55705524940515583, 0.042459279329570283)\n",
        "(0.55676886042180274, 0.042448534201310062)"
       ]
      },
      {
       "output_type": "stream",
       "stream": "stdout",
       "text": [
        "\n",
        "(0.55647960924828099, 0.04243722318601794)\n",
        "(0.55618822049491257, 0.042425764915464965)"
       ]
      },
      {
       "output_type": "stream",
       "stream": "stdout",
       "text": [
        "\n",
        "(0.55589505910064096, 0.042414567464564019)\n",
        "(0.55560019924059345, 0.042403772851586252)"
       ]
      },
      {
       "output_type": "stream",
       "stream": "stdout",
       "text": [
        "\n",
        "(0.55530402227566189, 0.042393248179328165)\n",
        "(0.5550070809287726, 0.042382544488882221)"
       ]
      },
      {
       "output_type": "stream",
       "stream": "stdout",
       "text": [
        "\n",
        "(0.55471008522490706, 0.042371022144045846)\n",
        "(0.55441558560863469, 0.042358105797866599)"
       ]
      },
      {
       "output_type": "stream",
       "stream": "stdout",
       "text": [
        "\n",
        "(0.55412560077424966, 0.042343471400278956)\n",
        "(0.55383741912399709, 0.042326866532006222)"
       ]
      },
      {
       "output_type": "stream",
       "stream": "stdout",
       "text": [
        "\n",
        "(0.55354944140168838, 0.04230867427329349)\n",
        "(0.55326186657108511, 0.042293310959644337)"
       ]
      },
      {
       "output_type": "stream",
       "stream": "stdout",
       "text": [
        "\n",
        "(0.55297553872851457, 0.042281097750761616)\n",
        "(0.5526931367228971, 0.042270847247404049)"
       ]
      },
      {
       "output_type": "stream",
       "stream": "stdout",
       "text": [
        "\n",
        "(0.55241534801767889, 0.042261802256815535)\n",
        "(0.55214196278678052, 0.042253539494050467)"
       ]
      },
      {
       "output_type": "stream",
       "stream": "stdout",
       "text": [
        "\n",
        "(0.5518723569888212, 0.042245774910462552)\n",
        "(0.55160534574466868, 0.04223824779234054)"
       ]
      },
      {
       "output_type": "stream",
       "stream": "stdout",
       "text": [
        "\n",
        "(0.55133891902396648, 0.042230695153191299)\n",
        "(0.5510709817881525, 0.042222994375301456)"
       ]
      },
      {
       "output_type": "stream",
       "stream": "stdout",
       "text": [
        "\n",
        "(0.55080154072984444, 0.042215337077685065)\n",
        "(0.55053338838634835, 0.042208054068591468)"
       ]
      },
      {
       "output_type": "stream",
       "stream": "stdout",
       "text": [
        "\n",
        "(0.55026974175069632, 0.042201298886797523)\n",
        "(0.5500122200664177, 0.042195027606514543)"
       ]
      },
      {
       "output_type": "stream",
       "stream": "stdout",
       "text": [
        "\n",
        "(0.5497609423415738, 0.042189129946482891)\n",
        "(0.5495153448956841, 0.042183502245569951)"
       ]
      },
      {
       "output_type": "stream",
       "stream": "stdout",
       "text": [
        "\n",
        "(0.54927476123941332, 0.042178061810090525)\n",
        "(0.54903868238047648, 0.042172742958275417)"
       ]
      },
      {
       "output_type": "stream",
       "stream": "stdout",
       "text": [
        "\n",
        "(0.54880681129111242, 0.042167493177749163)\n",
        "(0.54857897192524074, 0.04216227453844245)"
       ]
      },
      {
       "output_type": "stream",
       "stream": "stdout",
       "text": [
        "\n",
        "(0.54835490324737535, 0.042157069508529731)\n",
        "(0.54813403979255348, 0.042151885140781047)"
       ]
      },
      {
       "output_type": "stream",
       "stream": "stdout",
       "text": [
        "\n",
        "(0.54791546932006541, 0.042146748184644721)\n",
        "(0.54769816271668847, 0.042141691292044994)"
       ]
      },
      {
       "output_type": "stream",
       "stream": "stdout",
       "text": [
        "\n",
        "(0.54748131088056806, 0.042136739642928592)\n",
        "(0.54726451219943673, 0.042131905430133003)"
       ]
      },
      {
       "output_type": "stream",
       "stream": "stdout",
       "text": [
        "\n",
        "(0.54704773560204933, 0.042127188982070574)\n",
        "(0.5468311659373587, 0.042122581648692509)"
       ]
      },
      {
       "output_type": "stream",
       "stream": "stdout",
       "text": [
        "\n",
        "(0.5466150547926264, 0.042118067353300939)\n",
        "(0.54639963022511939, 0.042113621306624431)"
       ]
      },
      {
       "output_type": "stream",
       "stream": "stdout",
       "text": [
        "\n",
        "(0.54618506655001442, 0.042109202971696347)\n",
        "(0.5459715103983972, 0.042104735259352197)"
       ]
      },
      {
       "output_type": "stream",
       "stream": "stdout",
       "text": [
        "\n",
        "(0.54575919595489031, 0.042100068280866855)\n",
        "(0.54554857344724328, 0.042095044419964013)"
       ]
      },
      {
       "output_type": "stream",
       "stream": "stdout",
       "text": [
        "\n",
        "(0.54533964406964985, 0.042089818300740281)\n"
       ]
      }
     ],
     "prompt_number": 20
    },
    {
     "cell_type": "code",
     "collapsed": false,
     "input": [
      "imshow(sample.real)"
     ],
     "language": "python",
     "metadata": {},
     "outputs": [
      {
       "metadata": {},
       "output_type": "pyout",
       "prompt_number": 21,
       "text": [
        "<matplotlib.image.AxesImage at 0x7f0c4205cdd0>"
       ]
      },
      {
       "metadata": {},
       "output_type": "display_data",
       "png": "[encoded data removed]",
       "text": [
        "<matplotlib.figure.Figure at 0x7f0c420c3910>"
       ]
      }
     ],
     "prompt_number": 21
    },
    {
     "cell_type": "code",
     "collapsed": false,
     "input": [
      "gs = GridSpec(1,4)\n",
      "\n",
      "ax = subplot(gs[0,0])\n",
      "ax.imshow(F_array)\n",
      "ax.set_title('F')\n",
      "\n",
      "ax = subplot(gs[0,1])\n",
      "ax.imshow(B_array)\n",
      "ax.set_title('L{F}')\n",
      "\n",
      "ax = subplot(gs[0,2])\n",
      "ax.imshow(np.log(I))\n",
      "ax.set_title('Diffraction pattern')\n",
      "\n",
      "ax = subplot(gs[0,3])\n",
      "ax.imshow(sample.real)\n",
      "ax.set_title('retrieved sample')\n",
      "\n",
      "fig = gcf()\n",
      "fig.set_size_inches(20,5)"
     ],
     "language": "python",
     "metadata": {},
     "outputs": [
      {
       "output_type": "stream",
       "stream": "stderr",
       "text": [
        "-c:12: RuntimeWarning: divide by zero encountered in log\n"
       ]
      },
      {
       "metadata": {},
       "output_type": "display_data",
       "png": "[encoded data removed]",
       "text": [
        "<matplotlib.figure.Figure at 0x7f0c42096a90>"
       ]
      }
     ],
     "prompt_number": 22
    },
    {
     "cell_type": "code",
     "collapsed": false,
     "input": [],
     "language": "python",
     "metadata": {},
     "outputs": [],
     "prompt_number": 22
    }
   ],
   "metadata": {}
  }
 ]
}