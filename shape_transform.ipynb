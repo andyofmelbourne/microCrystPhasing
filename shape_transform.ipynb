{
 "metadata": {
  "name": "",
  "signature": "sha256:1246ea6e44fa9308154f8772f97a5d2448cb3a51ef9784bd2e07cd5cd3b2e36d"
 },
 "nbformat": 3,
 "nbformat_minor": 0,
 "worksheets": [
  {
   "cells": [
    {
     "cell_type": "code",
     "collapsed": false,
     "input": [
      "import numpy as np\n",
      "import bagOfns as bg\n",
      "import partial_coherence as pc\n",
      "%pylab inline"
     ],
     "language": "python",
     "metadata": {},
     "outputs": [
      {
       "output_type": "stream",
       "stream": "stdout",
       "text": [
        "Populating the interactive namespace from numpy and matplotlib\n"
       ]
      }
     ],
     "prompt_number": 1
    },
    {
     "cell_type": "markdown",
     "metadata": {},
     "source": [
      "$\n",
      "\\begin{align}\n",
      "I(q) = \\sum_c w_c \\left| \\sum_p \\rho(R_p q) e^{i t^c_p \\cdot q} \\right|^2\n",
      "\\end{align}\n",
      "$\n",
      "\n",
      "We want to get $\\rho(r)$ from $I(q)$\n",
      "\n",
      "$\n",
      "\\begin{align}\n",
      "I(q) &= \\sum_c w_c \\left| \\sum_p T^c_p \\cdot R_p \\cdot \\rho(q) \\right|^2 \n",
      "     = \\sum_c w_c \\left| \\sum_p \\rho^c_p(q) \\right|^2 \n",
      "     = \\sum_c w_c \\left| \\rho^c(q) \\right|^2 \n",
      "\\end{align}\n",
      "$"
     ]
    },
    {
     "cell_type": "heading",
     "level": 1,
     "metadata": {},
     "source": [
      "Make a sample "
     ]
    },
    {
     "cell_type": "code",
     "collapsed": false,
     "input": [
      "F = bg.binary_in('example/F_8bit', dt=np.int8, dimFnam=True).astype(np.float64)\n",
      "# trim F to save memory\n",
      "F = F[30:190, 90:190]\n",
      "# down sample\n",
      "F = F[0:-1:4, 0:-1:4]\n",
      "imshow(F)"
     ],
     "language": "python",
     "metadata": {},
     "outputs": [
      {
       "metadata": {},
       "output_type": "pyout",
       "prompt_number": 2,
       "text": [
        "<matplotlib.image.AxesImage at 0xa1dde8c>"
       ]
      },
      {
       "metadata": {},
       "output_type": "display_data",
       "png": "[encoded data removed]",
       "text": [
        "<matplotlib.figure.Figure at 0xa18558c>"
       ]
      }
     ],
     "prompt_number": 2
    },
    {
     "cell_type": "heading",
     "level": 2,
     "metadata": {},
     "source": [
      "Make the rotation and translation opperators"
     ]
    },
    {
     "cell_type": "code",
     "collapsed": false,
     "input": [
      "shape          = (128, 128)\n",
      "sample_support = np.ones_like(F, dtype=np.bool)\n",
      "sample_support = bg.zero_pad(sample_support, shape)\n",
      "F              = bg.zero_pad(F, shape)"
     ],
     "language": "python",
     "metadata": {},
     "outputs": [],
     "prompt_number": 3
    },
    {
     "cell_type": "heading",
     "level": 3,
     "metadata": {},
     "source": [
      "We should work with 1d vectors for compatability with linear routines..."
     ]
    },
    {
     "cell_type": "code",
     "collapsed": false,
     "input": [
      "# Let's invent some rotations and translations\n",
      "# Choosing only multiples of 90 deg to avoid aliasing issues\n",
      "R0 = lambda x: x\n",
      "R1 = lambda x: np.rot90(x, k=1)\n",
      "R2 = lambda x: np.rot90(x, k=2)\n",
      "R3 = lambda x: np.rot90(x, k=3)\n",
      "R4 = lambda x: np.fliplr(x)\n",
      "R5 = lambda x: np.flipud(x)\n",
      "\n",
      "T0 = lambda x: x\n",
      "T1 = lambda x: np.roll(x, 10, 0)\n",
      "T2 = lambda x: np.roll(x, 10, 1)\n",
      "T3 = lambda x: np.roll(x, -10, 1)\n",
      "\n",
      "# L is the linear mapping that represents (R0 . x + T0) + (R1 . x + T1) + ... \n",
      "L = lambda x: T0(R0(x)) + T0(R1(x)) + T0(R2(x)) + T0(R3(x)) + T0(R4(x)) + T0(R5(x)) \\\n",
      "             +T1(R0(x)) + T2(R1(x)) + T3(R2(x)) + T1(R3(x)) + T2(R4(x)) + T3(R5(x)) \n",
      "\n",
      "# let's have a look\n",
      "imshow(L(F))"
     ],
     "language": "python",
     "metadata": {},
     "outputs": [
      {
       "metadata": {},
       "output_type": "pyout",
       "prompt_number": 4,
       "text": [
        "<matplotlib.image.AxesImage at 0xa35266c>"
       ]
      },
      {
       "metadata": {},
       "output_type": "display_data",
       "png": "[encoded data removed]",
       "text": [
        "<matplotlib.figure.Figure at 0xa3297ac>"
       ]
      }
     ],
     "prompt_number": 4
    },
    {
     "cell_type": "heading",
     "level": 1,
     "metadata": {},
     "source": [
      "Phase retrieval with one coherent mode"
     ]
    },
    {
     "cell_type": "code",
     "collapsed": false,
     "input": [
      "L_inv = pc.make_inverse(sample_support, L)"
     ],
     "language": "python",
     "metadata": {},
     "outputs": [
      {
       "output_type": "stream",
       "stream": "stdout",
       "text": [
        "making the b_mask...\n",
        "\n",
        "Mapping the problem to 2-D and 1-D real vectors...\n",
        "100- :-"
       ]
      },
      {
       "output_type": "stream",
       "stream": "stdout",
       "text": [
        "-"
       ]
      },
      {
       "output_type": "stream",
       "stream": "stdout",
       "text": [
        "-"
       ]
      },
      {
       "output_type": "stream",
       "stream": "stdout",
       "text": [
        "-"
       ]
      },
      {
       "output_type": "stream",
       "stream": "stdout",
       "text": [
        "-"
       ]
      },
      {
       "output_type": "stream",
       "stream": "stdout",
       "text": [
        "-"
       ]
      },
      {
       "output_type": "stream",
       "stream": "stdout",
       "text": [
        "-"
       ]
      },
      {
       "output_type": "stream",
       "stream": "stdout",
       "text": [
        "-"
       ]
      },
      {
       "output_type": "stream",
       "stream": "stdout",
       "text": [
        "-"
       ]
      },
      {
       "output_type": "stream",
       "stream": "stdout",
       "text": [
        "-"
       ]
      },
      {
       "output_type": "stream",
       "stream": "stdout",
       "text": [
        "-"
       ]
      },
      {
       "output_type": "stream",
       "stream": "stdout",
       "text": [
        "-"
       ]
      },
      {
       "output_type": "stream",
       "stream": "stdout",
       "text": [
        "-"
       ]
      },
      {
       "output_type": "stream",
       "stream": "stdout",
       "text": [
        "-"
       ]
      },
      {
       "output_type": "stream",
       "stream": "stdout",
       "text": [
        "-"
       ]
      },
      {
       "output_type": "stream",
       "stream": "stdout",
       "text": [
        "-"
       ]
      },
      {
       "output_type": "stream",
       "stream": "stdout",
       "text": [
        "-"
       ]
      },
      {
       "output_type": "stream",
       "stream": "stdout",
       "text": [
        "-"
       ]
      },
      {
       "output_type": "stream",
       "stream": "stdout",
       "text": [
        "-"
       ]
      },
      {
       "output_type": "stream",
       "stream": "stdout",
       "text": [
        "-"
       ]
      },
      {
       "output_type": "stream",
       "stream": "stdout",
       "text": [
        "-"
       ]
      },
      {
       "output_type": "stream",
       "stream": "stdout",
       "text": [
        "-"
       ]
      },
      {
       "output_type": "stream",
       "stream": "stdout",
       "text": [
        "-"
       ]
      },
      {
       "output_type": "stream",
       "stream": "stdout",
       "text": [
        "-"
       ]
      },
      {
       "output_type": "stream",
       "stream": "stdout",
       "text": [
        "-"
       ]
      },
      {
       "output_type": "stream",
       "stream": "stdout",
       "text": [
        "-"
       ]
      },
      {
       "output_type": "stream",
       "stream": "stdout",
       "text": [
        "-"
       ]
      },
      {
       "output_type": "stream",
       "stream": "stdout",
       "text": [
        "-"
       ]
      },
      {
       "output_type": "stream",
       "stream": "stdout",
       "text": [
        "-"
       ]
      },
      {
       "output_type": "stream",
       "stream": "stdout",
       "text": [
        "-"
       ]
      },
      {
       "output_type": "stream",
       "stream": "stdout",
       "text": [
        "-"
       ]
      },
      {
       "output_type": "stream",
       "stream": "stdout",
       "text": [
        "-"
       ]
      },
      {
       "output_type": "stream",
       "stream": "stdout",
       "text": [
        "-"
       ]
      },
      {
       "output_type": "stream",
       "stream": "stdout",
       "text": [
        "-"
       ]
      },
      {
       "output_type": "stream",
       "stream": "stdout",
       "text": [
        "-"
       ]
      },
      {
       "output_type": "stream",
       "stream": "stdout",
       "text": [
        "-"
       ]
      },
      {
       "output_type": "stream",
       "stream": "stdout",
       "text": [
        "-"
       ]
      },
      {
       "output_type": "stream",
       "stream": "stdout",
       "text": [
        "-"
       ]
      },
      {
       "output_type": "stream",
       "stream": "stdout",
       "text": [
        "-"
       ]
      },
      {
       "output_type": "stream",
       "stream": "stdout",
       "text": [
        "-"
       ]
      },
      {
       "output_type": "stream",
       "stream": "stdout",
       "text": [
        "-"
       ]
      },
      {
       "output_type": "stream",
       "stream": "stdout",
       "text": [
        "-"
       ]
      },
      {
       "output_type": "stream",
       "stream": "stdout",
       "text": [
        "-"
       ]
      },
      {
       "output_type": "stream",
       "stream": "stdout",
       "text": [
        "-"
       ]
      },
      {
       "output_type": "stream",
       "stream": "stdout",
       "text": [
        "-"
       ]
      },
      {
       "output_type": "stream",
       "stream": "stdout",
       "text": [
        "-"
       ]
      },
      {
       "output_type": "stream",
       "stream": "stdout",
       "text": [
        "-"
       ]
      },
      {
       "output_type": "stream",
       "stream": "stdout",
       "text": [
        "-"
       ]
      },
      {
       "output_type": "stream",
       "stream": "stdout",
       "text": [
        "-"
       ]
      },
      {
       "output_type": "stream",
       "stream": "stdout",
       "text": [
        "-"
       ]
      },
      {
       "output_type": "stream",
       "stream": "stdout",
       "text": [
        "-"
       ]
      },
      {
       "output_type": "stream",
       "stream": "stdout",
       "text": [
        "-"
       ]
      },
      {
       "output_type": "stream",
       "stream": "stdout",
       "text": [
        "-"
       ]
      },
      {
       "output_type": "stream",
       "stream": "stdout",
       "text": [
        "-"
       ]
      },
      {
       "output_type": "stream",
       "stream": "stdout",
       "text": [
        "-"
       ]
      },
      {
       "output_type": "stream",
       "stream": "stdout",
       "text": [
        "-"
       ]
      },
      {
       "output_type": "stream",
       "stream": "stdout",
       "text": [
        "-"
       ]
      },
      {
       "output_type": "stream",
       "stream": "stdout",
       "text": [
        "-"
       ]
      },
      {
       "output_type": "stream",
       "stream": "stdout",
       "text": [
        "-"
       ]
      },
      {
       "output_type": "stream",
       "stream": "stdout",
       "text": [
        "-"
       ]
      },
      {
       "output_type": "stream",
       "stream": "stdout",
       "text": [
        "-"
       ]
      },
      {
       "output_type": "stream",
       "stream": "stdout",
       "text": [
        "-"
       ]
      },
      {
       "output_type": "stream",
       "stream": "stdout",
       "text": [
        "-"
       ]
      },
      {
       "output_type": "stream",
       "stream": "stdout",
       "text": [
        "-"
       ]
      },
      {
       "output_type": "stream",
       "stream": "stdout",
       "text": [
        "-"
       ]
      },
      {
       "output_type": "stream",
       "stream": "stdout",
       "text": [
        "-"
       ]
      },
      {
       "output_type": "stream",
       "stream": "stdout",
       "text": [
        "-"
       ]
      },
      {
       "output_type": "stream",
       "stream": "stdout",
       "text": [
        "-"
       ]
      },
      {
       "output_type": "stream",
       "stream": "stdout",
       "text": [
        "-"
       ]
      },
      {
       "output_type": "stream",
       "stream": "stdout",
       "text": [
        "-"
       ]
      },
      {
       "output_type": "stream",
       "stream": "stdout",
       "text": [
        "-"
       ]
      },
      {
       "output_type": "stream",
       "stream": "stdout",
       "text": [
        "-"
       ]
      },
      {
       "output_type": "stream",
       "stream": "stdout",
       "text": [
        "-"
       ]
      },
      {
       "output_type": "stream",
       "stream": "stdout",
       "text": [
        "-"
       ]
      },
      {
       "output_type": "stream",
       "stream": "stdout",
       "text": [
        "-"
       ]
      },
      {
       "output_type": "stream",
       "stream": "stdout",
       "text": [
        "-"
       ]
      },
      {
       "output_type": "stream",
       "stream": "stdout",
       "text": [
        "-"
       ]
      },
      {
       "output_type": "stream",
       "stream": "stdout",
       "text": [
        "-"
       ]
      },
      {
       "output_type": "stream",
       "stream": "stdout",
       "text": [
        "-"
       ]
      },
      {
       "output_type": "stream",
       "stream": "stdout",
       "text": [
        "-"
       ]
      },
      {
       "output_type": "stream",
       "stream": "stdout",
       "text": [
        "-"
       ]
      },
      {
       "output_type": "stream",
       "stream": "stdout",
       "text": [
        "-"
       ]
      },
      {
       "output_type": "stream",
       "stream": "stdout",
       "text": [
        "-"
       ]
      },
      {
       "output_type": "stream",
       "stream": "stdout",
       "text": [
        "-"
       ]
      },
      {
       "output_type": "stream",
       "stream": "stdout",
       "text": [
        "-"
       ]
      },
      {
       "output_type": "stream",
       "stream": "stdout",
       "text": [
        "-"
       ]
      },
      {
       "output_type": "stream",
       "stream": "stdout",
       "text": [
        "-"
       ]
      },
      {
       "output_type": "stream",
       "stream": "stdout",
       "text": [
        "-"
       ]
      },
      {
       "output_type": "stream",
       "stream": "stdout",
       "text": [
        "-"
       ]
      },
      {
       "output_type": "stream",
       "stream": "stdout",
       "text": [
        "-"
       ]
      },
      {
       "output_type": "stream",
       "stream": "stdout",
       "text": [
        "-"
       ]
      },
      {
       "output_type": "stream",
       "stream": "stdout",
       "text": [
        "-"
       ]
      },
      {
       "output_type": "stream",
       "stream": "stdout",
       "text": [
        "-"
       ]
      },
      {
       "output_type": "stream",
       "stream": "stdout",
       "text": [
        "-"
       ]
      },
      {
       "output_type": "stream",
       "stream": "stdout",
       "text": [
        "-"
       ]
      },
      {
       "output_type": "stream",
       "stream": "stdout",
       "text": [
        "\n",
        "\n",
        "Performing singular value decomposition...\n",
        "\n",
        "|| I - A_inv . A || = "
       ]
      },
      {
       "output_type": "stream",
       "stream": "stdout",
       "text": [
        " 5.09180386261e-15\n"
       ]
      }
     ],
     "prompt_number": 5
    },
    {
     "cell_type": "code",
     "collapsed": false,
     "input": [
      "print np.allclose(L_inv(L(F)), F)"
     ],
     "language": "python",
     "metadata": {},
     "outputs": [
      {
       "output_type": "stream",
       "stream": "stdout",
       "text": [
        "True\n"
       ]
      }
     ],
     "prompt_number": 6
    },
    {
     "cell_type": "code",
     "collapsed": false,
     "input": [
      "I = np.abs(bg.fft2(L(F) + 0.0J))**2"
     ],
     "language": "python",
     "metadata": {},
     "outputs": [],
     "prompt_number": 7
    },
    {
     "cell_type": "code",
     "collapsed": false,
     "input": [
      "sample = np.random.random(F.shape) * sample_support + 0.0\n",
      "exit   = L(sample)\n",
      "sample_0 = sample.copy()\n",
      "\n",
      "def Pmod(exit, diffraction_pattern, alpha=1.0e-10):\n",
      "    # go to the detector\n",
      "    exit = bg.fft2(exit)\n",
      "    # apply the modulus constraint\n",
      "    exit = exit * np.sqrt(diffraction_pattern) / (np.abs(exit) + alpha)\n",
      "    # back to real-space\n",
      "    exit = bg.ifft2(exit)\n",
      "    return exit\n",
      "\n",
      "def Psup(exit, mapping, inv_mapping):\n",
      "    s        = inv_mapping(exit) # this implicitly applies the support constraint\n",
      "    exit_out = mapping(s)        # generates the new guess for the exit wave\n",
      "    return exit_out, s\n",
      "\n",
      "\n",
      "# ERA\n",
      "for i in range(1000):\n",
      "    exit = Pmod(exit, I)\n",
      "    exit, sample = Psup(exit, L, L_inv)\n",
      "    #\n",
      "    # calculate the fidelity\n",
      "    error = bg.l2norm(F + 0.0J, sample), bg.l2norm(np.sqrt(I), np.abs(bg.fft2(exit)))\n",
      "    print error"
     ],
     "language": "python",
     "metadata": {},
     "outputs": [
      {
       "output_type": "stream",
       "stream": "stdout",
       "text": [
        "(1.1514403777821167, 0.37038755126827394)\n",
        "(1.3732273326739333, 0.29286379211799496)\n",
        "(1.4895732868451494, 0.25529503075883436)\n",
        "(1.5204973637507493, 0.22148015818457276)"
       ]
      },
      {
       "output_type": "stream",
       "stream": "stdout",
       "text": [
        "\n",
        "(1.5063781170550858, 0.19613227745500514)\n",
        "(1.4895041669830678, 0.18273356329534968)\n",
        "(1.4683125952251082, 0.17370518204976751)"
       ]
      },
      {
       "output_type": "stream",
       "stream": "stdout",
       "text": [
        "\n",
        "(1.4440708079412854, 0.16610519697412682)\n",
        "(1.4272152043811104, 0.16112328700168588)\n",
        "(1.4082511030014571, 0.15400367921502597)"
       ]
      },
      {
       "output_type": "stream",
       "stream": "stdout",
       "text": [
        "\n",
        "(1.3892323718780271, 0.14768289611275207)\n",
        "(1.3712545859795369, 0.14192355089340419)\n",
        "(1.3558753456575532, 0.13766643706707057)"
       ]
      },
      {
       "output_type": "stream",
       "stream": "stdout",
       "text": [
        "\n",
        "(1.3414805312821227, 0.13329855018187148)\n",
        "(1.3327622670176147, 0.13064806973866894)\n",
        "(1.3252162101689844, 0.12889682553337528)"
       ]
      },
      {
       "output_type": "stream",
       "stream": "stdout",
       "text": [
        "\n",
        "(1.3193206249800045, 0.12765197647382845)\n",
        "(1.314907475493031, 0.12670805063251642)\n",
        "(1.311477430416836, 0.12594649324913657)"
       ]
      },
      {
       "output_type": "stream",
       "stream": "stdout",
       "text": [
        "\n",
        "(1.3086287751375745, 0.1252768729878006)\n",
        "(1.3055987614565243, 0.1245442914821433)\n",
        "(1.3021902539010008, 0.12379740121750836)"
       ]
      },
      {
       "output_type": "stream",
       "stream": "stdout",
       "text": [
        "\n",
        "(1.2984492608549483, 0.12321210557916834)\n",
        "(1.2945028134608632, 0.12274162102018916)\n",
        "(1.290320993224741, 0.12230888479875784)"
       ]
      },
      {
       "output_type": "stream",
       "stream": "stdout",
       "text": [
        "\n",
        "(1.2856019961688265, 0.121872304725582)\n",
        "(1.2808234770347802, 0.12147987097140495)\n",
        "(1.2769339337184649, 0.1211680465412926)"
       ]
      },
      {
       "output_type": "stream",
       "stream": "stdout",
       "text": [
        "\n",
        "(1.274085793514431, 0.12087221688716232)\n",
        "(1.2716127180836889, 0.12054206964223364)\n",
        "(1.2689677696298085, 0.12022808953329644)"
       ]
      },
      {
       "output_type": "stream",
       "stream": "stdout",
       "text": [
        "\n",
        "(1.2663817983515799, 0.11993554763732246)\n",
        "(1.2639128849904806, 0.11964836489621883)\n",
        "(1.2614915092285111, 0.11933281187894101)"
       ]
      },
      {
       "output_type": "stream",
       "stream": "stdout",
       "text": [
        "\n",
        "(1.2590154889543652, 0.11893569538618705)\n",
        "(1.2563822058985745, 0.11844521336629735)\n",
        "(1.2540012517367898, 0.11794326343576436)"
       ]
      },
      {
       "output_type": "stream",
       "stream": "stdout",
       "text": [
        "\n",
        "(1.2520129330060374, 0.11748312676275616)\n",
        "(1.250316395945213, 0.11710427979972429)\n",
        "(1.248884550116081, 0.11681361326481551)"
       ]
      },
      {
       "output_type": "stream",
       "stream": "stdout",
       "text": [
        "\n",
        "(1.2476880550157776, 0.116587456247466)\n",
        "(1.2466654138428046, 0.11639992510458556)\n",
        "(1.2457768580966657, 0.11623223773809264)"
       ]
      },
      {
       "output_type": "stream",
       "stream": "stdout",
       "text": [
        "\n",
        "(1.2450213171185516, 0.11607046008533747)\n",
        "(1.2444137380291949, 0.11590453029198887)\n",
        "(1.2439498993529843, 0.11572999596734138)"
       ]
      },
      {
       "output_type": "stream",
       "stream": "stdout",
       "text": [
        "\n",
        "(1.2436373348587251, 0.11554949179619171)\n",
        "(1.2436206781320998, 0.11536994412019441)\n",
        "(1.2439342108961462, 0.1151828551146185)"
       ]
      },
      {
       "output_type": "stream",
       "stream": "stdout",
       "text": [
        "\n",
        "(1.2445411663797863, 0.11498328997342883)\n",
        "(1.2453735168319591, 0.11478284249844789)\n",
        "(1.2463721095622127, 0.11459236037953489)"
       ]
      },
      {
       "output_type": "stream",
       "stream": "stdout",
       "text": [
        "\n",
        "(1.2475204992322662, 0.11441063167718955)\n",
        "(1.2488108651776126, 0.11422954360823713)\n",
        "(1.250217636017257, 0.11404302327825394)"
       ]
      },
      {
       "output_type": "stream",
       "stream": "stdout",
       "text": [
        "\n",
        "(1.2517052780702678, 0.11385185554327887)\n",
        "(1.2532505266767238, 0.11366290204161097)\n",
        "(1.2548641012125152, 0.1134803111456341)"
       ]
      },
      {
       "output_type": "stream",
       "stream": "stdout",
       "text": [
        "\n",
        "(1.2565917324305045, 0.11329678008368677)\n",
        "(1.2584290340473436, 0.113093659813394)\n",
        "(1.2601328005272054, 0.11287425878611264)"
       ]
      },
      {
       "output_type": "stream",
       "stream": "stdout",
       "text": [
        "\n",
        "(1.2615462282192711, 0.11268176073988714)\n",
        "(1.2628278144112099, 0.11252754711484186)\n",
        "(1.2641085707144335, 0.11239993937337228)"
       ]
      },
      {
       "output_type": "stream",
       "stream": "stdout",
       "text": [
        "\n",
        "(1.2654140975343484, 0.11228891229032814)\n",
        "(1.2667167746422634, 0.1121897204051505)\n",
        "(1.2679798990427804, 0.11209921564556301)"
       ]
      },
      {
       "output_type": "stream",
       "stream": "stdout",
       "text": [
        "\n",
        "(1.2691851249927391, 0.1120142841521773)\n",
        "(1.2703239581077026, 0.11193249317561905)\n",
        "(1.2713884572162544, 0.11185264547091876)"
       ]
      },
      {
       "output_type": "stream",
       "stream": "stdout",
       "text": [
        "\n",
        "(1.2723682369903311, 0.11177448332613502)\n",
        "(1.27325515597755, 0.11169854726815991)\n",
        "(1.2740401323650665, 0.11162631646292928)"
       ]
      },
      {
       "output_type": "stream",
       "stream": "stdout",
       "text": [
        "\n",
        "(1.2747216367951872, 0.11155888376292916)\n",
        "(1.2753119349546373, 0.11149574279428036)\n",
        "(1.2758262014777342, 0.11143453879238749)"
       ]
      },
      {
       "output_type": "stream",
       "stream": "stdout",
       "text": [
        "\n",
        "(1.2762758176802413, 0.11137292360159302)\n",
        "(1.2766849497770496, 0.11131053260136987)\n",
        "(1.2770764377610269, 0.11124644238123933)"
       ]
      },
      {
       "output_type": "stream",
       "stream": "stdout",
       "text": [
        "\n",
        "(1.2774572644911746, 0.11118090626719584)\n",
        "(1.27782273373787, 0.11111402556022711)\n",
        "(1.2781555351480385, 0.11104471778411419)"
       ]
      },
      {
       "output_type": "stream",
       "stream": "stdout",
       "text": [
        "\n",
        "(1.2784322424063983, 0.11096897658133871)\n",
        "(1.278707864876335, 0.11088601815502387)\n",
        "(1.2789832553699843, 0.11079895241668723)"
       ]
      },
      {
       "output_type": "stream",
       "stream": "stdout",
       "text": [
        "\n",
        "(1.2792200548288815, 0.11070608825250032)\n",
        "(1.2794042560647436, 0.11060364255795534)\n",
        "(1.2795268132124655, 0.11048806925486893)"
       ]
      },
      {
       "output_type": "stream",
       "stream": "stdout",
       "text": [
        "\n",
        "(1.2795776186243035, 0.11035341295244772)\n",
        "(1.2795560484638133, 0.11020012934932567)\n",
        "(1.279484549509702, 0.11003156956602735)"
       ]
      },
      {
       "output_type": "stream",
       "stream": "stdout",
       "text": [
        "\n",
        "(1.2793659446130989, 0.10984884103238149)\n",
        "(1.279186909258317, 0.10965574019658224)\n",
        "(1.2789498900537148, 0.1094578640704108)"
       ]
      },
      {
       "output_type": "stream",
       "stream": "stdout",
       "text": [
        "\n",
        "(1.2786667653641126, 0.10925965338900362)\n",
        "(1.2783590861704919, 0.10906524228944879)\n",
        "(1.2780436147502841, 0.10887544315913913)"
       ]
      },
      {
       "output_type": "stream",
       "stream": "stdout",
       "text": [
        "\n",
        "(1.2777212862249572, 0.10868919217626789)\n",
        "(1.277374018981557, 0.10850326901506274)\n",
        "(1.2769318650155947, 0.10831258036875811)"
       ]
      },
      {
       "output_type": "stream",
       "stream": "stdout",
       "text": [
        "\n",
        "(1.2763492035445698, 0.10811637706511086)\n",
        "(1.2757076284647073, 0.10791493658489529)\n",
        "(1.2750878081666002, 0.10769715320157469)"
       ]
      },
      {
       "output_type": "stream",
       "stream": "stdout",
       "text": [
        "\n",
        "(1.274607332962008, 0.10743507835264032)\n",
        "(1.274319199927308, 0.1071217137597639)\n",
        "(1.2740936542323238, 0.10677777578372495)"
       ]
      },
      {
       "output_type": "stream",
       "stream": "stdout",
       "text": [
        "\n",
        "(1.2737802223375658, 0.10642403064106425)\n",
        "(1.2733677206596672, 0.10606971144582028)\n",
        "(1.2728979651313821, 0.10571256929473108)"
       ]
      },
      {
       "output_type": "stream",
       "stream": "stdout",
       "text": [
        "\n",
        "(1.2724067039943858, 0.10535255937756766)\n",
        "(1.2718023091811712, 0.10500263846722188)\n",
        "(1.2710209193645263, 0.1046647024725335)"
       ]
      },
      {
       "output_type": "stream",
       "stream": "stdout",
       "text": [
        "\n",
        "(1.2701273992717039, 0.10434189623756385)\n",
        "(1.269246032138869, 0.1040406611423139)\n",
        "(1.2684126591636447, 0.10376996058449206)"
       ]
      },
      {
       "output_type": "stream",
       "stream": "stdout",
       "text": [
        "\n",
        "(1.2676226710579344, 0.10352831016792176)\n",
        "(1.2668741720281163, 0.10330715917835445)\n",
        "(1.2661141410527113, 0.10309136894558006)"
       ]
      },
      {
       "output_type": "stream",
       "stream": "stdout",
       "text": [
        "\n",
        "(1.2653868650818432, 0.10288270226372924)\n",
        "(1.264773168134484, 0.10268826586471758)\n",
        "(1.2642419754310572, 0.1025000025579767)"
       ]
      },
      {
       "output_type": "stream",
       "stream": "stdout",
       "text": [
        "\n",
        "(1.2637772055462879, 0.10231478744282781)\n",
        "(1.2633607410415835, 0.1021334731779599)\n",
        "(1.2629812479851363, 0.1019506617388507)"
       ]
      },
      {
       "output_type": "stream",
       "stream": "stdout",
       "text": [
        "\n",
        "(1.2626319941386668, 0.10175214419971212)\n",
        "(1.2622762706699147, 0.10155940233517292)\n",
        "(1.2619153544753181, 0.10137953993413824)"
       ]
      },
      {
       "output_type": "stream",
       "stream": "stdout",
       "text": [
        "\n",
        "(1.2615635350437928, 0.10122223761246825)\n",
        "(1.2612441666119083, 0.10108585324245876)\n",
        "(1.2609677793649874, 0.10096501465876305)"
       ]
      },
      {
       "output_type": "stream",
       "stream": "stdout",
       "text": [
        "\n",
        "(1.2607263173994656, 0.10085475790733855)\n",
        "(1.2604961568009769, 0.10075229163930609)\n",
        "(1.2602680991493995, 0.10065471886367904)"
       ]
      },
      {
       "output_type": "stream",
       "stream": "stdout",
       "text": [
        "\n",
        "(1.2600426501381257, 0.10055899330675151)\n",
        "(1.2598103188056087, 0.10046112833363581)\n",
        "(1.2595624517725266, 0.10035930417685364)"
       ]
      },
      {
       "output_type": "stream",
       "stream": "stdout",
       "text": [
        "\n",
        "(1.2592964083716212, 0.10025541006203334)\n",
        "(1.2590016452233834, 0.10015028728950391)\n",
        "(1.2586550784275001, 0.10004148542586085)"
       ]
      },
      {
       "output_type": "stream",
       "stream": "stdout",
       "text": [
        "\n",
        "(1.2582428263491812, 0.099926660315435512)\n",
        "(1.2577504495766605, 0.099804263839367982)\n",
        "(1.2571792478256609, 0.099674485290911996)"
       ]
      },
      {
       "output_type": "stream",
       "stream": "stdout",
       "text": [
        "\n",
        "(1.2565452986490979, 0.099534624190318041)\n",
        "(1.2556138322683015, 0.099372878347182253)\n",
        "(1.2547203300218204, 0.099208119631660263)"
       ]
      },
      {
       "output_type": "stream",
       "stream": "stdout",
       "text": [
        "\n",
        "(1.2539934371626484, 0.098987659871367553)\n",
        "(1.2532534803397344, 0.098708143668054124)\n",
        "(1.2526806843209144, 0.098469064081635194)"
       ]
      },
      {
       "output_type": "stream",
       "stream": "stdout",
       "text": [
        "\n",
        "(1.2522407350628577, 0.098268642839780998)\n",
        "(1.2518700672323697, 0.098097640132675634)\n",
        "(1.2515288247125707, 0.097950125581855715)"
       ]
      },
      {
       "output_type": "stream",
       "stream": "stdout",
       "text": [
        "\n",
        "(1.2512087042879165, 0.097820775272830701)\n",
        "(1.2509052752594487, 0.097705298190205445)\n",
        "(1.2506008094891059, 0.097599023165722068)"
       ]
      },
      {
       "output_type": "stream",
       "stream": "stdout",
       "text": [
        "\n",
        "(1.2502911533029666, 0.097498616276997754)\n",
        "(1.2499904616130029, 0.097402193643694485)\n",
        "(1.249675990631725, 0.097309035570309496)"
       ]
      },
      {
       "output_type": "stream",
       "stream": "stdout",
       "text": [
        "\n",
        "(1.2493296355334753, 0.097218602565210047)\n",
        "(1.2489457533762141, 0.097129760938193227)\n",
        "(1.2485245155458427, 0.097040694165904051)"
       ]
      },
      {
       "output_type": "stream",
       "stream": "stdout",
       "text": [
        "\n",
        "(1.2480698564096588, 0.096950714599248505)\n",
        "(1.2475908704451506, 0.096860474944169148)\n",
        "(1.2470861226638261, 0.096770021117599844)"
       ]
      },
      {
       "output_type": "stream",
       "stream": "stdout",
       "text": [
        "\n",
        "(1.2465523039922402, 0.096678545159605681)\n",
        "(1.245990029869813, 0.096584684069050533)\n",
        "(1.2453979814019478, 0.096486722485324666)"
       ]
      },
      {
       "output_type": "stream",
       "stream": "stdout",
       "text": [
        "\n",
        "(1.2447720397399127, 0.096381561949835146)\n",
        "(1.2441034513712232, 0.096265777829706439)\n",
        "(1.2433482371909959, 0.096140560146851226)"
       ]
      },
      {
       "output_type": "stream",
       "stream": "stdout",
       "text": [
        "\n",
        "(1.24245452455393, 0.096005566516889559)\n",
        "(1.241330114654891, 0.095853047143741654)\n",
        "(1.2400076730075873, 0.095691950714169652)"
       ]
      },
      {
       "output_type": "stream",
       "stream": "stdout",
       "text": [
        "\n",
        "(1.2386197870280862, 0.09553099897795661)\n",
        "(1.2372344511825604, 0.095375442464434343)\n",
        "(1.2358795808661893, 0.095226605128016617)"
       ]
      },
      {
       "output_type": "stream",
       "stream": "stdout",
       "text": [
        "\n",
        "(1.2345784955763, 0.095087382623816136)\n",
        "(1.2333477677049374, 0.094957976291110288)\n",
        "(1.2321956265284131, 0.094835776699497901)"
       ]
      },
      {
       "output_type": "stream",
       "stream": "stdout",
       "text": [
        "\n",
        "(1.2311276362840671, 0.094718420344755014)\n",
        "(1.2301376586789858, 0.094604184582632769)\n",
        "(1.2292145344423773, 0.094491415936802339)"
       ]
      },
      {
       "output_type": "stream",
       "stream": "stdout",
       "text": [
        "\n",
        "(1.2283495311152979, 0.09437937297848388)\n",
        "(1.2275396510101839, 0.094270098300610033)\n",
        "(1.2267876765544325, 0.094166680327488039)"
       ]
      },
      {
       "output_type": "stream",
       "stream": "stdout",
       "text": [
        "\n",
        "(1.226094588897541, 0.094069886199530939)\n",
        "(1.2254555069031667, 0.093978953265944562)\n",
        "(1.2248667709141863, 0.093891869466251651)"
       ]
      },
      {
       "output_type": "stream",
       "stream": "stdout",
       "text": [
        "\n",
        "(1.224327479527874, 0.093802187668976675)\n",
        "(1.2238305589381411, 0.093717101924606597)\n",
        "(1.2233684409529635, 0.093636106604430114)"
       ]
      },
      {
       "output_type": "stream",
       "stream": "stdout",
       "text": [
        "\n",
        "(1.2229378230154642, 0.093557957147587523)\n",
        "(1.2225314104259635, 0.093479133342610696)\n",
        "(1.2221462134182304, 0.093394359041781172)"
       ]
      },
      {
       "output_type": "stream",
       "stream": "stdout",
       "text": [
        "\n",
        "(1.2218046707139796, 0.093295556472511157)\n",
        "(1.2215325885926518, 0.093189089608376949)\n",
        "(1.221303669774112, 0.093090359476025647)"
       ]
      },
      {
       "output_type": "stream",
       "stream": "stdout",
       "text": [
        "\n",
        "(1.2210945149362964, 0.093006408924773881)\n",
        "(1.22088746475379, 0.092933601938744739)\n",
        "(1.2206814035348883, 0.092867259437747221)"
       ]
      },
      {
       "output_type": "stream",
       "stream": "stdout",
       "text": [
        "\n",
        "(1.2204704409150178, 0.092805890099001476)\n",
        "(1.2202513145466813, 0.092749391449206284)\n",
        "(1.2200263562520939, 0.092696324864400007)"
       ]
      },
      {
       "output_type": "stream",
       "stream": "stdout",
       "text": [
        "\n",
        "(1.2198339827760865, 0.092643441700608578)\n",
        "(1.2196153264767258, 0.092594143681269281)\n",
        "(1.2193665993311475, 0.092548411478440992)"
       ]
      },
      {
       "output_type": "stream",
       "stream": "stdout",
       "text": [
        "\n",
        "(1.2190968866302199, 0.092505390329133852)\n",
        "(1.2188123440885508, 0.092463733086272232)\n",
        "(1.2185197611448109, 0.09242251935563757)"
       ]
      },
      {
       "output_type": "stream",
       "stream": "stdout",
       "text": [
        "\n",
        "(1.218221864770209, 0.09238269572245221)\n",
        "(1.2179183922126073, 0.09234563845102399)\n",
        "(1.2176114212699345, 0.092311019735413183)"
       ]
      },
      {
       "output_type": "stream",
       "stream": "stdout",
       "text": [
        "\n",
        "(1.2173043755790531, 0.092278352025104454)\n",
        "(1.2169944721086448, 0.092247133946510129)\n",
        "(1.216679894796417, 0.09221623780799619)"
       ]
      },
      {
       "output_type": "stream",
       "stream": "stdout",
       "text": [
        "\n",
        "(1.2163585400020944, 0.09218412347909212)\n",
        "(1.2160279614083789, 0.092148735936553955)\n",
        "(1.2156912567050411, 0.092109035146540272)"
       ]
      },
      {
       "output_type": "stream",
       "stream": "stdout",
       "text": [
        "\n",
        "(1.2153579712461566, 0.092068166378618671)\n",
        "(1.215040483891408, 0.09202944419028887)\n",
        "(1.2147447168461907, 0.091991302424489829)"
       ]
      },
      {
       "output_type": "stream",
       "stream": "stdout",
       "text": [
        "\n",
        "(1.2144691048227063, 0.091952431739865129)\n",
        "(1.2142088832807705, 0.091913832862761335)\n",
        "(1.2139616504028736, 0.091876524959700404)"
       ]
      },
      {
       "output_type": "stream",
       "stream": "stdout",
       "text": [
        "\n",
        "(1.2137299950481839, 0.091840307522318365)\n",
        "(1.2135076744241717, 0.091804735111045616)\n",
        "(1.2132934512836639, 0.091769975275604224)"
       ]
      },
      {
       "output_type": "stream",
       "stream": "stdout",
       "text": [
        "\n",
        "(1.2130974812704258, 0.091735358246587365)\n",
        "(1.2129189208735838, 0.091700874705817115)\n",
        "(1.2127531627159689, 0.091667457065916197)"
       ]
      },
      {
       "output_type": "stream",
       "stream": "stdout",
       "text": [
        "\n",
        "(1.2125961830049834, 0.091635919477247155)\n",
        "(1.2124455155015921, 0.091606220685027218)\n",
        "(1.2123035075074817, 0.091577897949187081)"
       ]
      },
      {
       "output_type": "stream",
       "stream": "stdout",
       "text": [
        "\n",
        "(1.2121763086206037, 0.091550636228580839)\n",
        "(1.2120673603769909, 0.091524132404493794)\n",
        "(1.2119752089506264, 0.091498000438503979)"
       ]
      },
      {
       "output_type": "stream",
       "stream": "stdout",
       "text": [
        "\n",
        "(1.2118964198766773, 0.091471937604737485)\n",
        "(1.2118278530083715, 0.091445870749169045)\n",
        "(1.2117665511999562, 0.091420018355642327)"
       ]
      },
      {
       "output_type": "stream",
       "stream": "stdout",
       "text": [
        "\n",
        "(1.2117091501424497, 0.091394778391878068)\n",
        "(1.2116531756501323, 0.091370419076770792)\n",
        "(1.2115981864299656, 0.091347205672016776)"
       ]
      },
      {
       "output_type": "stream",
       "stream": "stdout",
       "text": [
        "\n",
        "(1.2115417823169214, 0.091325651516570655)\n",
        "(1.2114805561319195, 0.091305933443462786)\n",
        "(1.2114122545413986, 0.091287931894387123)"
       ]
      },
      {
       "output_type": "stream",
       "stream": "stdout",
       "text": [
        "\n",
        "(1.2113346016978086, 0.091271387349115399)\n",
        "(1.2112465297035593, 0.091255968528445711)\n",
        "(1.2111511704045341, 0.091241342209048143)"
       ]
      },
      {
       "output_type": "stream",
       "stream": "stdout",
       "text": [
        "\n",
        "(1.2110531386007071, 0.091227282996737435)\n",
        "(1.2109545637214048, 0.091213652989862906)\n",
        "(1.2108563754991009, 0.091200221955977434)"
       ]
      },
      {
       "output_type": "stream",
       "stream": "stdout",
       "text": [
        "\n",
        "(1.2107593713674134, 0.091186956511497941)\n",
        "(1.2106653116137753, 0.091174015380659126)\n",
        "(1.2105745405680921, 0.091161215877928914)"
       ]
      },
      {
       "output_type": "stream",
       "stream": "stdout",
       "text": [
        "\n",
        "(1.2104868625541523, 0.091148281928158284)\n",
        "(1.210403937765592, 0.091135045194620276)\n",
        "(1.2103295383862418, 0.091121529920150088)"
       ]
      },
      {
       "output_type": "stream",
       "stream": "stdout",
       "text": [
        "\n",
        "(1.2102662848746928, 0.091107778125777042)\n",
        "(1.210215126686234, 0.091093578067575731)\n",
        "(1.2101750258663069, 0.091078579680457017)"
       ]
      },
      {
       "output_type": "stream",
       "stream": "stdout",
       "text": [
        "\n",
        "(1.2101445170458962, 0.091062392070238002)\n",
        "(1.2101220932066692, 0.091044607978239434)\n",
        "(1.2101061973557212, 0.091024734266050955)"
       ]
      },
      {
       "output_type": "stream",
       "stream": "stdout",
       "text": [
        "\n",
        "(1.2100950878062953, 0.091002104404254991)\n",
        "(1.2100863138093332, 0.090975932265733681)\n",
        "(1.2100759996884678, 0.090945599339637376)"
       ]
      },
      {
       "output_type": "stream",
       "stream": "stdout",
       "text": [
        "\n",
        "(1.2100592139069883, 0.090911253370781903)\n",
        "(1.2100308656701262, 0.090874826184751595)\n",
        "(1.2099890186706053, 0.090840170537780526)"
       ]
      },
      {
       "output_type": "stream",
       "stream": "stdout",
       "text": [
        "\n",
        "(1.209937750254662, 0.090810517894059473)\n",
        "(1.2098844362303618, 0.090786418522937493)\n",
        "(1.2098342706970244, 0.090766801174539127)"
       ]
      },
      {
       "output_type": "stream",
       "stream": "stdout",
       "text": [
        "\n",
        "(1.2097898133852578, 0.090750479848721588)\n",
        "(1.2097520527229844, 0.090736534602613467)\n",
        "(1.2097196321436814, 0.090724257688335086)"
       ]
      },
      {
       "output_type": "stream",
       "stream": "stdout",
       "text": [
        "\n",
        "(1.2096892231574508, 0.090713178460410576)\n",
        "(1.2096594377433447, 0.090703075234062167)\n",
        "(1.2096309918283144, 0.090693839712754576)"
       ]
      },
      {
       "output_type": "stream",
       "stream": "stdout",
       "text": [
        "\n",
        "(1.209604317348945, 0.090685349195411144)\n",
        "(1.2095791027282343, 0.090677465070267735)\n",
        "(1.2095547626303942, 0.090670067410826879)"
       ]
      },
      {
       "output_type": "stream",
       "stream": "stdout",
       "text": [
        "\n",
        "(1.2095306756090434, 0.090663060948840302)\n",
        "(1.209506218445731, 0.090656365922983054)\n",
        "(1.2094808873710643, 0.090649904777937385)"
       ]
      },
      {
       "output_type": "stream",
       "stream": "stdout",
       "text": [
        "\n",
        "(1.2094543369186355, 0.090643591046216901)\n",
        "(1.2094262802521787, 0.090637318916430662)\n",
        "(1.2093963543787585, 0.090630943291713409)"
       ]
      },
      {
       "output_type": "stream",
       "stream": "stdout",
       "text": [
        "\n",
        "(1.2093639643743248, 0.090624242282890996)\n",
        "(1.209328113996339, 0.090616886975210795)\n",
        "(1.2092873836305065, 0.090608543555481549)"
       ]
      },
      {
       "output_type": "stream",
       "stream": "stdout",
       "text": [
        "\n",
        "(1.2092403798958917, 0.090599243974007398)\n",
        "(1.2091867200914119, 0.090589578184478811)\n",
        "(1.2091275662727625, 0.090580194362223837)"
       ]
      },
      {
       "output_type": "stream",
       "stream": "stdout",
       "text": [
        "\n",
        "(1.2090649180396658, 0.090571375724689526)\n",
        "(1.2090004053472145, 0.090563102750228067)\n",
        "(1.2089345082002487, 0.09055521605637562)"
       ]
      },
      {
       "output_type": "stream",
       "stream": "stdout",
       "text": [
        "\n",
        "(1.2088665246327834, 0.090547518919203693)\n",
        "(1.2087950310691842, 0.090539826095128964)\n",
        "(1.208718463156488, 0.090531975210658824)"
       ]
      },
      {
       "output_type": "stream",
       "stream": "stdout",
       "text": [
        "\n",
        "(1.2086355201056977, 0.090523826888372294)\n",
        "(1.2085454578012449, 0.090515300629702783)\n",
        "(1.2084481506715659, 0.090506393970126067)"
       ]
      },
      {
       "output_type": "stream",
       "stream": "stdout",
       "text": [
        "\n",
        "(1.2083431916681298, 0.090497036676182543)\n",
        "(1.2082290520348353, 0.090486949321175819)\n",
        "(1.2081035204302659, 0.090475661498010937)"
       ]
      },
      {
       "output_type": "stream",
       "stream": "stdout",
       "text": [
        "\n",
        "(1.2079643582826531, 0.090462483036415811)\n",
        "(1.2078084636988453, 0.090446188318592066)\n",
        "(1.2076304986241049, 0.090424375367614385)"
       ]
      },
      {
       "output_type": "stream",
       "stream": "stdout",
       "text": [
        "\n",
        "(1.2074228891115943, 0.090392592194190213)\n",
        "(1.2071881013999677, 0.090346050761231048)\n",
        "(1.2069489615154729, 0.090285688948853013)"
       ]
      },
      {
       "output_type": "stream",
       "stream": "stdout",
       "text": [
        "\n",
        "(1.2067098731353461, 0.090215596448369406)\n",
        "(1.2064598558056896, 0.090140205067638063)\n",
        "(1.2061812142087676, 0.090060867127431499)"
       ]
      },
      {
       "output_type": "stream",
       "stream": "stdout",
       "text": [
        "\n",
        "(1.2058605856011484, 0.089973727574455778)\n",
        "(1.2054925671848977, 0.089873448602633313)\n",
        "(1.2050857441199863, 0.089763294343730482)"
       ]
      },
      {
       "output_type": "stream",
       "stream": "stdout",
       "text": [
        "\n",
        "(1.2046505027554488, 0.089655503828737618)\n",
        "(1.2041899487966632, 0.089559111053201843)\n",
        "(1.2037062465890007, 0.089475130603670169)"
       ]
      },
      {
       "output_type": "stream",
       "stream": "stdout",
       "text": [
        "\n",
        "(1.2032029135311555, 0.08940043432828669)\n",
        "(1.2026833625559745, 0.089331638615875147)\n",
        "(1.202147611268243, 0.089267047224253049)"
       ]
      },
      {
       "output_type": "stream",
       "stream": "stdout",
       "text": [
        "\n",
        "(1.2015907422673493, 0.089206587563950807)\n",
        "(1.2010091535406402, 0.089149932033159435)\n",
        "(1.2004019423272021, 0.089096094713550386)"
       ]
      },
      {
       "output_type": "stream",
       "stream": "stdout",
       "text": [
        "\n",
        "(1.1997682421900147, 0.089043904935368637)\n",
        "(1.1991054104271579, 0.08899215051840012)\n",
        "(1.198408513288006, 0.088939612469977822)"
       ]
      },
      {
       "output_type": "stream",
       "stream": "stdout",
       "text": [
        "\n",
        "(1.1976702811195059, 0.088885147596930447)\n",
        "(1.1968849065772156, 0.088825884921678339)\n",
        "(1.1960572462720853, 0.088761093187860587)"
       ]
      },
      {
       "output_type": "stream",
       "stream": "stdout",
       "text": [
        "\n",
        "(1.1951609543792714, 0.088692327297216197)\n",
        "(1.1941923084017017, 0.088616030528495246)\n",
        "(1.1931237520047759, 0.088528586890004979)"
       ]
      },
      {
       "output_type": "stream",
       "stream": "stdout",
       "text": [
        "\n",
        "(1.1919316329485619, 0.08842567455785931)\n",
        "(1.1905993401875452, 0.088302717466659408)\n",
        "(1.1891217001873284, 0.088157410285729154)"
       ]
      },
      {
       "output_type": "stream",
       "stream": "stdout",
       "text": [
        "\n",
        "(1.1875141430150897, 0.087990501101228663)\n",
        "(1.1857965629279412, 0.087803378960085471)\n",
        "(1.1839905634445571, 0.087589808642125289)"
       ]
      },
      {
       "output_type": "stream",
       "stream": "stdout",
       "text": [
        "\n",
        "(1.1820927377012438, 0.087364706190970365)\n",
        "(1.1800900570641271, 0.087132498390869409)\n",
        "(1.1779943465317468, 0.086894871977063179)"
       ]
      },
      {
       "output_type": "stream",
       "stream": "stdout",
       "text": [
        "\n",
        "(1.1758094390321818, 0.086654421234850745)\n",
        "(1.1735335248194194, 0.086409463398736674)\n",
        "(1.1711634508532398, 0.086157249994296914)"
       ]
      },
      {
       "output_type": "stream",
       "stream": "stdout",
       "text": [
        "\n",
        "(1.1686948086540121, 0.085897658969461943)\n",
        "(1.1661210933635586, 0.085635832599628203)\n",
        "(1.1634275272436418, 0.085372950830362559)"
       ]
      },
      {
       "output_type": "stream",
       "stream": "stdout",
       "text": [
        "\n",
        "(1.1606078533512183, 0.085106876628323044)\n",
        "(1.1576757708051382, 0.084836089707259643)\n",
        "(1.1546684421446645, 0.084559918397662318)"
       ]
      },
      {
       "output_type": "stream",
       "stream": "stdout",
       "text": [
        "\n",
        "(1.1516507659196145, 0.08427868355757695)\n",
        "(1.1487129388543476, 0.083993448398348033)\n",
        "(1.1459230680819683, 0.083705108792160532)"
       ]
      },
      {
       "output_type": "stream",
       "stream": "stdout",
       "text": [
        "\n",
        "(1.1432155156231043, 0.083416945295105183)\n",
        "(1.1405701358984304, 0.083136066329949521)\n",
        "(1.1381060359955901, 0.082866282306723285)"
       ]
      },
      {
       "output_type": "stream",
       "stream": "stdout",
       "text": [
        "\n",
        "(1.1358826626998595, 0.082606875278837796)\n",
        "(1.1338930866042578, 0.082354506014873943)\n",
        "(1.1321004596548321, 0.082104183532989497)"
       ]
      },
      {
       "output_type": "stream",
       "stream": "stdout",
       "text": [
        "\n",
        "(1.1304635557528686, 0.081852056640233109)\n",
        "(1.1289574899779038, 0.081596959165684102)\n",
        "(1.1275644455808866, 0.081343373541003461)"
       ]
      },
      {
       "output_type": "stream",
       "stream": "stdout",
       "text": [
        "\n",
        "(1.1262886655157702, 0.081102605758413576)\n",
        "(1.125148310524156, 0.080886164784770523)\n",
        "(1.1241537958391596, 0.080699568079013545)"
       ]
      },
      {
       "output_type": "stream",
       "stream": "stdout",
       "text": [
        "\n",
        "(1.123301220067386, 0.080542154752239942)\n",
        "(1.1225774293738249, 0.080409903282441214)\n",
        "(1.1219659378543014, 0.080297830756937305)"
       ]
      },
      {
       "output_type": "stream",
       "stream": "stdout",
       "text": [
        "\n",
        "(1.1214496636333875, 0.080201316336867404)\n",
        "(1.1210113447305761, 0.080116761206274714)\n",
        "(1.1206355292887431, 0.080041423870596165)"
       ]
      },
      {
       "output_type": "stream",
       "stream": "stdout",
       "text": [
        "\n",
        "(1.1203079956147932, 0.079972923289013342)\n",
        "(1.1200172079803612, 0.079909213405849083)\n",
        "(1.1197559227523666, 0.079849150012471601)"
       ]
      },
      {
       "output_type": "stream",
       "stream": "stdout",
       "text": [
        "\n",
        "(1.1195164756786926, 0.079792188854754073)\n",
        "(1.1192908937399075, 0.079737457723683403)\n",
        "(1.1190700997286245, 0.079683830629490124)"
       ]
      },
      {
       "output_type": "stream",
       "stream": "stdout",
       "text": [
        "\n",
        "(1.1188529315504283, 0.079630562292357251)\n",
        "(1.1186381680981337, 0.07957656197205891)\n",
        "(1.1184232797485953, 0.079520259582341532)"
       ]
      },
      {
       "output_type": "stream",
       "stream": "stdout",
       "text": [
        "\n",
        "(1.1182069048691188, 0.079459065804448281)\n",
        "(1.1179885650467936, 0.079388170661864321)\n",
        "(1.1177671996924399, 0.079298037927427886)"
       ]
      },
      {
       "output_type": "stream",
       "stream": "stdout",
       "text": [
        "\n",
        "(1.1175387511075396, 0.079170129009357118)\n",
        "(1.1172882070924735, 0.078975648129142845)\n",
        "(1.1169695782671432, 0.078696370663897272)"
       ]
      },
      {
       "output_type": "stream",
       "stream": "stdout",
       "text": [
        "\n",
        "(1.1165048864231697, 0.078363556104664681)\n",
        "(1.1158512189560246, 0.078040805578035541)\n",
        "(1.1150311033903433, 0.077765097308372513)"
       ]
      },
      {
       "output_type": "stream",
       "stream": "stdout",
       "text": [
        "\n",
        "(1.1141051047673209, 0.077539668846786799)\n",
        "(1.1131186224993241, 0.077359044166625424)\n",
        "(1.112119868713394, 0.077212019258154324)"
       ]
      },
      {
       "output_type": "stream",
       "stream": "stdout",
       "text": [
        "\n",
        "(1.1111506232684074, 0.077087492933641227)\n",
        "(1.1102341042458537, 0.076977424651732351)\n",
        "(1.1093777628212909, 0.076876632308173709)"
       ]
      },
      {
       "output_type": "stream",
       "stream": "stdout",
       "text": [
        "\n",
        "(1.108576846914672, 0.076782302427032753)\n",
        "(1.1078196410900116, 0.076693433899224311)\n",
        "(1.1070941147255211, 0.076610017874041494)"
       ]
      },
      {
       "output_type": "stream",
       "stream": "stdout",
       "text": [
        "\n",
        "(1.1063922091768412, 0.076532212139614017)\n",
        "(1.1057102840179003, 0.076459879221687982)\n",
        "(1.1050470737777314, 0.076392498848426402)"
       ]
      },
      {
       "output_type": "stream",
       "stream": "stdout",
       "text": [
        "\n",
        "(1.1044020383387338, 0.076329318817588351)\n",
        "(1.103775438937538, 0.076269803817130791)\n",
        "(1.1031684053705042, 0.076213904793151127)"
       ]
      },
      {
       "output_type": "stream",
       "stream": "stdout",
       "text": [
        "\n",
        "(1.1025808060145181, 0.076161403619664905)\n",
        "(1.1020117340880069, 0.076111721384035935)\n",
        "(1.1014607741492792, 0.076064246304964667)"
       ]
      },
      {
       "output_type": "stream",
       "stream": "stdout",
       "text": [
        "\n",
        "(1.1009277119759806, 0.076018427569259792)\n",
        "(1.100412321222213, 0.075973787081273073)\n",
        "(1.0999137966006076, 0.075929982174365279)"
       ]
      },
      {
       "output_type": "stream",
       "stream": "stdout",
       "text": [
        "\n",
        "(1.099430279266963, 0.075886885911168336)\n",
        "(1.0989590877423239, 0.075844544900189062)\n",
        "(1.0984977161477585, 0.075803008825356927)"
       ]
      },
      {
       "output_type": "stream",
       "stream": "stdout",
       "text": [
        "\n",
        "(1.0980442369914418, 0.075762234474945345)\n",
        "(1.0975967110801528, 0.075722086938855154)\n",
        "(1.0971505527779233, 0.07568219775368952)"
       ]
      },
      {
       "output_type": "stream",
       "stream": "stdout",
       "text": [
        "\n",
        "(1.096692947298701, 0.07564120654420238)\n",
        "(1.0962505757761258, 0.075598310678406999)\n",
        "(1.0958633676051206, 0.075555242059404573)"
       ]
      },
      {
       "output_type": "stream",
       "stream": "stdout",
       "text": [
        "\n",
        "(1.0955069784036651, 0.075512813670073245)\n",
        "(1.0951625099977624, 0.07547141904238773)\n",
        "(1.0948232358884884, 0.07543126314998122)"
       ]
      },
      {
       "output_type": "stream",
       "stream": "stdout",
       "text": [
        "\n",
        "(1.0944850158897703, 0.075392381348261622)\n",
        "(1.094144656053563, 0.075354687315207933)\n",
        "(1.0938002588518645, 0.075317971488392949)"
       ]
      },
      {
       "output_type": "stream",
       "stream": "stdout",
       "text": [
        "\n",
        "(1.093451263676549, 0.075281882934951333)\n",
        "(1.093096173709079, 0.075246067136443592)\n",
        "(1.0927311414513377, 0.075210527754512785)"
       ]
      },
      {
       "output_type": "stream",
       "stream": "stdout",
       "text": [
        "\n",
        "(1.0923551157242095, 0.075175475818313103)\n",
        "(1.0919699719040401, 0.075140932889646572)\n",
        "(1.0915781303776284, 0.07510681820946509)"
       ]
      },
      {
       "output_type": "stream",
       "stream": "stdout",
       "text": [
        "\n",
        "(1.0911814826129926, 0.075073027533205425)\n",
        "(1.0907809195825413, 0.075039424275116229)\n",
        "(1.0903760006562031, 0.075005905181393537)"
       ]
      },
      {
       "output_type": "stream",
       "stream": "stdout",
       "text": [
        "\n",
        "(1.089965258853911, 0.074972329619889283)\n",
        "(1.0895463118743169, 0.074938609017958693)\n",
        "(1.0891154597465429, 0.074904645943019113)"
       ]
      },
      {
       "output_type": "stream",
       "stream": "stdout",
       "text": [
        "\n",
        "(1.0886710199588279, 0.074870364599167391)\n",
        "(1.0882134832559347, 0.074835810012064505)\n",
        "(1.0877452771866654, 0.074801075928862329)"
       ]
      },
      {
       "output_type": "stream",
       "stream": "stdout",
       "text": [
        "\n",
        "(1.0872696980002623, 0.074766173500378702)\n",
        "(1.0867900830671136, 0.074731029292802634)\n",
        "(1.0863092866301742, 0.074695623891895144)"
       ]
      },
      {
       "output_type": "stream",
       "stream": "stdout",
       "text": [
        "\n",
        "(1.0858290394999757, 0.074660133115475716)\n",
        "(1.0853487337683685, 0.074624826577337933)\n",
        "(1.084865642636428, 0.074589786263683844)"
       ]
      },
      {
       "output_type": "stream",
       "stream": "stdout",
       "text": [
        "\n",
        "(1.0843767416129426, 0.07455499644946309)\n",
        "(1.0838798554035605, 0.07452037041343193)\n",
        "(1.0833733094409737, 0.074485689065529215)"
       ]
      },
      {
       "output_type": "stream",
       "stream": "stdout",
       "text": [
        "\n",
        "(1.0828554083641777, 0.074450648124155416)\n",
        "(1.0823237970947674, 0.074414740125190698)\n",
        "(1.081774374129953, 0.074376919162992383)"
       ]
      },
      {
       "output_type": "stream",
       "stream": "stdout",
       "text": [
        "\n",
        "(1.0812003032786224, 0.074334707839039588)\n",
        "(1.0805939122534869, 0.074283081499027931)\n",
        "(1.0799617245036723, 0.074220092457914139)"
       ]
      },
      {
       "output_type": "stream",
       "stream": "stdout",
       "text": [
        "\n",
        "(1.079335532240536, 0.074156048029970181)\n",
        "(1.0787299221561624, 0.074097920745258283)\n",
        "(1.0781363824035473, 0.074044791178723604)"
       ]
      },
      {
       "output_type": "stream",
       "stream": "stdout",
       "text": [
        "\n",
        "(1.0775442438282257, 0.07399490533990967)\n",
        "(1.0769481838278672, 0.073947011802916573)\n",
        "(1.0763470282502812, 0.073900301833568022)"
       ]
      },
      {
       "output_type": "stream",
       "stream": "stdout",
       "text": [
        "\n",
        "(1.0757423913520316, 0.073854347764460981)\n",
        "(1.0751349250820792, 0.073809031254968155)\n",
        "(1.0745236599483845, 0.073764312247509539)"
       ]
      },
      {
       "output_type": "stream",
       "stream": "stdout",
       "text": [
        "\n",
        "(1.0739086819872383, 0.073720176856013606)\n",
        "(1.0732898608714598, 0.073676598210370994)\n",
        "(1.0726665730877611, 0.073633508231631534)"
       ]
      },
      {
       "output_type": "stream",
       "stream": "stdout",
       "text": [
        "\n",
        "(1.0720378811555074, 0.073590811949385437)\n",
        "(1.0714027804772484, 0.073548408165795248)\n",
        "(1.0707603870875635, 0.073506197304965035)"
       ]
      },
      {
       "output_type": "stream",
       "stream": "stdout",
       "text": [
        "\n",
        "(1.0701100371823613, 0.073464079908523355)\n",
        "(1.0694513322124002, 0.073421958238648874)\n",
        "(1.0687840805710449, 0.073379752662364128)"
       ]
      },
      {
       "output_type": "stream",
       "stream": "stdout",
       "text": [
        "\n",
        "(1.0681079951466705, 0.073337413857002917)\n",
        "(1.0674223300239085, 0.073294890883364036)\n",
        "(1.0667258646627331, 0.073252091681365358)"
       ]
      },
      {
       "output_type": "stream",
       "stream": "stdout",
       "text": [
        "\n",
        "(1.0660174916479697, 0.073208905098021318)\n",
        "(1.0652973231189535, 0.073165274940331912)\n",
        "(1.0645670809074683, 0.073121237425171112)"
       ]
      },
      {
       "output_type": "stream",
       "stream": "stdout",
       "text": [
        "\n",
        "(1.0638290151352749, 0.073076862002972615)\n",
        "(1.0630842469046575, 0.073032190359955063)\n",
        "(1.0623325357582667, 0.072987213437855206)"
       ]
      },
      {
       "output_type": "stream",
       "stream": "stdout",
       "text": [
        "\n",
        "(1.0615734551646197, 0.072941882305278608)\n",
        "(1.0608069775838862, 0.072896142095144154)\n",
        "(1.0600334540697169, 0.072849947701667375)"
       ]
      },
      {
       "output_type": "stream",
       "stream": "stdout",
       "text": [
        "\n",
        "(1.0592533270308857, 0.072803256520881626)\n",
        "(1.058466857168902, 0.072756008956941426)\n",
        "(1.0576741155399474, 0.072708104694152009)"
       ]
      },
      {
       "output_type": "stream",
       "stream": "stdout",
       "text": [
        "\n",
        "(1.0568752464711679, 0.072659423979196905)\n",
        "(1.056070074528449, 0.072609900753636242)\n",
        "(1.0552566560426246, 0.072559458955073763)"
       ]
      },
      {
       "output_type": "stream",
       "stream": "stdout",
       "text": [
        "\n",
        "(1.0544309373908805, 0.072507905391527253)\n",
        "(1.0535880625748535, 0.072454983690842745)\n",
        "(1.0527268018854379, 0.072400583643465993)"
       ]
      },
      {
       "output_type": "stream",
       "stream": "stdout",
       "text": [
        "\n",
        "(1.051851743525825, 0.072344938416952456)\n",
        "(1.0509705311439963, 0.072288611418781082)\n",
        "(1.0500899778707682, 0.072232064440181862)"
       ]
      },
      {
       "output_type": "stream",
       "stream": "stdout",
       "text": [
        "\n",
        "(1.0492132087401502, 0.072175416879540377)\n",
        "(1.0483400679592623, 0.07211860726875903)\n",
        "(1.0474688737217723, 0.072061526531857836)"
       ]
      },
      {
       "output_type": "stream",
       "stream": "stdout",
       "text": [
        "\n",
        "(1.046597558005377, 0.072004068397015425)\n",
        "(1.0457240941423345, 0.071946147487033818)\n",
        "(1.0448466042023479, 0.071887700064314136)"
       ]
      },
      {
       "output_type": "stream",
       "stream": "stdout",
       "text": [
        "\n",
        "(1.0439633915786113, 0.071828676412853662)\n",
        "(1.0430730205263015, 0.071769032477989256)\n",
        "(1.0421745074728126, 0.071708724300949059)"
       ]
      },
      {
       "output_type": "stream",
       "stream": "stdout",
       "text": [
        "\n",
        "(1.0412676077702052, 0.07164770445245594)\n",
        "(1.0403530293494323, 0.071585915686683155)\n",
        "(1.0394323209463754, 0.071523274702667033)"
       ]
      },
      {
       "output_type": "stream",
       "stream": "stdout",
       "text": [
        "\n",
        "(1.038507338206482, 0.071459646168687677)\n",
        "(1.0375793354451095, 0.071394844315916736)\n",
        "(1.0366477895955566, 0.071328756242208941)"
       ]
      },
      {
       "output_type": "stream",
       "stream": "stdout",
       "text": [
        "\n",
        "(1.0357100072850884, 0.071261549394614668)\n",
        "(1.034762954697418, 0.071193617879204946)\n",
        "(1.0338053774083185, 0.071125271497113923)"
       ]
      },
      {
       "output_type": "stream",
       "stream": "stdout",
       "text": [
        "\n",
        "(1.0328375555403277, 0.071056611068975067)\n",
        "(1.0318599724675979, 0.070987604772175195)\n",
        "(1.0308726013111429, 0.070918155617752388)"
       ]
      },
      {
       "output_type": "stream",
       "stream": "stdout",
       "text": [
        "\n",
        "(1.0298747870933462, 0.070848111896717275)\n",
        "(1.0288653620852655, 0.070777264351112604)\n",
        "(1.0278430816492827, 0.070705412889298561)"
       ]
      },
      {
       "output_type": "stream",
       "stream": "stdout",
       "text": [
        "\n",
        "(1.0268072851723005, 0.070632513536113495)\n",
        "(1.0257577527869854, 0.070558643114091199)\n",
        "(1.0246939226515586, 0.070483735774374473)"
       ]
      },
      {
       "output_type": "stream",
       "stream": "stdout",
       "text": [
        "\n",
        "(1.023614433204058, 0.070407440198627616)\n",
        "(1.0225168343450657, 0.070329069901972699)\n",
        "(1.0213971533525628, 0.070247442796425419)"
       ]
      },
      {
       "output_type": "stream",
       "stream": "stdout",
       "text": [
        "\n",
        "(1.020249391340637, 0.070160639349623397)\n",
        "(1.0190663881010606, 0.070066154145444925)\n",
        "(1.0178437565838023, 0.069962224421288161)"
       ]
      },
      {
       "output_type": "stream",
       "stream": "stdout",
       "text": [
        "\n",
        "(1.0165831203671747, 0.06984968154336571)\n",
        "(1.0152878534101177, 0.069731817981239674)\n",
        "(1.013956693453582, 0.069612274466869059)"
       ]
      },
      {
       "output_type": "stream",
       "stream": "stdout",
       "text": [
        "\n",
        "(1.0125867284495838, 0.069493172495686664)\n",
        "(1.0111777047262944, 0.069375154760577262)\n",
        "(1.0097324937594143, 0.069258370249723283)"
       ]
      },
      {
       "output_type": "stream",
       "stream": "stdout",
       "text": [
        "\n",
        "(1.0082558496286362, 0.069142905255619794)\n",
        "(1.0067529919212941, 0.069028796311421614)\n",
        "(1.005228508583907, 0.068915999920252505)"
       ]
      },
      {
       "output_type": "stream",
       "stream": "stdout",
       "text": [
        "\n",
        "(1.0036857340276202, 0.068804393484544382)\n",
        "(1.0021265242123849, 0.068693772232283637)\n",
        "(1.0005512514522128, 0.068583822276420764)"
       ]
      },
      {
       "output_type": "stream",
       "stream": "stdout",
       "text": [
        "\n",
        "(0.99895877406294309, 0.068474073201890792)\n",
        "(0.99734625557838041, 0.068363818757455466)\n",
        "(0.99570871660639282, 0.06825190591051522)"
       ]
      },
      {
       "output_type": "stream",
       "stream": "stdout",
       "text": [
        "\n",
        "(0.99403734975572033, 0.068135907690753741)\n",
        "(0.99231448578901404, 0.068009504974272147)\n",
        "(0.99052264929441736, 0.067864269669495214)"
       ]
      },
      {
       "output_type": "stream",
       "stream": "stdout",
       "text": [
        "\n",
        "(0.98868568158432146, 0.067704953189624217)\n",
        "(0.98681935966083778, 0.06753543786785271)\n",
        "(0.98492517721623873, 0.067350607188608955)"
       ]
      },
      {
       "output_type": "stream",
       "stream": "stdout",
       "text": [
        "\n",
        "(0.98304918584609569, 0.067150349333686632)\n",
        "(0.98117525372670189, 0.066947268918558803)\n",
        "(0.97931307847527616, 0.06676044337428523)"
       ]
      },
      {
       "output_type": "stream",
       "stream": "stdout",
       "text": [
        "\n",
        "(0.97748102547365123, 0.066589105929644093)\n",
        "(0.9756709254890471, 0.066425504353410061)\n",
        "(0.97389973010560871, 0.06626299565834752)"
       ]
      },
      {
       "output_type": "stream",
       "stream": "stdout",
       "text": [
        "\n",
        "(0.97220592121897687, 0.066099430249307367)\n",
        "(0.97061395813477358, 0.065939361220716045)\n",
        "(0.96910970440222777, 0.065787538054931649)"
       ]
      },
      {
       "output_type": "stream",
       "stream": "stdout",
       "text": [
        "\n",
        "(0.9676585078155896, 0.065644208060100684)\n",
        "(0.96623026823525826, 0.065508850896135687)\n",
        "(0.96481353347569654, 0.065382097330061631)"
       ]
      },
      {
       "output_type": "stream",
       "stream": "stdout",
       "text": [
        "\n",
        "(0.96341327235546625, 0.065264582640143787)\n",
        "(0.96203843781473486, 0.065155840758105155)\n",
        "(0.96069375853015926, 0.065054401315832427)"
       ]
      },
      {
       "output_type": "stream",
       "stream": "stdout",
       "text": [
        "\n",
        "(0.95937820163398768, 0.064958491855179115)\n",
        "(0.95808717386417919, 0.064866664682275088)\n",
        "(0.95681615929466113, 0.064778056145313817)"
       ]
      },
      {
       "output_type": "stream",
       "stream": "stdout",
       "text": [
        "\n",
        "(0.95556253485388787, 0.064691916770651128)\n",
        "(0.95432688349252537, 0.064606604691290537)\n",
        "(0.95312054707680249, 0.064521092154520135)"
       ]
      },
      {
       "output_type": "stream",
       "stream": "stdout",
       "text": [
        "\n",
        "(0.9519429461950818, 0.064434177837636983)\n",
        "(0.95078741545653211, 0.064343013517307299)\n",
        "(0.9496441286227203, 0.064249899329944682)"
       ]
      },
      {
       "output_type": "stream",
       "stream": "stdout",
       "text": [
        "\n",
        "(0.94849890208297616, 0.064159027504577137)\n",
        "(0.94734299450195136, 0.064070127945528174)\n",
        "(0.94617165830320282, 0.063979565926932921)"
       ]
      },
      {
       "output_type": "stream",
       "stream": "stdout",
       "text": [
        "\n",
        "(0.94499023366197166, 0.063885098794004558)\n",
        "(0.94382341409203996, 0.063791152806498275)\n",
        "(0.94269403840082922, 0.063703299264624813)"
       ]
      },
      {
       "output_type": "stream",
       "stream": "stdout",
       "text": [
        "\n",
        "(0.94160868890097338, 0.0636221598817166)\n",
        "(0.94056429509231687, 0.063545928021956216)\n",
        "(0.93955399954164742, 0.063473044724302582)"
       ]
      },
      {
       "output_type": "stream",
       "stream": "stdout",
       "text": [
        "\n",
        "(0.93856844554743157, 0.06340287990123053)\n",
        "(0.93759672386778115, 0.063335511327794261)\n",
        "(0.93662848893450268, 0.063271199485485125)"
       ]
      },
      {
       "output_type": "stream",
       "stream": "stdout",
       "text": [
        "\n",
        "(0.93565484446107883, 0.063209892153601441)\n",
        "(0.93467095454420279, 0.063150901183781513)\n",
        "(0.93369441088907912, 0.063094120735807099)"
       ]
      },
      {
       "output_type": "stream",
       "stream": "stdout",
       "text": [
        "\n",
        "(0.93272243401082866, 0.063039711353808953)\n",
        "(0.931748676410046, 0.062987359737287044)\n",
        "(0.93077499213935444, 0.062936510602010637)"
       ]
      },
      {
       "output_type": "stream",
       "stream": "stdout",
       "text": [
        "\n",
        "(0.92981481950623179, 0.062886477378178887)\n",
        "(0.92888607134211731, 0.062836734073895437)\n",
        "(0.92798698100255839, 0.062787329127248243)"
       ]
      },
      {
       "output_type": "stream",
       "stream": "stdout",
       "text": [
        "\n",
        "(0.92710875560642425, 0.062738525743143606)\n",
        "(0.92623639232323463, 0.062690478133512195)\n",
        "(0.92535509435709506, 0.062642982681189549)"
       ]
      },
      {
       "output_type": "stream",
       "stream": "stdout",
       "text": [
        "\n",
        "(0.92445341019590288, 0.06259529956981906)\n",
        "(0.9235291320504817, 0.062547267759067299)\n",
        "(0.9225897556909437, 0.062499851710510666)"
       ]
      },
      {
       "output_type": "stream",
       "stream": "stdout",
       "text": [
        "\n",
        "(0.92163692383955753, 0.062453506026065794)\n",
        "(0.92067340272154541, 0.062408150274913886)\n",
        "(0.91970211108086242, 0.062363444187201543)"
       ]
      },
      {
       "output_type": "stream",
       "stream": "stdout",
       "text": [
        "\n",
        "(0.91872543310897392, 0.062318948194862028)\n",
        "(0.91774637323841213, 0.062274364492343671)\n",
        "(0.91677007817286926, 0.062229581718329159)"
       ]
      },
      {
       "output_type": "stream",
       "stream": "stdout",
       "text": [
        "\n",
        "(0.9158031549342851, 0.062184635869070685)\n",
        "(0.91485058030582989, 0.062139701505344119)\n",
        "(0.9139132247579892, 0.062094952094078955)"
       ]
      },
      {
       "output_type": "stream",
       "stream": "stdout",
       "text": [
        "\n",
        "(0.91298886118338907, 0.062050366874004864)\n",
        "(0.91207453033467967, 0.062005700198349681)\n",
        "(0.91116748163892936, 0.061960555697665828)"
       ]
      },
      {
       "output_type": "stream",
       "stream": "stdout",
       "text": [
        "\n",
        "(0.91026462469989033, 0.061914503033353101)\n",
        "(0.90936089862431668, 0.061867228346342555)\n",
        "(0.90845110709446852, 0.061818479885409582)"
       ]
      },
      {
       "output_type": "stream",
       "stream": "stdout",
       "text": [
        "\n",
        "(0.90753403036508795, 0.061767894789970836)\n",
        "(0.90661185369810482, 0.061714786909467058)\n",
        "(0.90568315987525005, 0.061657316625183173)"
       ]
      },
      {
       "output_type": "stream",
       "stream": "stdout",
       "text": [
        "\n",
        "(0.904737926695102, 0.061591147370738689)\n",
        "(0.90376230048349859, 0.061509901151874297)\n",
        "(0.9027497047931532, 0.061412795563873662)"
       ]
      },
      {
       "output_type": "stream",
       "stream": "stdout",
       "text": [
        "\n",
        "(0.90171143982515778, 0.061310532171853394)\n",
        "(0.90066937452003615, 0.061213294630304005)\n",
        "(0.89963879772114586, 0.061123581686684463)"
       ]
      },
      {
       "output_type": "stream",
       "stream": "stdout",
       "text": [
        "\n",
        "(0.89862562393878842, 0.061040364737158986)\n",
        "(0.89763395996895079, 0.060961800099600935)\n",
        "(0.89668281801821226, 0.060884679484572733)"
       ]
      },
      {
       "output_type": "stream",
       "stream": "stdout",
       "text": [
        "\n",
        "(0.89573155972610885, 0.060810360631625884)\n",
        "(0.89472898093523889, 0.060742190965405396)\n",
        "(0.89367326800121405, 0.060679655116363938)"
       ]
      },
      {
       "output_type": "stream",
       "stream": "stdout",
       "text": [
        "\n",
        "(0.89256495291196603, 0.060621159045548448)\n",
        "(0.89139994537693312, 0.060564858747747925)\n",
        "(0.89016474565794235, 0.06050853908792541)"
       ]
      },
      {
       "output_type": "stream",
       "stream": "stdout",
       "text": [
        "\n",
        "(0.88882594756773892, 0.060449009876550198)\n",
        "(0.88732842958113278, 0.060379873470192469)\n",
        "(0.88559142322510864, 0.060286864757303216)"
       ]
      },
      {
       "output_type": "stream",
       "stream": "stdout",
       "text": [
        "\n",
        "(0.88349512197879243, 0.060134966848772765)\n",
        "(0.88087400454240394, 0.059842354212626181)\n",
        "(0.87768581895471698, 0.059295906837901785)"
       ]
      },
      {
       "output_type": "stream",
       "stream": "stdout",
       "text": [
        "\n",
        "(0.87414317529079177, 0.058517857536678812)\n",
        "(0.87054928339972448, 0.057687935919886774)\n",
        "(0.86706048716082607, 0.056915606372093676)"
       ]
      },
      {
       "output_type": "stream",
       "stream": "stdout",
       "text": [
        "\n",
        "(0.8636793302846556, 0.056232036266077853)\n",
        "(0.86038595375272553, 0.055627849284429015)\n",
        "(0.85727284452822305, 0.055087828145868864)"
       ]
      },
      {
       "output_type": "stream",
       "stream": "stdout",
       "text": [
        "\n",
        "(0.85444841552113393, 0.054612039425792319)\n",
        "(0.85179862201736323, 0.054197357342280553)\n",
        "(0.84926412527772943, 0.053834106283869067)"
       ]
      },
      {
       "output_type": "stream",
       "stream": "stdout",
       "text": [
        "\n",
        "(0.84686786788095814, 0.053505167756156172)\n",
        "(0.84467105945400134, 0.053198805117771121)\n",
        "(0.84270185019217148, 0.052917946080011012)"
       ]
      },
      {
       "output_type": "stream",
       "stream": "stdout",
       "text": [
        "\n",
        "(0.84091637092684146, 0.052665111338274923)\n",
        "(0.83926434628379798, 0.052437596712096038)\n",
        "(0.83771569978837068, 0.052231468098478867)"
       ]
      },
      {
       "output_type": "stream",
       "stream": "stdout",
       "text": [
        "\n",
        "(0.83625444307106356, 0.052043305103860724)\n",
        "(0.83487014353291988, 0.051870460299934057)\n",
        "(0.83355420915665923, 0.051710917127365731)"
       ]
      },
      {
       "output_type": "stream",
       "stream": "stdout",
       "text": [
        "\n",
        "(0.83229976099084779, 0.051563040068373311)\n",
        "(0.83110124227190307, 0.051425364188018581)\n",
        "(0.82995279812166134, 0.051296528957399966)"
       ]
      },
      {
       "output_type": "stream",
       "stream": "stdout",
       "text": [
        "\n",
        "(0.82884748509596573, 0.051175359295813953)\n",
        "(0.82777764652394747, 0.051060975842736819)\n",
        "(0.82673686087175224, 0.050952775222592776)"
       ]
      },
      {
       "output_type": "stream",
       "stream": "stdout",
       "text": [
        "\n",
        "(0.82572126243204536, 0.050850315800429501)\n",
        "(0.82472892344077742, 0.050753227180033736)\n",
        "(0.82375831957999457, 0.050661161740645076)"
       ]
      },
      {
       "output_type": "stream",
       "stream": "stdout",
       "text": [
        "\n",
        "(0.82280633488264243, 0.050573296692146698)\n",
        "(0.82186392318570778, 0.05048764991233063)\n",
        "(0.8209481257550415, 0.050405529779366423)"
       ]
      },
      {
       "output_type": "stream",
       "stream": "stdout",
       "text": [
        "\n",
        "(0.82004754185728845, 0.050327134159308819)\n",
        "(0.81916967140350738, 0.050251840938288224)\n",
        "(0.81831792031345418, 0.05017900459740484)"
       ]
      },
      {
       "output_type": "stream",
       "stream": "stdout",
       "text": [
        "\n",
        "(0.81748012505254941, 0.050108912170301195)\n",
        "(0.81663897817506548, 0.050041845598784766)\n",
        "(0.81579193515711101, 0.049977343639391721)"
       ]
      },
      {
       "output_type": "stream",
       "stream": "stdout",
       "text": [
        "\n",
        "(0.81494009605304352, 0.049914511452134519)\n",
        "(0.81408644136118213, 0.049852288497610052)\n",
        "(0.8132336775732788, 0.049789954588382597)"
       ]
      },
      {
       "output_type": "stream",
       "stream": "stdout",
       "text": [
        "\n",
        "(0.81238247751052739, 0.049727700174917434)\n",
        "(0.81153444666423802, 0.049666373199341488)\n",
        "(0.81069472654952901, 0.04960657347900347)"
       ]
      },
      {
       "output_type": "stream",
       "stream": "stdout",
       "text": [
        "\n",
        "(0.80987021632848266, 0.049549006672794486)\n",
        "(0.80906854154093644, 0.049493669261094185)\n",
        "(0.80829635432098923, 0.049440310750219929)"
       ]
      },
      {
       "output_type": "stream",
       "stream": "stdout",
       "text": [
        "\n",
        "(0.80755882114400357, 0.049388606872664255)\n",
        "(0.80685610255561035, 0.049338263487935879)\n",
        "(0.80618339872300848, 0.049288993437128691)"
       ]
      },
      {
       "output_type": "stream",
       "stream": "stdout",
       "text": [
        "\n",
        "(0.80553771575893363, 0.049240317651430034)\n",
        "(0.80492220818542459, 0.049191624869768365)\n",
        "(0.80434017628059296, 0.049142453033636055)"
       ]
      },
      {
       "output_type": "stream",
       "stream": "stdout",
       "text": [
        "\n",
        "(0.80378839868003449, 0.049092118868268773)\n",
        "(0.80326060831842727, 0.049039054533925361)\n",
        "(0.80275228464746662, 0.048983497969344418)"
       ]
      },
      {
       "output_type": "stream",
       "stream": "stdout",
       "text": [
        "\n",
        "(0.80225744564484303, 0.048930034609630517)\n",
        "(0.8017688576824662, 0.048881250177101342)\n",
        "(0.80128289497433336, 0.048836458267210725)"
       ]
      },
      {
       "output_type": "stream",
       "stream": "stdout",
       "text": [
        "\n",
        "(0.80079935197593521, 0.048794576671302013)\n",
        "(0.80031923843977193, 0.048754997353874299)\n",
        "(0.79984350510998248, 0.048717453267810309)"
       ]
      },
      {
       "output_type": "stream",
       "stream": "stdout",
       "text": [
        "\n",
        "(0.79937255171110699, 0.048681796434347183)\n",
        "(0.79890614393216142, 0.048647879704316263)\n",
        "(0.79844379032343116, 0.048615526437089433)"
       ]
      },
      {
       "output_type": "stream",
       "stream": "stdout",
       "text": [
        "\n",
        "(0.79798501415750955, 0.048584533182135514)\n",
        "(0.79752942763872925, 0.04855467642852964)\n",
        "(0.79707669487265009, 0.048525714702024512)"
       ]
      },
      {
       "output_type": "stream",
       "stream": "stdout",
       "text": [
        "\n",
        "(0.79662646608414256, 0.048497387883457949)\n",
        "(0.79617831684230822, 0.048469422964055778)\n",
        "(0.79573182347506188, 0.048441556696972872)"
       ]
      },
      {
       "output_type": "stream",
       "stream": "stdout",
       "text": [
        "\n",
        "(0.79528707918149466, 0.04841356158507612)\n",
        "(0.79484556541782503, 0.048385228164185695)\n",
        "(0.79441006268276004, 0.04835644689835885)"
       ]
      },
      {
       "output_type": "stream",
       "stream": "stdout",
       "text": [
        "\n",
        "(0.79398198589351787, 0.048327702017317044)\n",
        "(0.79355989927329129, 0.0482999268140702)\n",
        "(0.79314318404984596, 0.048273528714052043)"
       ]
      },
      {
       "output_type": "stream",
       "stream": "stdout",
       "text": [
        "\n",
        "(0.79273275704484625, 0.048248391416659188)\n",
        "(0.79232946380027824, 0.048224284908478361)\n",
        "(0.79193356145023042, 0.0482010127216927)"
       ]
      },
      {
       "output_type": "stream",
       "stream": "stdout",
       "text": [
        "\n",
        "(0.7915448918921314, 0.048178423168550907)\n",
        "(0.79116311708193454, 0.048156397649271855)\n",
        "(0.79078788174236581, 0.048134841237038935)"
       ]
      },
      {
       "output_type": "stream",
       "stream": "stdout",
       "text": [
        "\n",
        "(0.79041893571973876, 0.048113677734386344)\n",
        "(0.79005624081910686, 0.048092849338853903)\n",
        "(0.78969999631313903, 0.048072321753415505)"
       ]
      },
      {
       "output_type": "stream",
       "stream": "stdout",
       "text": [
        "\n",
        "(0.78935048288537579, 0.048052087972009411)\n",
        "(0.78900783448424228, 0.048032158227413586)\n",
        "(0.78867192603272707, 0.048012539710136963)"
       ]
      },
      {
       "output_type": "stream",
       "stream": "stdout",
       "text": [
        "\n",
        "(0.78834243199962384, 0.047993222885534287)\n",
        "(0.78801898151551697, 0.047974182446385988)\n",
        "(0.7877012794349868, 0.047955387219058183)"
       ]
      },
      {
       "output_type": "stream",
       "stream": "stdout",
       "text": [
        "\n",
        "(0.78738915745966387, 0.047936810356565274)\n",
        "(0.78708259051660079, 0.047918435340090354)\n",
        "(0.78678169990598568, 0.047900256669069705)"
       ]
      },
      {
       "output_type": "stream",
       "stream": "stdout",
       "text": [
        "\n",
        "(0.78648672565618893, 0.047882276602538271)\n",
        "(0.78619790641988385, 0.047864501857482325)\n",
        "(0.78591522142780679, 0.047846943714895465)"
       ]
      },
      {
       "output_type": "stream",
       "stream": "stdout",
       "text": [
        "\n",
        "(0.78563817125591384, 0.047829619532338045)\n",
        "(0.78536591378099418, 0.047812546419117197)\n",
        "(0.78509767227762017, 0.047795726052324829)"
       ]
      },
      {
       "output_type": "stream",
       "stream": "stdout",
       "text": [
        "\n",
        "(0.78483299137305884, 0.047779136563209548)\n",
        "(0.78457170948007948, 0.047762737381349209)\n",
        "(0.78431382988190124, 0.047746476526550861)"
       ]
      },
      {
       "output_type": "stream",
       "stream": "stdout",
       "text": [
        "\n",
        "(0.78405943045218973, 0.047730292905764658)\n",
        "(0.78380863349859431, 0.047714113058444897)\n",
        "(0.78356162589981815, 0.047697843704546487)"
       ]
      },
      {
       "output_type": "stream",
       "stream": "stdout",
       "text": [
        "\n",
        "(0.78331871132857955, 0.047681363997548583)\n",
        "(0.78308032419404106, 0.047664527819115267)\n",
        "(0.78284682525027494, 0.047647188399677035)"
       ]
      },
      {
       "output_type": "stream",
       "stream": "stdout",
       "text": [
        "\n",
        "(0.78261712523806704, 0.047629368158417264)\n",
        "(0.78238832657373958, 0.047611470873395706)\n",
        "(0.78215884782450107, 0.047593830206234783)"
       ]
      },
      {
       "output_type": "stream",
       "stream": "stdout",
       "text": [
        "\n",
        "(0.78192797124014668, 0.047576524529915079)\n",
        "(0.78169555333688268, 0.047559510834331041)\n",
        "(0.78146174564682069, 0.047542714191030469)"
       ]
      },
      {
       "output_type": "stream",
       "stream": "stdout",
       "text": [
        "\n",
        "(0.7812268709790221, 0.047526055076047943)\n",
        "(0.78099136693373317, 0.047509440157194757)\n",
        "(0.78075564565504529, 0.047492747998875456)"
       ]
      },
      {
       "output_type": "stream",
       "stream": "stdout",
       "text": [
        "\n",
        "(0.78051994248598322, 0.047475889654928778)\n",
        "(0.7802840999566758, 0.047458913400347615)\n",
        "(0.78004754341917915, 0.047441808782007128)"
       ]
      },
      {
       "output_type": "stream",
       "stream": "stdout",
       "text": [
        "\n",
        "(0.77981041541483687, 0.04742403191822897)\n",
        "(0.77957505671819061, 0.047404520541844804)\n",
        "(0.7793453817669258, 0.047382793069338895)"
       ]
      },
      {
       "output_type": "stream",
       "stream": "stdout",
       "text": [
        "\n",
        "(0.77912234655666124, 0.047359749665163278)\n",
        "(0.77890410468397997, 0.047337550174723374)\n",
        "(0.77868826586406981, 0.047317583796420822)"
       ]
      },
      {
       "output_type": "stream",
       "stream": "stdout",
       "text": [
        "\n",
        "(0.77847321390849589, 0.047299696707173974)\n",
        "(0.7782583221630609, 0.047283319544260273)\n",
        "(0.77804341909420127, 0.047268008464880724)"
       ]
      },
      {
       "output_type": "stream",
       "stream": "stdout",
       "text": [
        "\n",
        "(0.77782840384314555, 0.047253477541416344)\n",
        "(0.77761315864820557, 0.047239538819588082)\n",
        "(0.77739754626463453, 0.047226059917232888)"
       ]
      },
      {
       "output_type": "stream",
       "stream": "stdout",
       "text": [
        "\n",
        "(0.7771814922939182, 0.047212943271875099)\n",
        "(0.77696513001405987, 0.047200112110542952)\n",
        "(0.77674877452165692, 0.047187496814456255)"
       ]
      },
      {
       "output_type": "stream",
       "stream": "stdout",
       "text": [
        "\n",
        "(0.77653274493913704, 0.047175020146594457)\n",
        "(0.77631726008999269, 0.047162569877752809)\n",
        "(0.77610230358941301, 0.047149944841823617)"
       ]
      },
      {
       "output_type": "stream",
       "stream": "stdout",
       "text": [
        "\n",
        "(0.77588749264316037, 0.047136774994934467)\n",
        "(0.77567240808818483, 0.047122522155664356)\n",
        "(0.77545808740109412, 0.047106937798690754)"
       ]
      },
      {
       "output_type": "stream",
       "stream": "stdout",
       "text": [
        "\n",
        "(0.77524873050559728, 0.04709071970158616)\n",
        "(0.77504927886723862, 0.047074730481113471)\n",
        "(0.77486147706468167, 0.047059128663531964)"
       ]
      },
      {
       "output_type": "stream",
       "stream": "stdout",
       "text": [
        "\n",
        "(0.77468428772973841, 0.047043864753108261)\n",
        "(0.77451536584474878, 0.047028957317911457)\n",
        "(0.77435127427883554, 0.04701438631866646)"
       ]
      },
      {
       "output_type": "stream",
       "stream": "stdout",
       "text": [
        "\n",
        "(0.77418855000572795, 0.047000092627851521)\n",
        "(0.77402597786527583, 0.046986048827808553)\n",
        "(0.77386255229142764, 0.046972142472338121)"
       ]
      },
      {
       "output_type": "stream",
       "stream": "stdout",
       "text": [
        "\n",
        "(0.77369697839139462, 0.046958176845268644)\n",
        "(0.77352887186185282, 0.046943968256052071)\n",
        "(0.77335890218266612, 0.046929357902863691)"
       ]
      },
      {
       "output_type": "stream",
       "stream": "stdout",
       "text": [
        "\n",
        "(0.77318834249180213, 0.046914212161742713)\n",
        "(0.77301730502767652, 0.046898366580636008)\n",
        "(0.77284578977909923, 0.046882051589034121)"
       ]
      },
      {
       "output_type": "stream",
       "stream": "stdout",
       "text": [
        "\n",
        "(0.77267517972148336, 0.04686590343394248)\n",
        "(0.77250611523863089, 0.046850247228044317)\n",
        "(0.77233743223013729, 0.046835009620087666)"
       ]
      },
      {
       "output_type": "stream",
       "stream": "stdout",
       "text": [
        "\n",
        "(0.77216771308771459, 0.046819875544750568)\n",
        "(0.77199515392183227, 0.046804204610802119)\n",
        "(0.7718184404975762, 0.04678758808445143)"
       ]
      },
      {
       "output_type": "stream",
       "stream": "stdout",
       "text": [
        "\n",
        "(0.77164110405399922, 0.046770609681181692)\n",
        "(0.7714670346146989, 0.046753836477190606)\n",
        "(0.77129819425243595, 0.046737476303613974)"
       ]
      },
      {
       "output_type": "stream",
       "stream": "stdout",
       "text": [
        "\n",
        "(0.77113577304299896, 0.046721564306075707)\n",
        "(0.77098052651229365, 0.046706087512628745)\n",
        "(0.77083241439612427, 0.046691034649013662)"
       ]
      },
      {
       "output_type": "stream",
       "stream": "stdout",
       "text": [
        "\n",
        "(0.77069036207569219, 0.046676386021019096)\n",
        "(0.77055248601810067, 0.046661982877619697)\n",
        "(0.7703990619699258, 0.04664692311057083)"
       ]
      },
      {
       "output_type": "stream",
       "stream": "stdout",
       "text": [
        "\n",
        "(0.77025761515350855, 0.046631345201581249)\n",
        "(0.77012825087744574, 0.046613866053922447)\n",
        "(0.77002078237060956, 0.046594186161373577)"
       ]
      },
      {
       "output_type": "stream",
       "stream": "stdout",
       "text": [
        "\n",
        "(0.76993638042415546, 0.046573949454774499)\n",
        "(0.76986455956972533, 0.046554889985394955)\n",
        "(0.76979536334081988, 0.046537561060583141)"
       ]
      },
      {
       "output_type": "stream",
       "stream": "stdout",
       "text": [
        "\n",
        "(0.76972402482708979, 0.046521734167195433)\n",
        "(0.76964876434475837, 0.046507037296964954)\n",
        "(0.76956885095007854, 0.046493137056101863)"
       ]
      },
      {
       "output_type": "stream",
       "stream": "stdout",
       "text": [
        "\n",
        "(0.76948443189744142, 0.046479734594974564)\n",
        "(0.76939614126381761, 0.046466586222930574)\n",
        "(0.76930456487142562, 0.046453508756693795)"
       ]
      },
      {
       "output_type": "stream",
       "stream": "stdout",
       "text": [
        "\n",
        "(0.7692099208892561, 0.046440378659379833)\n",
        "(0.76911201521799488, 0.04642713257022061)\n",
        "(0.76901050057244269, 0.046413754839816863)"
       ]
      },
      {
       "output_type": "stream",
       "stream": "stdout",
       "text": [
        "\n",
        "(0.76890519815599001, 0.046400244992333313)\n",
        "(0.76879615148079028, 0.046386576227293336)\n",
        "(0.76868336780247781, 0.046372660586480666)"
       ]
      },
      {
       "output_type": "stream",
       "stream": "stdout",
       "text": [
        "\n",
        "(0.76856646696414566, 0.046358323927104733)\n",
        "(0.76844502579213481, 0.046343278162641555)\n",
        "(0.7683205616584704, 0.046327210760904618)"
       ]
      },
      {
       "output_type": "stream",
       "stream": "stdout",
       "text": [
        "\n",
        "(0.76819408327094763, 0.046310300498725566)\n",
        "(0.76805977333746867, 0.046293091921512729)\n",
        "(0.76791059364765946, 0.046275679384934675)"
       ]
      },
      {
       "output_type": "stream",
       "stream": "stdout",
       "text": [
        "\n",
        "(0.76774216082022506, 0.046257671971023623)\n",
        "(0.76755235465001892, 0.046238543303185567)\n",
        "(0.76734377095285955, 0.04621815445906545)"
       ]
      },
      {
       "output_type": "stream",
       "stream": "stdout",
       "text": [
        "\n",
        "(0.767125258961599, 0.046197143519057862)\n",
        "(0.766907335403472, 0.0461764973300864)\n",
        "(0.76669654593852465, 0.046156773116100426)"
       ]
      },
      {
       "output_type": "stream",
       "stream": "stdout",
       "text": [
        "\n",
        "(0.76649464042509241, 0.046137993199021246)\n",
        "(0.76630062149025868, 0.046119972771547946)\n",
        "(0.76611262438514494, 0.046102533615077372)"
       ]
      },
      {
       "output_type": "stream",
       "stream": "stdout",
       "text": [
        "\n",
        "(0.76592884447636655, 0.04608554958373362)\n",
        "(0.76574786123353633, 0.046068933030914506)\n",
        "(0.76556872641599216, 0.046052623740433778)"
       ]
      },
      {
       "output_type": "stream",
       "stream": "stdout",
       "text": [
        "\n",
        "(0.76539087413879969, 0.046036592781312967)\n",
        "(0.76521386248174306, 0.046020846139012812)\n",
        "(0.76503719444636253, 0.046005410153339955)"
       ]
      },
      {
       "output_type": "stream",
       "stream": "stdout",
       "text": [
        "\n",
        "(0.76486042381856978, 0.045990306148422075)\n",
        "(0.76468334583036346, 0.045975536644369944)\n",
        "(0.76450604407754597, 0.045961088372992773)"
       ]
      },
      {
       "output_type": "stream",
       "stream": "stdout",
       "text": [
        "\n",
        "(0.76432881992102908, 0.045946941060868947)\n",
        "(0.76415209323183253, 0.045933073149410288)\n",
        "(0.7639763047140713, 0.045919463373059827)"
       ]
      },
      {
       "output_type": "stream",
       "stream": "stdout",
       "text": [
        "\n",
        "(0.76380183313298999, 0.045906090441947642)\n",
        "(0.7636289441220504, 0.045892932561868924)\n",
        "(0.76345777294862727, 0.045879967249399981)"
       ]
      },
      {
       "output_type": "stream",
       "stream": "stdout",
       "text": [
        "\n",
        "(0.7632883277641821, 0.045867171216784873)\n",
        "(0.76312049696730444, 0.045854519971012184)\n",
        "(0.76295404941270428, 0.045841986781340625)"
       ]
      },
      {
       "output_type": "stream",
       "stream": "stdout",
       "text": [
        "\n",
        "(0.76278862111473966, 0.045829540536231353)\n",
        "(0.76262368354707166, 0.045817141601066709)\n",
        "(0.76245848711584419, 0.045804733954656694)"
       ]
      },
      {
       "output_type": "stream",
       "stream": "stdout",
       "text": [
        "\n",
        "(0.76229197238838442, 0.045792230389589114)\n",
        "(0.76212265431308146, 0.045779484881122989)\n",
        "(0.76194862770656957, 0.045766239332800732)"
       ]
      },
      {
       "output_type": "stream",
       "stream": "stdout",
       "text": [
        "\n",
        "(0.76176892569401455, 0.045752089472414055)\n",
        "(0.76158309890460019, 0.045736615479107658)\n",
        "(0.7613899669572366, 0.045719440162734)"
       ]
      },
      {
       "output_type": "stream",
       "stream": "stdout",
       "text": [
        "\n",
        "(0.76118976550339734, 0.04570056871781699)\n",
        "(0.76098852643656978, 0.045680961887357728)\n",
        "(0.76079546533610309, 0.045661759550274045)"
       ]
      },
      {
       "output_type": "stream",
       "stream": "stdout",
       "text": [
        "\n",
        "(0.76061362103598185, 0.045643298561918871)\n",
        "(0.7604411794027276, 0.045625362095104836)\n",
        "(0.7602767637536324, 0.045607715924880513)"
       ]
      },
      {
       "output_type": "stream",
       "stream": "stdout",
       "text": [
        "\n",
        "(0.7601204271929517, 0.045590270664062356)\n",
        "(0.75997170597605912, 0.045572896272487486)\n",
        "(0.75982948516700388, 0.045555244407849423)"
       ]
      },
      {
       "output_type": "stream",
       "stream": "stdout",
       "text": [
        "\n",
        "(0.75969269632767267, 0.045536742127604841)\n",
        "(0.75955835494290946, 0.045517009139187541)\n",
        "(0.75942108945092468, 0.045496251242945637)"
       ]
      },
      {
       "output_type": "stream",
       "stream": "stdout",
       "text": [
        "\n",
        "(0.75927801225217451, 0.045474627757225855)\n",
        "(0.75912732476060285, 0.0454520906030896)\n",
        "(0.75896827937369715, 0.045428962440169293)"
       ]
      },
      {
       "output_type": "stream",
       "stream": "stdout",
       "text": [
        "\n",
        "(0.7588032047488521, 0.04540511613261268)\n",
        "(0.75862933976926894, 0.045379353968272841)\n",
        "(0.75845691205630883, 0.045351743732747397)"
       ]
      },
      {
       "output_type": "stream",
       "stream": "stdout",
       "text": [
        "\n",
        "(0.75827523998712176, 0.045319696095012664)\n",
        "(0.75809833399934079, 0.045281692963106648)\n",
        "(0.75794511461213965, 0.045243418834525422)"
       ]
      },
      {
       "output_type": "stream",
       "stream": "stdout",
       "text": [
        "\n",
        "(0.75780849021146102, 0.045210604802314543)\n",
        "(0.75767767688816445, 0.045183258335085609)\n",
        "(0.75754834815077587, 0.045159548306735478)"
       ]
      },
      {
       "output_type": "stream",
       "stream": "stdout",
       "text": [
        "\n",
        "(0.75741713857243631, 0.045138242825258051)\n",
        "(0.75728040413063114, 0.045118763938833628)\n",
        "(0.75713616472661494, 0.04510079060428978)"
       ]
      },
      {
       "output_type": "stream",
       "stream": "stdout",
       "text": [
        "\n",
        "(0.75698459911174576, 0.04508402149813736)\n",
        "(0.75682692550560982, 0.045068135227044427)\n",
        "(0.75666458631894529, 0.045052826592609042)"
       ]
      },
      {
       "output_type": "stream",
       "stream": "stdout",
       "text": [
        "\n",
        "(0.75649937616448848, 0.045037831733538036)\n",
        "(0.75633317726566618, 0.04502297682089898)\n",
        "(0.7561655893497371, 0.045008211380617516)"
       ]
      },
      {
       "output_type": "stream",
       "stream": "stdout",
       "text": [
        "\n",
        "(0.75599448094772081, 0.04499350901034737)\n",
        "(0.7558183764469929, 0.044978814928893732)\n",
        "(0.75563666144927188, 0.044964076881100865)"
       ]
      },
      {
       "output_type": "stream",
       "stream": "stdout",
       "text": [
        "\n",
        "(0.755449028223798, 0.044949262459229325)\n",
        "(0.75525516881549992, 0.044934355221849659)\n",
        "(0.75505470275316222, 0.0449193436472912)"
       ]
      },
      {
       "output_type": "stream",
       "stream": "stdout",
       "text": [
        "\n",
        "(0.7548472193725978, 0.044904209976243586)\n",
        "(0.75463234962266235, 0.04488892376513838)\n",
        "(0.75440971884756736, 0.044873440379879441)"
       ]
      },
      {
       "output_type": "stream",
       "stream": "stdout",
       "text": [
        "\n",
        "(0.75417871051562002, 0.044857696261876766)\n",
        "(0.75393828592075696, 0.044841599070220839)\n",
        "(0.753686989505303, 0.044825021598213124)"
       ]
      },
      {
       "output_type": "stream",
       "stream": "stdout",
       "text": [
        "\n",
        "(0.75342294804231358, 0.044807761445514314)\n",
        "(0.75314689175130534, 0.04478905439976575)\n",
        "(0.75286016751117746, 0.044768751935578562)"
       ]
      },
      {
       "output_type": "stream",
       "stream": "stdout",
       "text": [
        "\n",
        "(0.75255000784793202, 0.044746999070809743)\n",
        "(0.75221430069909723, 0.044723512318545516)\n",
        "(0.75185265380304167, 0.044698003686615043)"
       ]
      },
      {
       "output_type": "stream",
       "stream": "stdout",
       "text": [
        "\n",
        "(0.7514661374812116, 0.044670212703276965)\n",
        "(0.75105719626647505, 0.044639956202947986)\n",
        "(0.75062887607278106, 0.04460728861321437)"
       ]
      },
      {
       "output_type": "stream",
       "stream": "stdout",
       "text": [
        "\n",
        "(0.75018416554840761, 0.044572691526089732)\n",
        "(0.74972612773050873, 0.044536991622531365)\n",
        "(0.74925658465633704, 0.044500769336316623)"
       ]
      },
      {
       "output_type": "stream",
       "stream": "stdout",
       "text": [
        "\n",
        "(0.74877075234755119, 0.0444641003896512)\n",
        "(0.74826139769087785, 0.044426702015547034)\n",
        "(0.74773196674193376, 0.044387294914580287)"
       ]
      },
      {
       "output_type": "stream",
       "stream": "stdout",
       "text": [
        "\n",
        "(0.74719721377395754, 0.04434439294866864)\n",
        "(0.74666156407221207, 0.044296208294146835)\n",
        "(0.74613516648363765, 0.044247291931640405)"
       ]
      },
      {
       "output_type": "stream",
       "stream": "stdout",
       "text": [
        "\n",
        "(0.74563308084964353, 0.044204805716047277)\n",
        "(0.7451609583253701, 0.044168819767863722)\n",
        "(0.74471726659956383, 0.044136802535311284)"
       ]
      },
      {
       "output_type": "stream",
       "stream": "stdout",
       "text": [
        "\n",
        "(0.74429587758790205, 0.044106783872280765)\n",
        "(0.74389011564481167, 0.044077695652194458)\n",
        "(0.74349580549751404, 0.044049232518570403)"
       ]
      },
      {
       "output_type": "stream",
       "stream": "stdout",
       "text": [
        "\n",
        "(0.7431117420711244, 0.04402150043846572)\n",
        "(0.742738037652939, 0.043994555290613219)\n",
        "(0.74237441003764393, 0.043968216412862408)"
       ]
      },
      {
       "output_type": "stream",
       "stream": "stdout",
       "text": [
        "\n",
        "(0.74201976946996151, 0.043942205698997976)\n",
        "(0.74167286912099839, 0.043916379812210971)\n",
        "(0.74133306108649399, 0.043890788362835567)"
       ]
      },
      {
       "output_type": "stream",
       "stream": "stdout",
       "text": [
        "\n",
        "(0.74100053202999561, 0.043865455147532373)\n",
        "(0.74067586927284845, 0.043840198300657364)\n",
        "(0.74035916775855581, 0.043814685654330381)"
       ]
      },
      {
       "output_type": "stream",
       "stream": "stdout",
       "text": [
        "\n",
        "(0.74004916410980448, 0.043788588652392851)\n",
        "(0.73974300039439733, 0.043761727490802649)\n",
        "(0.73943746852513725, 0.043734116502891975)"
       ]
      },
      {
       "output_type": "stream",
       "stream": "stdout",
       "text": [
        "\n",
        "(0.73913160040251979, 0.043705866427787829)\n",
        "(0.73882798431732744, 0.043677105391450741)\n",
        "(0.73853072112189255, 0.043647938221160414)"
       ]
      },
      {
       "output_type": "stream",
       "stream": "stdout",
       "text": [
        "\n",
        "(0.73824300193079273, 0.043618298101049141)\n",
        "(0.73796794355788575, 0.043588084055851919)\n",
        "(0.73771161527944251, 0.043557622498588439)"
       ]
      },
      {
       "output_type": "stream",
       "stream": "stdout",
       "text": [
        "\n",
        "(0.73748315250657481, 0.043527446170156567)\n",
        "(0.73728152814619541, 0.043498430219531863)\n",
        "(0.73708742639953584, 0.043472061629770291)"
       ]
      },
      {
       "output_type": "stream",
       "stream": "stdout",
       "text": [
        "\n",
        "(0.73688815154998688, 0.043448782498565021)\n",
        "(0.73668452546260876, 0.043427975638982472)\n",
        "(0.73647963419419959, 0.043409018582542619)"
       ]
      },
      {
       "output_type": "stream",
       "stream": "stdout",
       "text": [
        "\n",
        "(0.73627500351552488, 0.043391484320626457)\n",
        "(0.73607111102479139, 0.043375080429137028)\n",
        "(0.73586801450391148, 0.04335959936801774)"
       ]
      },
      {
       "output_type": "stream",
       "stream": "stdout",
       "text": [
        "\n",
        "(0.7356656358878586, 0.043344889365632577)\n",
        "(0.735463866156843, 0.04333083632717713)\n",
        "(0.73526259920945791, 0.043317351957572074)"
       ]
      },
      {
       "output_type": "stream",
       "stream": "stdout",
       "text": [
        "\n",
        "(0.73506173930774099, 0.043304365815685655)\n",
        "(0.73486119907002601, 0.04329182001092724)\n",
        "(0.7346608944918025, 0.043279665677361842)"
       ]
      },
      {
       "output_type": "stream",
       "stream": "stdout",
       "text": [
        "\n",
        "(0.7344607395683298, 0.043267860589886631)\n",
        "(0.73426064170908678, 0.04325636746526601)\n",
        "(0.734060498564991, 0.043245152654616634)"
       ]
      },
      {
       "output_type": "stream",
       "stream": "stdout",
       "text": [
        "\n",
        "(0.73386019637591116, 0.04323418507123955)\n",
        "(0.73365960954504927, 0.04322343531251336)\n",
        "(0.73345860139821206, 0.043212875082812081)"
       ]
      },
      {
       "output_type": "stream",
       "stream": "stdout",
       "text": [
        "\n",
        "(0.73325702731549813, 0.04320247726879041)\n",
        "(0.73305474291098704, 0.043192217252993777)\n",
        "(0.73285161882124839, 0.043182075721734964)"
       ]
      },
      {
       "output_type": "stream",
       "stream": "stdout",
       "text": [
        "\n",
        "(0.73264755624085676, 0.043172041603468429)\n",
        "(0.73244248831000958, 0.043162111893303254)\n",
        "(0.73223635916100993, 0.043152286519564036)"
       ]
      },
      {
       "output_type": "stream",
       "stream": "stdout",
       "text": [
        "\n",
        "(0.73202909536546279, 0.043142561192036306)\n",
        "(0.73182059275680567, 0.043132922974803797)\n",
        "(0.73161072888378986, 0.043123350052255822)"
       ]
      },
      {
       "output_type": "stream",
       "stream": "stdout",
       "text": [
        "\n",
        "(0.73139940688752259, 0.04311381418653365)\n",
        "(0.73118664019941693, 0.043104283834258593)\n",
        "(0.73097266324986065, 0.043094725651297273)"
       ]
      },
      {
       "output_type": "stream",
       "stream": "stdout",
       "text": [
        "\n",
        "(0.73075800433307303, 0.043085104238910259)\n",
        "(0.73054344341762067, 0.043075387228217521)\n",
        "(0.73032981654569351, 0.043065560009109077)"
       ]
      },
      {
       "output_type": "stream",
       "stream": "stdout",
       "text": [
        "\n",
        "(0.73011778198262567, 0.043055631891812399)\n",
        "(0.72990776220036269, 0.043045625685010455)\n",
        "(0.7296999247150312, 0.043035583711772463)"
       ]
      },
      {
       "output_type": "stream",
       "stream": "stdout",
       "text": [
        "\n"
       ]
      }
     ],
     "prompt_number": 9
    },
    {
     "cell_type": "code",
     "collapsed": false,
     "input": [
      "imshow(sample.real)"
     ],
     "language": "python",
     "metadata": {},
     "outputs": [
      {
       "metadata": {},
       "output_type": "pyout",
       "prompt_number": 10,
       "text": [
        "<matplotlib.image.AxesImage at 0xa6145ec>"
       ]
      },
      {
       "metadata": {},
       "output_type": "display_data",
       "png": "[encoded data removed]",
       "text": [
        "<matplotlib.figure.Figure at 0xa331bec>"
       ]
      }
     ],
     "prompt_number": 10
    },
    {
     "cell_type": "code",
     "collapsed": false,
     "input": [
      "gs = GridSpec(1,4)\n",
      "\n",
      "ax = subplot(gs[0,0])\n",
      "ax.imshow(F)\n",
      "ax.set_title('F')\n",
      "\n",
      "ax = subplot(gs[0,1])\n",
      "ax.imshow(L(F))\n",
      "ax.set_title('L{F}')\n",
      "\n",
      "ax = subplot(gs[0,2])\n",
      "ax.imshow(np.log(I))\n",
      "ax.set_title('Diffraction pattern')\n",
      "\n",
      "ax = subplot(gs[0,3])\n",
      "ax.imshow(sample.real)\n",
      "ax.set_title('retrieved sample')\n",
      "\n",
      "fig = gcf()\n",
      "fig.set_size_inches(20,5)"
     ],
     "language": "python",
     "metadata": {},
     "outputs": [
      {
       "output_type": "stream",
       "stream": "stderr",
       "text": [
        "-c:12: RuntimeWarning: divide by zero encountered in log\n"
       ]
      },
      {
       "metadata": {},
       "output_type": "display_data",
       "png": "[encoded data removed]",
       "text": [
        "<matplotlib.figure.Figure at 0xa61484c>"
       ]
      }
     ],
     "prompt_number": 12
    },
    {
     "cell_type": "code",
     "collapsed": false,
     "input": [],
     "language": "python",
     "metadata": {},
     "outputs": [],
     "prompt_number": 22
    }
   ],
   "metadata": {}
  }
 ]
}